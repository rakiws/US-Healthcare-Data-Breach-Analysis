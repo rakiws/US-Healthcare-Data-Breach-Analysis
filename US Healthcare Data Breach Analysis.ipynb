{
 "cells": [
  {
   "cell_type": "markdown",
   "metadata": {},
   "source": [
    "# US Healthcare Data Breach Analysis"
   ]
  },
  {
   "cell_type": "markdown",
   "metadata": {},
   "source": [
    "## Python libraries used for the analysis"
   ]
  },
  {
   "cell_type": "code",
   "execution_count": 1,
   "metadata": {},
   "outputs": [
    {
     "data": {
      "text/html": [
       "        <script type=\"text/javascript\">\n",
       "        window.PlotlyConfig = {MathJaxConfig: 'local'};\n",
       "        if (window.MathJax) {MathJax.Hub.Config({SVG: {font: \"STIX-Web\"}});}\n",
       "        if (typeof require !== 'undefined') {\n",
       "        require.undef(\"plotly\");\n",
       "        requirejs.config({\n",
       "            paths: {\n",
       "                'plotly': ['https://cdn.plot.ly/plotly-2.2.0.min']\n",
       "            }\n",
       "        });\n",
       "        require(['plotly'], function(Plotly) {\n",
       "            window._Plotly = Plotly;\n",
       "        });\n",
       "        }\n",
       "        </script>\n",
       "        "
      ]
     },
     "metadata": {},
     "output_type": "display_data"
    },
    {
     "data": {
      "text/html": [
       "        <script type=\"text/javascript\">\n",
       "        window.PlotlyConfig = {MathJaxConfig: 'local'};\n",
       "        if (window.MathJax) {MathJax.Hub.Config({SVG: {font: \"STIX-Web\"}});}\n",
       "        if (typeof require !== 'undefined') {\n",
       "        require.undef(\"plotly\");\n",
       "        requirejs.config({\n",
       "            paths: {\n",
       "                'plotly': ['https://cdn.plot.ly/plotly-2.2.0.min']\n",
       "            }\n",
       "        });\n",
       "        require(['plotly'], function(Plotly) {\n",
       "            window._Plotly = Plotly;\n",
       "        });\n",
       "        }\n",
       "        </script>\n",
       "        "
      ]
     },
     "metadata": {},
     "output_type": "display_data"
    },
    {
     "data": {
      "text/html": [
       "        <script type=\"text/javascript\">\n",
       "        window.PlotlyConfig = {MathJaxConfig: 'local'};\n",
       "        if (window.MathJax) {MathJax.Hub.Config({SVG: {font: \"STIX-Web\"}});}\n",
       "        if (typeof require !== 'undefined') {\n",
       "        require.undef(\"plotly\");\n",
       "        requirejs.config({\n",
       "            paths: {\n",
       "                'plotly': ['https://cdn.plot.ly/plotly-2.2.0.min']\n",
       "            }\n",
       "        });\n",
       "        require(['plotly'], function(Plotly) {\n",
       "            window._Plotly = Plotly;\n",
       "        });\n",
       "        }\n",
       "        </script>\n",
       "        "
      ]
     },
     "metadata": {},
     "output_type": "display_data"
    },
    {
     "data": {
      "text/html": [
       "        <script type=\"text/javascript\">\n",
       "        window.PlotlyConfig = {MathJaxConfig: 'local'};\n",
       "        if (window.MathJax) {MathJax.Hub.Config({SVG: {font: \"STIX-Web\"}});}\n",
       "        if (typeof require !== 'undefined') {\n",
       "        require.undef(\"plotly\");\n",
       "        requirejs.config({\n",
       "            paths: {\n",
       "                'plotly': ['https://cdn.plot.ly/plotly-2.2.0.min']\n",
       "            }\n",
       "        });\n",
       "        require(['plotly'], function(Plotly) {\n",
       "            window._Plotly = Plotly;\n",
       "        });\n",
       "        }\n",
       "        </script>\n",
       "        "
      ]
     },
     "metadata": {},
     "output_type": "display_data"
    }
   ],
   "source": [
    "import pandas as pd\n",
    "import numpy as np\n",
    "import matplotlib.pyplot as plt\n",
    "from matplotlib.ticker import ScalarFormatter\n",
    "%matplotlib inline\n",
    "import seaborn as sns\n",
    "import plotly as py\n",
    "\n",
    "import cufflinks as cf\n",
    "import plotly.graph_objs as go\n",
    "from plotly.offline import download_plotlyjs,init_notebook_mode,plot,iplot\n",
    "\n",
    "init_notebook_mode(connected=True)\n",
    "cf.go_offline()\n",
    "cf.set_config_file(offline=True, world_readable=True, theme='ggplot')"
   ]
  },
  {
   "cell_type": "markdown",
   "metadata": {},
   "source": [
    "## Reading the dataset"
   ]
  },
  {
   "cell_type": "code",
   "execution_count": 2,
   "metadata": {},
   "outputs": [],
   "source": [
    "df = pd.read_csv('Data/breach_report.csv')"
   ]
  },
  {
   "cell_type": "code",
   "execution_count": 3,
   "metadata": {},
   "outputs": [
    {
     "name": "stdout",
     "output_type": "stream",
     "text": [
      "<class 'pandas.core.frame.DataFrame'>\n",
      "RangeIndex: 3308 entries, 0 to 3307\n",
      "Data columns (total 9 columns):\n",
      " #   Column                            Non-Null Count  Dtype  \n",
      "---  ------                            --------------  -----  \n",
      " 0   Name of Covered Entity            3308 non-null   object \n",
      " 1   State                             3298 non-null   object \n",
      " 2   Covered Entity Type               3304 non-null   object \n",
      " 3   Individuals Affected              3307 non-null   float64\n",
      " 4   Breach Submission Date            3308 non-null   object \n",
      " 5   Type of Breach                    3307 non-null   object \n",
      " 6   Location of Breached Information  3308 non-null   object \n",
      " 7   Business Associate Present        3308 non-null   object \n",
      " 8   Web Description                   3058 non-null   object \n",
      "dtypes: float64(1), object(8)\n",
      "memory usage: 232.7+ KB\n"
     ]
    }
   ],
   "source": [
    "df.info()"
   ]
  },
  {
   "cell_type": "code",
   "execution_count": 4,
   "metadata": {},
   "outputs": [
    {
     "data": {
      "text/html": [
       "<div>\n",
       "<style scoped>\n",
       "    .dataframe tbody tr th:only-of-type {\n",
       "        vertical-align: middle;\n",
       "    }\n",
       "\n",
       "    .dataframe tbody tr th {\n",
       "        vertical-align: top;\n",
       "    }\n",
       "\n",
       "    .dataframe thead th {\n",
       "        text-align: right;\n",
       "    }\n",
       "</style>\n",
       "<table border=\"1\" class=\"dataframe\">\n",
       "  <thead>\n",
       "    <tr style=\"text-align: right;\">\n",
       "      <th></th>\n",
       "      <th>Name of Covered Entity</th>\n",
       "      <th>State</th>\n",
       "      <th>Covered Entity Type</th>\n",
       "      <th>Individuals Affected</th>\n",
       "      <th>Breach Submission Date</th>\n",
       "      <th>Type of Breach</th>\n",
       "      <th>Location of Breached Information</th>\n",
       "      <th>Business Associate Present</th>\n",
       "      <th>Web Description</th>\n",
       "    </tr>\n",
       "  </thead>\n",
       "  <tbody>\n",
       "    <tr>\n",
       "      <th>0</th>\n",
       "      <td>Nissan North America, Inc.</td>\n",
       "      <td>TN</td>\n",
       "      <td>Health Plan</td>\n",
       "      <td>50410.0</td>\n",
       "      <td>12/31/2020</td>\n",
       "      <td>Hacking/IT Incident</td>\n",
       "      <td>Email, Network Server</td>\n",
       "      <td>Yes</td>\n",
       "      <td>Magellan Rx Pharmacy, the covered entity (CE),...</td>\n",
       "    </tr>\n",
       "    <tr>\n",
       "      <th>1</th>\n",
       "      <td>Northwestern Memorial Hospital</td>\n",
       "      <td>IL</td>\n",
       "      <td>Healthcare Provider</td>\n",
       "      <td>682.0</td>\n",
       "      <td>12/30/2020</td>\n",
       "      <td>Unauthorized Access/Disclosure</td>\n",
       "      <td>Electronic Medical Record</td>\n",
       "      <td>No</td>\n",
       "      <td>The covered entity (CE), Northwestern Memorial...</td>\n",
       "    </tr>\n",
       "    <tr>\n",
       "      <th>2</th>\n",
       "      <td>Home State Health Plan, Inc.</td>\n",
       "      <td>MO</td>\n",
       "      <td>Health Plan</td>\n",
       "      <td>1020.0</td>\n",
       "      <td>12/30/2020</td>\n",
       "      <td>Unauthorized Access/Disclosure</td>\n",
       "      <td>Paper/Films</td>\n",
       "      <td>Yes</td>\n",
       "      <td>The covered entity (CE), Home State Health Pla...</td>\n",
       "    </tr>\n",
       "    <tr>\n",
       "      <th>3</th>\n",
       "      <td>Beebe Medical Foundation</td>\n",
       "      <td>DE</td>\n",
       "      <td>Healthcare Provider</td>\n",
       "      <td>56953.0</td>\n",
       "      <td>12/28/2020</td>\n",
       "      <td>Hacking/IT Incident</td>\n",
       "      <td>Network Server</td>\n",
       "      <td>Yes</td>\n",
       "      <td>The covered entity (CE), Beebe Medical Foundat...</td>\n",
       "    </tr>\n",
       "    <tr>\n",
       "      <th>4</th>\n",
       "      <td>Community Health Resources, Inc</td>\n",
       "      <td>CT</td>\n",
       "      <td>Healthcare Provider</td>\n",
       "      <td>1634.0</td>\n",
       "      <td>12/28/2020</td>\n",
       "      <td>Unauthorized Access/Disclosure</td>\n",
       "      <td>Email</td>\n",
       "      <td>No</td>\n",
       "      <td>The covered entity (CE), Community Health Reso...</td>\n",
       "    </tr>\n",
       "  </tbody>\n",
       "</table>\n",
       "</div>"
      ],
      "text/plain": [
       "            Name of Covered Entity State  Covered Entity Type  \\\n",
       "0      Nissan North America, Inc.     TN          Health Plan   \n",
       "1   Northwestern Memorial Hospital    IL  Healthcare Provider   \n",
       "2     Home State Health Plan, Inc.    MO          Health Plan   \n",
       "3         Beebe Medical Foundation    DE  Healthcare Provider   \n",
       "4  Community Health Resources, Inc    CT  Healthcare Provider   \n",
       "\n",
       "   Individuals Affected Breach Submission Date  \\\n",
       "0               50410.0             12/31/2020   \n",
       "1                 682.0             12/30/2020   \n",
       "2                1020.0             12/30/2020   \n",
       "3               56953.0             12/28/2020   \n",
       "4                1634.0             12/28/2020   \n",
       "\n",
       "                   Type of Breach Location of Breached Information  \\\n",
       "0             Hacking/IT Incident            Email, Network Server   \n",
       "1  Unauthorized Access/Disclosure        Electronic Medical Record   \n",
       "2  Unauthorized Access/Disclosure                      Paper/Films   \n",
       "3             Hacking/IT Incident                   Network Server   \n",
       "4  Unauthorized Access/Disclosure                            Email   \n",
       "\n",
       "  Business Associate Present  \\\n",
       "0                        Yes   \n",
       "1                         No   \n",
       "2                        Yes   \n",
       "3                        Yes   \n",
       "4                         No   \n",
       "\n",
       "                                     Web Description  \n",
       "0  Magellan Rx Pharmacy, the covered entity (CE),...  \n",
       "1  The covered entity (CE), Northwestern Memorial...  \n",
       "2  The covered entity (CE), Home State Health Pla...  \n",
       "3  The covered entity (CE), Beebe Medical Foundat...  \n",
       "4  The covered entity (CE), Community Health Reso...  "
      ]
     },
     "execution_count": 4,
     "metadata": {},
     "output_type": "execute_result"
    }
   ],
   "source": [
    "df.head()"
   ]
  },
  {
   "cell_type": "markdown",
   "metadata": {},
   "source": [
    "## Data Pre-Processing"
   ]
  },
  {
   "cell_type": "raw",
   "metadata": {},
   "source": [
    "Removing columns irrelevant to the analysis"
   ]
  },
  {
   "cell_type": "code",
   "execution_count": 5,
   "metadata": {},
   "outputs": [],
   "source": [
    "df.drop(columns='Web Description', inplace=True)"
   ]
  },
  {
   "cell_type": "code",
   "execution_count": 6,
   "metadata": {},
   "outputs": [
    {
     "data": {
      "text/html": [
       "<div>\n",
       "<style scoped>\n",
       "    .dataframe tbody tr th:only-of-type {\n",
       "        vertical-align: middle;\n",
       "    }\n",
       "\n",
       "    .dataframe tbody tr th {\n",
       "        vertical-align: top;\n",
       "    }\n",
       "\n",
       "    .dataframe thead th {\n",
       "        text-align: right;\n",
       "    }\n",
       "</style>\n",
       "<table border=\"1\" class=\"dataframe\">\n",
       "  <thead>\n",
       "    <tr style=\"text-align: right;\">\n",
       "      <th></th>\n",
       "      <th>Name of Covered Entity</th>\n",
       "      <th>State</th>\n",
       "      <th>Covered Entity Type</th>\n",
       "      <th>Individuals Affected</th>\n",
       "      <th>Breach Submission Date</th>\n",
       "      <th>Type of Breach</th>\n",
       "      <th>Location of Breached Information</th>\n",
       "      <th>Business Associate Present</th>\n",
       "    </tr>\n",
       "  </thead>\n",
       "  <tbody>\n",
       "    <tr>\n",
       "      <th>0</th>\n",
       "      <td>Nissan North America, Inc.</td>\n",
       "      <td>TN</td>\n",
       "      <td>Health Plan</td>\n",
       "      <td>50410.0</td>\n",
       "      <td>12/31/2020</td>\n",
       "      <td>Hacking/IT Incident</td>\n",
       "      <td>Email, Network Server</td>\n",
       "      <td>Yes</td>\n",
       "    </tr>\n",
       "    <tr>\n",
       "      <th>1</th>\n",
       "      <td>Northwestern Memorial Hospital</td>\n",
       "      <td>IL</td>\n",
       "      <td>Healthcare Provider</td>\n",
       "      <td>682.0</td>\n",
       "      <td>12/30/2020</td>\n",
       "      <td>Unauthorized Access/Disclosure</td>\n",
       "      <td>Electronic Medical Record</td>\n",
       "      <td>No</td>\n",
       "    </tr>\n",
       "    <tr>\n",
       "      <th>2</th>\n",
       "      <td>Home State Health Plan, Inc.</td>\n",
       "      <td>MO</td>\n",
       "      <td>Health Plan</td>\n",
       "      <td>1020.0</td>\n",
       "      <td>12/30/2020</td>\n",
       "      <td>Unauthorized Access/Disclosure</td>\n",
       "      <td>Paper/Films</td>\n",
       "      <td>Yes</td>\n",
       "    </tr>\n",
       "    <tr>\n",
       "      <th>3</th>\n",
       "      <td>Beebe Medical Foundation</td>\n",
       "      <td>DE</td>\n",
       "      <td>Healthcare Provider</td>\n",
       "      <td>56953.0</td>\n",
       "      <td>12/28/2020</td>\n",
       "      <td>Hacking/IT Incident</td>\n",
       "      <td>Network Server</td>\n",
       "      <td>Yes</td>\n",
       "    </tr>\n",
       "    <tr>\n",
       "      <th>4</th>\n",
       "      <td>Community Health Resources, Inc</td>\n",
       "      <td>CT</td>\n",
       "      <td>Healthcare Provider</td>\n",
       "      <td>1634.0</td>\n",
       "      <td>12/28/2020</td>\n",
       "      <td>Unauthorized Access/Disclosure</td>\n",
       "      <td>Email</td>\n",
       "      <td>No</td>\n",
       "    </tr>\n",
       "  </tbody>\n",
       "</table>\n",
       "</div>"
      ],
      "text/plain": [
       "            Name of Covered Entity State  Covered Entity Type  \\\n",
       "0      Nissan North America, Inc.     TN          Health Plan   \n",
       "1   Northwestern Memorial Hospital    IL  Healthcare Provider   \n",
       "2     Home State Health Plan, Inc.    MO          Health Plan   \n",
       "3         Beebe Medical Foundation    DE  Healthcare Provider   \n",
       "4  Community Health Resources, Inc    CT  Healthcare Provider   \n",
       "\n",
       "   Individuals Affected Breach Submission Date  \\\n",
       "0               50410.0             12/31/2020   \n",
       "1                 682.0             12/30/2020   \n",
       "2                1020.0             12/30/2020   \n",
       "3               56953.0             12/28/2020   \n",
       "4                1634.0             12/28/2020   \n",
       "\n",
       "                   Type of Breach Location of Breached Information  \\\n",
       "0             Hacking/IT Incident            Email, Network Server   \n",
       "1  Unauthorized Access/Disclosure        Electronic Medical Record   \n",
       "2  Unauthorized Access/Disclosure                      Paper/Films   \n",
       "3             Hacking/IT Incident                   Network Server   \n",
       "4  Unauthorized Access/Disclosure                            Email   \n",
       "\n",
       "  Business Associate Present  \n",
       "0                        Yes  \n",
       "1                         No  \n",
       "2                        Yes  \n",
       "3                        Yes  \n",
       "4                         No  "
      ]
     },
     "execution_count": 6,
     "metadata": {},
     "output_type": "execute_result"
    }
   ],
   "source": [
    "df.head()"
   ]
  },
  {
   "cell_type": "raw",
   "metadata": {},
   "source": [
    "Determining if any fields contains null values."
   ]
  },
  {
   "cell_type": "code",
   "execution_count": 7,
   "metadata": {},
   "outputs": [
    {
     "data": {
      "text/plain": [
       "Name of Covered Entity              False\n",
       "State                                True\n",
       "Covered Entity Type                  True\n",
       "Individuals Affected                 True\n",
       "Breach Submission Date              False\n",
       "Type of Breach                       True\n",
       "Location of Breached Information    False\n",
       "Business Associate Present          False\n",
       "dtype: bool"
      ]
     },
     "execution_count": 7,
     "metadata": {},
     "output_type": "execute_result"
    }
   ],
   "source": [
    "df.isnull().any()"
   ]
  },
  {
   "cell_type": "code",
   "execution_count": 8,
   "metadata": {},
   "outputs": [
    {
     "data": {
      "text/html": [
       "<div>\n",
       "<style scoped>\n",
       "    .dataframe tbody tr th:only-of-type {\n",
       "        vertical-align: middle;\n",
       "    }\n",
       "\n",
       "    .dataframe tbody tr th {\n",
       "        vertical-align: top;\n",
       "    }\n",
       "\n",
       "    .dataframe thead th {\n",
       "        text-align: right;\n",
       "    }\n",
       "</style>\n",
       "<table border=\"1\" class=\"dataframe\">\n",
       "  <thead>\n",
       "    <tr style=\"text-align: right;\">\n",
       "      <th></th>\n",
       "      <th>Name of Covered Entity</th>\n",
       "      <th>State</th>\n",
       "      <th>Covered Entity Type</th>\n",
       "      <th>Individuals Affected</th>\n",
       "      <th>Breach Submission Date</th>\n",
       "      <th>Type of Breach</th>\n",
       "      <th>Location of Breached Information</th>\n",
       "      <th>Business Associate Present</th>\n",
       "    </tr>\n",
       "  </thead>\n",
       "  <tbody>\n",
       "    <tr>\n",
       "      <th>400</th>\n",
       "      <td>Intramural Practice Plan - Medical Sciences Ca...</td>\n",
       "      <td>NaN</td>\n",
       "      <td>Healthcare Provider</td>\n",
       "      <td>439753.0</td>\n",
       "      <td>09/16/2019</td>\n",
       "      <td>Hacking/IT Incident</td>\n",
       "      <td>Network Server</td>\n",
       "      <td>No</td>\n",
       "    </tr>\n",
       "    <tr>\n",
       "      <th>482</th>\n",
       "      <td>Bayamon Medical Center Corp.</td>\n",
       "      <td>NaN</td>\n",
       "      <td>Healthcare Provider</td>\n",
       "      <td>422496.0</td>\n",
       "      <td>07/19/2019</td>\n",
       "      <td>Hacking/IT Incident</td>\n",
       "      <td>Network Server</td>\n",
       "      <td>No</td>\n",
       "    </tr>\n",
       "    <tr>\n",
       "      <th>483</th>\n",
       "      <td>Puerto Rico Women And Children's Hospital, LLC</td>\n",
       "      <td>NaN</td>\n",
       "      <td>Healthcare Provider</td>\n",
       "      <td>99943.0</td>\n",
       "      <td>07/19/2019</td>\n",
       "      <td>Hacking/IT Incident</td>\n",
       "      <td>Network Server</td>\n",
       "      <td>No</td>\n",
       "    </tr>\n",
       "    <tr>\n",
       "      <th>565</th>\n",
       "      <td>Farmacia La Amistad Inc.</td>\n",
       "      <td>NaN</td>\n",
       "      <td>Healthcare Provider</td>\n",
       "      <td>2500.0</td>\n",
       "      <td>05/24/2019</td>\n",
       "      <td>Hacking/IT Incident</td>\n",
       "      <td>Network Server</td>\n",
       "      <td>No</td>\n",
       "    </tr>\n",
       "    <tr>\n",
       "      <th>591</th>\n",
       "      <td>Inmediata Health Group, Corp.</td>\n",
       "      <td>NaN</td>\n",
       "      <td>Healthcare Clearing House</td>\n",
       "      <td>1565338.0</td>\n",
       "      <td>05/07/2019</td>\n",
       "      <td>Unauthorized Access/Disclosure</td>\n",
       "      <td>Network Server</td>\n",
       "      <td>No</td>\n",
       "    </tr>\n",
       "    <tr>\n",
       "      <th>601</th>\n",
       "      <td>Inspira Behavioral Care, Corp</td>\n",
       "      <td>NaN</td>\n",
       "      <td>Healthcare Provider</td>\n",
       "      <td>4246.0</td>\n",
       "      <td>05/02/2019</td>\n",
       "      <td>Theft</td>\n",
       "      <td>Desktop Computer</td>\n",
       "      <td>No</td>\n",
       "    </tr>\n",
       "    <tr>\n",
       "      <th>632</th>\n",
       "      <td>Metro Santurce, Inc. d/b/a Hospital Pavia Sant...</td>\n",
       "      <td>NaN</td>\n",
       "      <td>Healthcare Provider</td>\n",
       "      <td>305737.0</td>\n",
       "      <td>04/13/2019</td>\n",
       "      <td>Hacking/IT Incident</td>\n",
       "      <td>Network Server</td>\n",
       "      <td>No</td>\n",
       "    </tr>\n",
       "    <tr>\n",
       "      <th>1100</th>\n",
       "      <td>Triple-S Advantage, Inc.</td>\n",
       "      <td>NaN</td>\n",
       "      <td>Health Plan</td>\n",
       "      <td>36305.0</td>\n",
       "      <td>02/02/2018</td>\n",
       "      <td>Unauthorized Access/Disclosure</td>\n",
       "      <td>Paper/Films</td>\n",
       "      <td>No</td>\n",
       "    </tr>\n",
       "    <tr>\n",
       "      <th>1992</th>\n",
       "      <td>Puerto Rico Department of Heatlh - Medicaid Pr...</td>\n",
       "      <td>NaN</td>\n",
       "      <td>Health Plan</td>\n",
       "      <td>500.0</td>\n",
       "      <td>04/22/2015</td>\n",
       "      <td>Theft</td>\n",
       "      <td>Other</td>\n",
       "      <td>No</td>\n",
       "    </tr>\n",
       "    <tr>\n",
       "      <th>3064</th>\n",
       "      <td>Departamento de Salud de Puerto Rico</td>\n",
       "      <td>NaN</td>\n",
       "      <td>Healthcare Provider</td>\n",
       "      <td>2621.0</td>\n",
       "      <td>02/22/2011</td>\n",
       "      <td>Loss</td>\n",
       "      <td>Other Portable Electronic Device</td>\n",
       "      <td>No</td>\n",
       "    </tr>\n",
       "  </tbody>\n",
       "</table>\n",
       "</div>"
      ],
      "text/plain": [
       "                                 Name of Covered Entity State  \\\n",
       "400   Intramural Practice Plan - Medical Sciences Ca...   NaN   \n",
       "482                        Bayamon Medical Center Corp.   NaN   \n",
       "483      Puerto Rico Women And Children's Hospital, LLC   NaN   \n",
       "565                            Farmacia La Amistad Inc.   NaN   \n",
       "591                       Inmediata Health Group, Corp.   NaN   \n",
       "601                       Inspira Behavioral Care, Corp   NaN   \n",
       "632   Metro Santurce, Inc. d/b/a Hospital Pavia Sant...   NaN   \n",
       "1100                          Triple-S Advantage, Inc.    NaN   \n",
       "1992  Puerto Rico Department of Heatlh - Medicaid Pr...   NaN   \n",
       "3064               Departamento de Salud de Puerto Rico   NaN   \n",
       "\n",
       "            Covered Entity Type  Individuals Affected Breach Submission Date  \\\n",
       "400         Healthcare Provider              439753.0             09/16/2019   \n",
       "482         Healthcare Provider              422496.0             07/19/2019   \n",
       "483         Healthcare Provider               99943.0             07/19/2019   \n",
       "565         Healthcare Provider                2500.0             05/24/2019   \n",
       "591   Healthcare Clearing House             1565338.0             05/07/2019   \n",
       "601         Healthcare Provider                4246.0             05/02/2019   \n",
       "632         Healthcare Provider              305737.0             04/13/2019   \n",
       "1100                Health Plan               36305.0             02/02/2018   \n",
       "1992                Health Plan                 500.0             04/22/2015   \n",
       "3064        Healthcare Provider                2621.0             02/22/2011   \n",
       "\n",
       "                      Type of Breach  Location of Breached Information  \\\n",
       "400              Hacking/IT Incident                    Network Server   \n",
       "482              Hacking/IT Incident                    Network Server   \n",
       "483              Hacking/IT Incident                    Network Server   \n",
       "565              Hacking/IT Incident                    Network Server   \n",
       "591   Unauthorized Access/Disclosure                    Network Server   \n",
       "601                            Theft                  Desktop Computer   \n",
       "632              Hacking/IT Incident                    Network Server   \n",
       "1100  Unauthorized Access/Disclosure                       Paper/Films   \n",
       "1992                           Theft                             Other   \n",
       "3064                            Loss  Other Portable Electronic Device   \n",
       "\n",
       "     Business Associate Present  \n",
       "400                          No  \n",
       "482                          No  \n",
       "483                          No  \n",
       "565                          No  \n",
       "591                          No  \n",
       "601                          No  \n",
       "632                          No  \n",
       "1100                         No  \n",
       "1992                         No  \n",
       "3064                         No  "
      ]
     },
     "execution_count": 8,
     "metadata": {},
     "output_type": "execute_result"
    }
   ],
   "source": [
    "df[df['State'].isnull()]"
   ]
  },
  {
   "cell_type": "code",
   "execution_count": 9,
   "metadata": {},
   "outputs": [
    {
     "data": {
      "text/html": [
       "<div>\n",
       "<style scoped>\n",
       "    .dataframe tbody tr th:only-of-type {\n",
       "        vertical-align: middle;\n",
       "    }\n",
       "\n",
       "    .dataframe tbody tr th {\n",
       "        vertical-align: top;\n",
       "    }\n",
       "\n",
       "    .dataframe thead th {\n",
       "        text-align: right;\n",
       "    }\n",
       "</style>\n",
       "<table border=\"1\" class=\"dataframe\">\n",
       "  <thead>\n",
       "    <tr style=\"text-align: right;\">\n",
       "      <th></th>\n",
       "      <th>Name of Covered Entity</th>\n",
       "      <th>State</th>\n",
       "      <th>Covered Entity Type</th>\n",
       "      <th>Individuals Affected</th>\n",
       "      <th>Breach Submission Date</th>\n",
       "      <th>Type of Breach</th>\n",
       "      <th>Location of Breached Information</th>\n",
       "      <th>Business Associate Present</th>\n",
       "    </tr>\n",
       "  </thead>\n",
       "  <tbody>\n",
       "    <tr>\n",
       "      <th>998</th>\n",
       "      <td>Boys Town National Research Hospital</td>\n",
       "      <td>NE</td>\n",
       "      <td>NaN</td>\n",
       "      <td>2182.0</td>\n",
       "      <td>05/09/2018</td>\n",
       "      <td>Hacking/IT Incident</td>\n",
       "      <td>Email</td>\n",
       "      <td>Yes</td>\n",
       "    </tr>\n",
       "    <tr>\n",
       "      <th>2210</th>\n",
       "      <td>BioReference Laboratories Inc</td>\n",
       "      <td>NJ</td>\n",
       "      <td>NaN</td>\n",
       "      <td>3334.0</td>\n",
       "      <td>07/23/2014</td>\n",
       "      <td>Unauthorized Access/Disclosure</td>\n",
       "      <td>Network Server</td>\n",
       "      <td>Yes</td>\n",
       "    </tr>\n",
       "    <tr>\n",
       "      <th>2265</th>\n",
       "      <td>Boston Medical Center</td>\n",
       "      <td>MA</td>\n",
       "      <td>NaN</td>\n",
       "      <td>15265.0</td>\n",
       "      <td>04/29/2014</td>\n",
       "      <td>Unauthorized Access/Disclosure</td>\n",
       "      <td>Network Server</td>\n",
       "      <td>Yes</td>\n",
       "    </tr>\n",
       "    <tr>\n",
       "      <th>2340</th>\n",
       "      <td>HealthSource of Ohio Inc.</td>\n",
       "      <td>OH</td>\n",
       "      <td>NaN</td>\n",
       "      <td>8845.0</td>\n",
       "      <td>02/26/2014</td>\n",
       "      <td>Unauthorized Access/Disclosure</td>\n",
       "      <td>Other</td>\n",
       "      <td>Yes</td>\n",
       "    </tr>\n",
       "  </tbody>\n",
       "</table>\n",
       "</div>"
      ],
      "text/plain": [
       "                    Name of Covered Entity State Covered Entity Type  \\\n",
       "998   Boys Town National Research Hospital    NE                 NaN   \n",
       "2210         BioReference Laboratories Inc    NJ                 NaN   \n",
       "2265                 Boston Medical Center    MA                 NaN   \n",
       "2340             HealthSource of Ohio Inc.    OH                 NaN   \n",
       "\n",
       "      Individuals Affected Breach Submission Date  \\\n",
       "998                 2182.0             05/09/2018   \n",
       "2210                3334.0             07/23/2014   \n",
       "2265               15265.0             04/29/2014   \n",
       "2340                8845.0             02/26/2014   \n",
       "\n",
       "                      Type of Breach Location of Breached Information  \\\n",
       "998              Hacking/IT Incident                            Email   \n",
       "2210  Unauthorized Access/Disclosure                   Network Server   \n",
       "2265  Unauthorized Access/Disclosure                   Network Server   \n",
       "2340  Unauthorized Access/Disclosure                            Other   \n",
       "\n",
       "     Business Associate Present  \n",
       "998                         Yes  \n",
       "2210                        Yes  \n",
       "2265                        Yes  \n",
       "2340                        Yes  "
      ]
     },
     "execution_count": 9,
     "metadata": {},
     "output_type": "execute_result"
    }
   ],
   "source": [
    "df[df['Covered Entity Type'].isnull()]"
   ]
  },
  {
   "cell_type": "code",
   "execution_count": 10,
   "metadata": {},
   "outputs": [
    {
     "data": {
      "text/html": [
       "<div>\n",
       "<style scoped>\n",
       "    .dataframe tbody tr th:only-of-type {\n",
       "        vertical-align: middle;\n",
       "    }\n",
       "\n",
       "    .dataframe tbody tr th {\n",
       "        vertical-align: top;\n",
       "    }\n",
       "\n",
       "    .dataframe thead th {\n",
       "        text-align: right;\n",
       "    }\n",
       "</style>\n",
       "<table border=\"1\" class=\"dataframe\">\n",
       "  <thead>\n",
       "    <tr style=\"text-align: right;\">\n",
       "      <th></th>\n",
       "      <th>Name of Covered Entity</th>\n",
       "      <th>State</th>\n",
       "      <th>Covered Entity Type</th>\n",
       "      <th>Individuals Affected</th>\n",
       "      <th>Breach Submission Date</th>\n",
       "      <th>Type of Breach</th>\n",
       "      <th>Location of Breached Information</th>\n",
       "      <th>Business Associate Present</th>\n",
       "    </tr>\n",
       "  </thead>\n",
       "  <tbody>\n",
       "    <tr>\n",
       "      <th>2507</th>\n",
       "      <td>Valperaiso Fire Department</td>\n",
       "      <td>IN</td>\n",
       "      <td>Health Plan</td>\n",
       "      <td>NaN</td>\n",
       "      <td>09/03/2013</td>\n",
       "      <td>Theft</td>\n",
       "      <td>Desktop Computer</td>\n",
       "      <td>No</td>\n",
       "    </tr>\n",
       "  </tbody>\n",
       "</table>\n",
       "</div>"
      ],
      "text/plain": [
       "          Name of Covered Entity State Covered Entity Type  \\\n",
       "2507  Valperaiso Fire Department    IN         Health Plan   \n",
       "\n",
       "      Individuals Affected Breach Submission Date Type of Breach  \\\n",
       "2507                   NaN             09/03/2013          Theft   \n",
       "\n",
       "     Location of Breached Information Business Associate Present  \n",
       "2507                 Desktop Computer                         No  "
      ]
     },
     "execution_count": 10,
     "metadata": {},
     "output_type": "execute_result"
    }
   ],
   "source": [
    "df[df['Individuals Affected'].isnull()]"
   ]
  },
  {
   "cell_type": "code",
   "execution_count": 11,
   "metadata": {},
   "outputs": [
    {
     "data": {
      "text/html": [
       "<div>\n",
       "<style scoped>\n",
       "    .dataframe tbody tr th:only-of-type {\n",
       "        vertical-align: middle;\n",
       "    }\n",
       "\n",
       "    .dataframe tbody tr th {\n",
       "        vertical-align: top;\n",
       "    }\n",
       "\n",
       "    .dataframe thead th {\n",
       "        text-align: right;\n",
       "    }\n",
       "</style>\n",
       "<table border=\"1\" class=\"dataframe\">\n",
       "  <thead>\n",
       "    <tr style=\"text-align: right;\">\n",
       "      <th></th>\n",
       "      <th>Name of Covered Entity</th>\n",
       "      <th>State</th>\n",
       "      <th>Covered Entity Type</th>\n",
       "      <th>Individuals Affected</th>\n",
       "      <th>Breach Submission Date</th>\n",
       "      <th>Type of Breach</th>\n",
       "      <th>Location of Breached Information</th>\n",
       "      <th>Business Associate Present</th>\n",
       "    </tr>\n",
       "  </thead>\n",
       "  <tbody>\n",
       "    <tr>\n",
       "      <th>3253</th>\n",
       "      <td>Computer Program and Systems, Inc. (CPSI)</td>\n",
       "      <td>AL</td>\n",
       "      <td>Business Associate</td>\n",
       "      <td>768.0</td>\n",
       "      <td>03/30/2010</td>\n",
       "      <td>NaN</td>\n",
       "      <td>Email</td>\n",
       "      <td>Yes</td>\n",
       "    </tr>\n",
       "  </tbody>\n",
       "</table>\n",
       "</div>"
      ],
      "text/plain": [
       "                         Name of Covered Entity State Covered Entity Type  \\\n",
       "3253  Computer Program and Systems, Inc. (CPSI)    AL  Business Associate   \n",
       "\n",
       "      Individuals Affected Breach Submission Date Type of Breach  \\\n",
       "3253                 768.0             03/30/2010            NaN   \n",
       "\n",
       "     Location of Breached Information Business Associate Present  \n",
       "3253                            Email                        Yes  "
      ]
     },
     "execution_count": 11,
     "metadata": {},
     "output_type": "execute_result"
    }
   ],
   "source": [
    "df[df['Type of Breach'].isnull()]"
   ]
  },
  {
   "cell_type": "raw",
   "metadata": {},
   "source": [
    "Exploring each columns seperately to determine values to replace the null values"
   ]
  },
  {
   "cell_type": "code",
   "execution_count": 12,
   "metadata": {},
   "outputs": [
    {
     "data": {
      "text/plain": [
       "array(['Health Plan', 'Healthcare Provider', 'Business Associate',\n",
       "       'Healthcare Clearing House', nan], dtype=object)"
      ]
     },
     "execution_count": 12,
     "metadata": {},
     "output_type": "execute_result"
    }
   ],
   "source": [
    "df['Covered Entity Type'].unique()"
   ]
  },
  {
   "cell_type": "raw",
   "metadata": {},
   "source": [
    "Dropping 'State' and 'Covered Entity Type' as they can not be replaced unless we know their exact values"
   ]
  },
  {
   "cell_type": "code",
   "execution_count": 13,
   "metadata": {},
   "outputs": [],
   "source": [
    "df.dropna(subset=['State', 'Covered Entity Type'], inplace=True)"
   ]
  },
  {
   "cell_type": "code",
   "execution_count": 14,
   "metadata": {},
   "outputs": [
    {
     "data": {
      "text/plain": [
       "array(['Hacking/IT Incident', 'Unauthorized Access/Disclosure', 'Theft',\n",
       "       'Improper Disposal', 'Loss', 'Other',\n",
       "       'Improper Disposal, Unauthorized Access/Disclosure',\n",
       "       'Theft, Unauthorized Access/Disclosure', 'Loss, Theft',\n",
       "       'Improper Disposal, Loss, Theft', 'Hacking/IT Incident, Other',\n",
       "       'Other, Unauthorized Access/Disclosure',\n",
       "       'Other, Theft, Unauthorized Access/Disclosure',\n",
       "       'Hacking/IT Incident, Unauthorized Access/Disclosure',\n",
       "       'Loss, Other', 'Loss, Unauthorized Access/Disclosure',\n",
       "       'Improper Disposal, Loss', 'Other, Theft', 'Unknown',\n",
       "       'Hacking/IT Incident, Theft, Unauthorized Access/Disclosure',\n",
       "       'Loss, Unknown',\n",
       "       'Improper Disposal, Theft, Unauthorized Access/Disclosure',\n",
       "       'Other, Unknown', 'Loss, Other, Theft',\n",
       "       'Hacking/IT Incident, Improper Disposal, Loss, Other, Theft, Unauthorized Access/Disclosure, Unknown',\n",
       "       'Hacking/IT Incident, Theft', 'Improper Disposal, Theft',\n",
       "       'Hacking/IT Incident, Other, Unauthorized Access/Disclosure',\n",
       "       'Loss, Theft, Unauthorized Access/Disclosure, Unknown',\n",
       "       'Loss, Unauthorized Access/Disclosure, Unknown', nan], dtype=object)"
      ]
     },
     "execution_count": 14,
     "metadata": {},
     "output_type": "execute_result"
    }
   ],
   "source": [
    "df['Type of Breach'].unique()"
   ]
  },
  {
   "cell_type": "raw",
   "metadata": {},
   "source": [
    "Assigning null values to Unknown categories"
   ]
  },
  {
   "cell_type": "code",
   "execution_count": 15,
   "metadata": {},
   "outputs": [],
   "source": [
    "df['Type of Breach'].fillna('Unknown', inplace=True)"
   ]
  },
  {
   "cell_type": "raw",
   "metadata": {},
   "source": [
    "Replacing null values with zeros instead of removing the entire row and then converting it into a 64-bit integer data type."
   ]
  },
  {
   "cell_type": "code",
   "execution_count": 16,
   "metadata": {},
   "outputs": [],
   "source": [
    "df['Individuals Affected'] = df['Individuals Affected'].fillna(0).astype(np.int64)"
   ]
  },
  {
   "cell_type": "raw",
   "metadata": {},
   "source": [
    "Converting Date Time based fields to datetime data type."
   ]
  },
  {
   "cell_type": "code",
   "execution_count": 17,
   "metadata": {},
   "outputs": [],
   "source": [
    "df['Breach Submission Date'] = pd.to_datetime(df['Breach Submission Date'])"
   ]
  },
  {
   "cell_type": "raw",
   "metadata": {},
   "source": [
    "Adding an extra field 'Breach Submission Year' by extracting the year from 'Breach Submission Date' field."
   ]
  },
  {
   "cell_type": "code",
   "execution_count": 18,
   "metadata": {},
   "outputs": [],
   "source": [
    "df.insert(loc=5, column='Breach Submission Year', value=df['Breach Submission Date'].dt.year)"
   ]
  },
  {
   "cell_type": "code",
   "execution_count": 19,
   "metadata": {},
   "outputs": [],
   "source": [
    "df.insert(loc=6, column='Breach Submission Month', value=df['Breach Submission Date'].dt.month)"
   ]
  },
  {
   "cell_type": "code",
   "execution_count": 20,
   "metadata": {},
   "outputs": [],
   "source": [
    "df.insert(loc=7, column='Breach Submission Day', value=df['Breach Submission Date'].dt.isocalendar().day)"
   ]
  },
  {
   "cell_type": "code",
   "execution_count": 21,
   "metadata": {},
   "outputs": [
    {
     "data": {
      "text/html": [
       "<div>\n",
       "<style scoped>\n",
       "    .dataframe tbody tr th:only-of-type {\n",
       "        vertical-align: middle;\n",
       "    }\n",
       "\n",
       "    .dataframe tbody tr th {\n",
       "        vertical-align: top;\n",
       "    }\n",
       "\n",
       "    .dataframe thead th {\n",
       "        text-align: right;\n",
       "    }\n",
       "</style>\n",
       "<table border=\"1\" class=\"dataframe\">\n",
       "  <thead>\n",
       "    <tr style=\"text-align: right;\">\n",
       "      <th></th>\n",
       "      <th>Name of Covered Entity</th>\n",
       "      <th>State</th>\n",
       "      <th>Covered Entity Type</th>\n",
       "      <th>Individuals Affected</th>\n",
       "      <th>Breach Submission Date</th>\n",
       "      <th>Breach Submission Year</th>\n",
       "      <th>Breach Submission Month</th>\n",
       "      <th>Breach Submission Day</th>\n",
       "      <th>Type of Breach</th>\n",
       "      <th>Location of Breached Information</th>\n",
       "      <th>Business Associate Present</th>\n",
       "    </tr>\n",
       "  </thead>\n",
       "  <tbody>\n",
       "    <tr>\n",
       "      <th>0</th>\n",
       "      <td>Nissan North America, Inc.</td>\n",
       "      <td>TN</td>\n",
       "      <td>Health Plan</td>\n",
       "      <td>50410</td>\n",
       "      <td>2020-12-31</td>\n",
       "      <td>2020</td>\n",
       "      <td>12</td>\n",
       "      <td>4</td>\n",
       "      <td>Hacking/IT Incident</td>\n",
       "      <td>Email, Network Server</td>\n",
       "      <td>Yes</td>\n",
       "    </tr>\n",
       "    <tr>\n",
       "      <th>1</th>\n",
       "      <td>Northwestern Memorial Hospital</td>\n",
       "      <td>IL</td>\n",
       "      <td>Healthcare Provider</td>\n",
       "      <td>682</td>\n",
       "      <td>2020-12-30</td>\n",
       "      <td>2020</td>\n",
       "      <td>12</td>\n",
       "      <td>3</td>\n",
       "      <td>Unauthorized Access/Disclosure</td>\n",
       "      <td>Electronic Medical Record</td>\n",
       "      <td>No</td>\n",
       "    </tr>\n",
       "    <tr>\n",
       "      <th>2</th>\n",
       "      <td>Home State Health Plan, Inc.</td>\n",
       "      <td>MO</td>\n",
       "      <td>Health Plan</td>\n",
       "      <td>1020</td>\n",
       "      <td>2020-12-30</td>\n",
       "      <td>2020</td>\n",
       "      <td>12</td>\n",
       "      <td>3</td>\n",
       "      <td>Unauthorized Access/Disclosure</td>\n",
       "      <td>Paper/Films</td>\n",
       "      <td>Yes</td>\n",
       "    </tr>\n",
       "    <tr>\n",
       "      <th>3</th>\n",
       "      <td>Beebe Medical Foundation</td>\n",
       "      <td>DE</td>\n",
       "      <td>Healthcare Provider</td>\n",
       "      <td>56953</td>\n",
       "      <td>2020-12-28</td>\n",
       "      <td>2020</td>\n",
       "      <td>12</td>\n",
       "      <td>1</td>\n",
       "      <td>Hacking/IT Incident</td>\n",
       "      <td>Network Server</td>\n",
       "      <td>Yes</td>\n",
       "    </tr>\n",
       "    <tr>\n",
       "      <th>4</th>\n",
       "      <td>Community Health Resources, Inc</td>\n",
       "      <td>CT</td>\n",
       "      <td>Healthcare Provider</td>\n",
       "      <td>1634</td>\n",
       "      <td>2020-12-28</td>\n",
       "      <td>2020</td>\n",
       "      <td>12</td>\n",
       "      <td>1</td>\n",
       "      <td>Unauthorized Access/Disclosure</td>\n",
       "      <td>Email</td>\n",
       "      <td>No</td>\n",
       "    </tr>\n",
       "  </tbody>\n",
       "</table>\n",
       "</div>"
      ],
      "text/plain": [
       "            Name of Covered Entity State  Covered Entity Type  \\\n",
       "0      Nissan North America, Inc.     TN          Health Plan   \n",
       "1   Northwestern Memorial Hospital    IL  Healthcare Provider   \n",
       "2     Home State Health Plan, Inc.    MO          Health Plan   \n",
       "3         Beebe Medical Foundation    DE  Healthcare Provider   \n",
       "4  Community Health Resources, Inc    CT  Healthcare Provider   \n",
       "\n",
       "   Individuals Affected Breach Submission Date  Breach Submission Year  \\\n",
       "0                 50410             2020-12-31                    2020   \n",
       "1                   682             2020-12-30                    2020   \n",
       "2                  1020             2020-12-30                    2020   \n",
       "3                 56953             2020-12-28                    2020   \n",
       "4                  1634             2020-12-28                    2020   \n",
       "\n",
       "   Breach Submission Month  Breach Submission Day  \\\n",
       "0                       12                      4   \n",
       "1                       12                      3   \n",
       "2                       12                      3   \n",
       "3                       12                      1   \n",
       "4                       12                      1   \n",
       "\n",
       "                   Type of Breach Location of Breached Information  \\\n",
       "0             Hacking/IT Incident            Email, Network Server   \n",
       "1  Unauthorized Access/Disclosure        Electronic Medical Record   \n",
       "2  Unauthorized Access/Disclosure                      Paper/Films   \n",
       "3             Hacking/IT Incident                   Network Server   \n",
       "4  Unauthorized Access/Disclosure                            Email   \n",
       "\n",
       "  Business Associate Present  \n",
       "0                        Yes  \n",
       "1                         No  \n",
       "2                        Yes  \n",
       "3                        Yes  \n",
       "4                         No  "
      ]
     },
     "execution_count": 21,
     "metadata": {},
     "output_type": "execute_result"
    }
   ],
   "source": [
    "df.head()"
   ]
  },
  {
   "cell_type": "raw",
   "metadata": {},
   "source": [
    "Checking unique values contained by the categorical fields and selecting rows with single categories."
   ]
  },
  {
   "cell_type": "code",
   "execution_count": 22,
   "metadata": {},
   "outputs": [
    {
     "data": {
      "text/plain": [
       "array(['Health Plan', 'Healthcare Provider', 'Business Associate',\n",
       "       'Healthcare Clearing House'], dtype=object)"
      ]
     },
     "execution_count": 22,
     "metadata": {},
     "output_type": "execute_result"
    }
   ],
   "source": [
    "df['Covered Entity Type'].unique()"
   ]
  },
  {
   "cell_type": "code",
   "execution_count": 23,
   "metadata": {},
   "outputs": [
    {
     "data": {
      "text/plain": [
       "array(['Hacking/IT Incident', 'Unauthorized Access/Disclosure', 'Theft',\n",
       "       'Improper Disposal', 'Loss', 'Other',\n",
       "       'Improper Disposal, Unauthorized Access/Disclosure',\n",
       "       'Theft, Unauthorized Access/Disclosure', 'Loss, Theft',\n",
       "       'Improper Disposal, Loss, Theft', 'Hacking/IT Incident, Other',\n",
       "       'Other, Unauthorized Access/Disclosure',\n",
       "       'Other, Theft, Unauthorized Access/Disclosure',\n",
       "       'Hacking/IT Incident, Unauthorized Access/Disclosure',\n",
       "       'Loss, Other', 'Loss, Unauthorized Access/Disclosure',\n",
       "       'Improper Disposal, Loss', 'Other, Theft', 'Unknown',\n",
       "       'Hacking/IT Incident, Theft, Unauthorized Access/Disclosure',\n",
       "       'Loss, Unknown',\n",
       "       'Improper Disposal, Theft, Unauthorized Access/Disclosure',\n",
       "       'Other, Unknown', 'Loss, Other, Theft',\n",
       "       'Hacking/IT Incident, Improper Disposal, Loss, Other, Theft, Unauthorized Access/Disclosure, Unknown',\n",
       "       'Hacking/IT Incident, Theft', 'Improper Disposal, Theft',\n",
       "       'Hacking/IT Incident, Other, Unauthorized Access/Disclosure',\n",
       "       'Loss, Theft, Unauthorized Access/Disclosure, Unknown',\n",
       "       'Loss, Unauthorized Access/Disclosure, Unknown'], dtype=object)"
      ]
     },
     "execution_count": 23,
     "metadata": {},
     "output_type": "execute_result"
    }
   ],
   "source": [
    "df['Type of Breach'].unique()"
   ]
  },
  {
   "cell_type": "raw",
   "metadata": {},
   "source": [
    "Selecting breach with single 'Type of Breach' Category"
   ]
  },
  {
   "cell_type": "code",
   "execution_count": 24,
   "metadata": {},
   "outputs": [],
   "source": [
    "df_Type_of_Breach = df[(df['Type of Breach'] == 'Theft') | (df['Type of Breach'] == 'Other') | (df['Type of Breach'] == 'Loss') | (df['Type of Breach'] == 'Hacking/IT Incident') |(df['Type of Breach'] == 'Improper Disposal') |(df['Type of Breach'] == 'Unauthorized Access/Disclosure') | (df['Type of Breach'] == 'Unknown')]  "
   ]
  },
  {
   "cell_type": "code",
   "execution_count": 25,
   "metadata": {},
   "outputs": [
    {
     "data": {
      "text/plain": [
       "array(['Hacking/IT Incident', 'Unauthorized Access/Disclosure', 'Theft',\n",
       "       'Improper Disposal', 'Loss', 'Other', 'Unknown'], dtype=object)"
      ]
     },
     "execution_count": 25,
     "metadata": {},
     "output_type": "execute_result"
    }
   ],
   "source": [
    "df_Type_of_Breach['Type of Breach'].unique()"
   ]
  },
  {
   "cell_type": "code",
   "execution_count": 26,
   "metadata": {},
   "outputs": [
    {
     "data": {
      "text/plain": [
       "array(['Email, Network Server', 'Electronic Medical Record',\n",
       "       'Paper/Films', 'Network Server', 'Email',\n",
       "       'Other Portable Electronic Device, Paper/Films',\n",
       "       'Desktop Computer', 'Other', 'Other Portable Electronic Device',\n",
       "       'Network Server, Other', 'Laptop',\n",
       "       'Desktop Computer, Network Server',\n",
       "       'Desktop Computer, Paper/Films', 'Desktop Computer, Email',\n",
       "       'Email, Paper/Films', 'Email, Other Portable Electronic Device',\n",
       "       'Desktop Computer, Electronic Medical Record, Email',\n",
       "       'Electronic Medical Record, Network Server',\n",
       "       'Desktop Computer, Electronic Medical Record, Email, Network Server',\n",
       "       'Electronic Medical Record, Email', 'Other, Paper/Films',\n",
       "       'Laptop, Other Portable Electronic Device, Paper/Films',\n",
       "       'Electronic Medical Record, Laptop, Network Server, Paper/Films',\n",
       "       'Laptop, Other Portable Electronic Device',\n",
       "       'Electronic Medical Record, Network Server, Other',\n",
       "       'Desktop Computer, Other',\n",
       "       'Electronic Medical Record, Other, Paper/Films',\n",
       "       'Desktop Computer, Email, Network Server',\n",
       "       'Desktop Computer, Electronic Medical Record',\n",
       "       'Desktop Computer, Electronic Medical Record, Email, Laptop, Network Server',\n",
       "       'Desktop Computer, Electronic Medical Record, Paper/Films',\n",
       "       'Desktop Computer, Network Server, Paper/Films',\n",
       "       'Desktop Computer, Electronic Medical Record, Email, Laptop',\n",
       "       'Desktop Computer, Electronic Medical Record, Network Server',\n",
       "       'Desktop Computer, Other, Paper/Films', 'Desktop Computer, Laptop',\n",
       "       'Email, Laptop',\n",
       "       'Desktop Computer, Laptop, Other Portable Electronic Device',\n",
       "       'Desktop Computer, Electronic Medical Record, Email, Network Server, Other, Other Portable Electronic Device, Paper/Films',\n",
       "       'Network Server, Other Portable Electronic Device',\n",
       "       'Electronic Medical Record, Paper/Films',\n",
       "       'Desktop Computer, Email, Laptop, Network Server, Other Portable Electronic Device, Paper/Films',\n",
       "       'Electronic Medical Record, Other',\n",
       "       'Electronic Medical Record, Email, Laptop, Network Server',\n",
       "       'Email, Laptop, Other Portable Electronic Device',\n",
       "       'Laptop, Paper/Films',\n",
       "       'Desktop Computer, Other, Other Portable Electronic Device, Paper/Films',\n",
       "       'Email, Other', 'Electronic Medical Record, Email, Laptop',\n",
       "       'Desktop Computer, Electronic Medical Record, Laptop',\n",
       "       'Laptop, Network Server',\n",
       "       'Desktop Computer, Electronic Medical Record, Email, Laptop, Network Server, Other, Other Portable Electronic Device, Paper/Films',\n",
       "       'Desktop Computer, Laptop, Network Server',\n",
       "       'Desktop Computer, Electronic Medical Record, Network Server, Other Portable Electronic Device, Paper/Films',\n",
       "       'Desktop Computer, Email, Laptop, Network Server',\n",
       "       'Desktop Computer, Electronic Medical Record, Email, Laptop, Other Portable Electronic Device',\n",
       "       'Desktop Computer, Electronic Medical Record, Email, Laptop, Other, Other Portable Electronic Device, Paper/Films',\n",
       "       'Electronic Medical Record, Laptop', 'Network Server, Paper/Films',\n",
       "       'Electronic Medical Record, Email, Laptop, Paper/Films',\n",
       "       'Email, Laptop, Network Server',\n",
       "       'Network Server, Other, Paper/Films',\n",
       "       'Desktop Computer, Electronic Medical Record, Other',\n",
       "       'Desktop Computer, Other Portable Electronic Device',\n",
       "       'Desktop Computer, Email, Laptop, Network Server, Other Portable Electronic Device',\n",
       "       'Laptop, Other',\n",
       "       'Desktop Computer, Laptop, Network Server, Other Portable Electronic Device',\n",
       "       'Email, Laptop, Paper/Films',\n",
       "       'Electronic Medical Record, Laptop, Network Server, Other, Other Portable Electronic Device',\n",
       "       'Desktop Computer, Other Portable Electronic Device, Paper/Films',\n",
       "       'Desktop Computer, Laptop, Paper/Films',\n",
       "       'Email, Network Server, Other Portable Electronic Device',\n",
       "       'Desktop Computer, Electronic Medical Record, Email, Laptop, Network Server, Other Portable Electronic Device',\n",
       "       'Other, Other Portable Electronic Device',\n",
       "       'Desktop Computer, Email, Laptop, Network Server, Other, Other Portable Electronic Device',\n",
       "       'Desktop Computer, Electronic Medical Record, Email, Network Server, Paper/Films',\n",
       "       'Desktop Computer, Electronic Medical Record, Email, Laptop, Network Server, Other Portable Electronic Device, Paper/Films',\n",
       "       'Desktop Computer, Electronic Medical Record, Laptop, Network Server',\n",
       "       'Desktop Computer, Electronic Medical Record, Email, Laptop, Network Server, Other, Other Portable Electronic Device',\n",
       "       'Desktop Computer, Network Server, Other, Other Portable Electronic Device',\n",
       "       'Desktop Computer, Other, Other Portable Electronic Device',\n",
       "       'Desktop Computer, Laptop, Other, Other Portable Electronic Device',\n",
       "       'Electronic Medical Record, Other, Other Portable Electronic Device'],\n",
       "      dtype=object)"
      ]
     },
     "execution_count": 26,
     "metadata": {},
     "output_type": "execute_result"
    }
   ],
   "source": [
    "df['Location of Breached Information'].unique()"
   ]
  },
  {
   "cell_type": "code",
   "execution_count": 27,
   "metadata": {},
   "outputs": [],
   "source": [
    "df_Location_of_Breached_Information = df[(df['Location of Breached Information'] == 'Email') | (df['Location of Breached Information'] == 'Network Server') | (df['Location of Breached Information'] == 'Other') | (df['Location of Breached Information'] == 'Laptop') | (df['Location of Breached Information'] == 'Paper/Films') | (df['Location of Breached Information'] == 'Other Portable Electronic Device') | (df['Location of Breached Information'] == 'Desktop Computer') | (df['Location of Breached Information'] == 'Electronic Medical Record')]"
   ]
  },
  {
   "cell_type": "code",
   "execution_count": 28,
   "metadata": {},
   "outputs": [
    {
     "data": {
      "text/plain": [
       "array(['Electronic Medical Record', 'Paper/Films', 'Network Server',\n",
       "       'Email', 'Desktop Computer', 'Other',\n",
       "       'Other Portable Electronic Device', 'Laptop'], dtype=object)"
      ]
     },
     "execution_count": 28,
     "metadata": {},
     "output_type": "execute_result"
    }
   ],
   "source": [
    "df_Location_of_Breached_Information['Location of Breached Information'].unique()"
   ]
  },
  {
   "cell_type": "code",
   "execution_count": 29,
   "metadata": {},
   "outputs": [
    {
     "data": {
      "text/plain": [
       "(2921, 11)"
      ]
     },
     "execution_count": 29,
     "metadata": {},
     "output_type": "execute_result"
    }
   ],
   "source": [
    "df_Location_of_Breached_Information.shape"
   ]
  },
  {
   "cell_type": "raw",
   "metadata": {},
   "source": [
    "Merging dataframes containing unique categories for different fields into a single dataframe and resetting the index."
   ]
  },
  {
   "cell_type": "code",
   "execution_count": 30,
   "metadata": {},
   "outputs": [],
   "source": [
    "df = df_Type_of_Breach.merge(df_Location_of_Breached_Information).drop_duplicates().reset_index(drop=True)"
   ]
  },
  {
   "cell_type": "raw",
   "metadata": {},
   "source": [
    "Converting 'State', 'Covered Entity Type', 'Type of Breach', 'Location of Breached Information' fields into a category data type and removing unused categories to make proper visualizations. "
   ]
  },
  {
   "cell_type": "code",
   "execution_count": 31,
   "metadata": {},
   "outputs": [],
   "source": [
    "df['State'] = df['State'].astype('category')"
   ]
  },
  {
   "cell_type": "code",
   "execution_count": 32,
   "metadata": {},
   "outputs": [],
   "source": [
    "df['Covered Entity Type'] = df['Covered Entity Type'].astype('category')"
   ]
  },
  {
   "cell_type": "code",
   "execution_count": 33,
   "metadata": {},
   "outputs": [],
   "source": [
    "df['Type of Breach'] = df['Type of Breach'].astype('category').cat.remove_unused_categories()"
   ]
  },
  {
   "cell_type": "code",
   "execution_count": 34,
   "metadata": {},
   "outputs": [],
   "source": [
    "df['Location of Breached Information'] = df['Location of Breached Information'].astype('category').cat.remove_unused_categories()"
   ]
  },
  {
   "cell_type": "raw",
   "metadata": {},
   "source": [
    "Converting 'Business Associate Present' field to boolean data type."
   ]
  },
  {
   "cell_type": "code",
   "execution_count": 35,
   "metadata": {},
   "outputs": [],
   "source": [
    "df['Business Associate Present'] = df['Business Associate Present'].astype('bool')"
   ]
  },
  {
   "cell_type": "code",
   "execution_count": 36,
   "metadata": {},
   "outputs": [
    {
     "data": {
      "text/html": [
       "<div>\n",
       "<style scoped>\n",
       "    .dataframe tbody tr th:only-of-type {\n",
       "        vertical-align: middle;\n",
       "    }\n",
       "\n",
       "    .dataframe tbody tr th {\n",
       "        vertical-align: top;\n",
       "    }\n",
       "\n",
       "    .dataframe thead th {\n",
       "        text-align: right;\n",
       "    }\n",
       "</style>\n",
       "<table border=\"1\" class=\"dataframe\">\n",
       "  <thead>\n",
       "    <tr style=\"text-align: right;\">\n",
       "      <th></th>\n",
       "      <th>Name of Covered Entity</th>\n",
       "      <th>State</th>\n",
       "      <th>Covered Entity Type</th>\n",
       "      <th>Individuals Affected</th>\n",
       "      <th>Breach Submission Date</th>\n",
       "      <th>Breach Submission Year</th>\n",
       "      <th>Breach Submission Month</th>\n",
       "      <th>Breach Submission Day</th>\n",
       "      <th>Type of Breach</th>\n",
       "      <th>Location of Breached Information</th>\n",
       "      <th>Business Associate Present</th>\n",
       "    </tr>\n",
       "  </thead>\n",
       "  <tbody>\n",
       "  </tbody>\n",
       "</table>\n",
       "</div>"
      ],
      "text/plain": [
       "Empty DataFrame\n",
       "Columns: [Name of Covered Entity, State, Covered Entity Type, Individuals Affected, Breach Submission Date, Breach Submission Year, Breach Submission Month, Breach Submission Day, Type of Breach, Location of Breached Information, Business Associate Present]\n",
       "Index: []"
      ]
     },
     "execution_count": 36,
     "metadata": {},
     "output_type": "execute_result"
    }
   ],
   "source": [
    "df[df.duplicated()]"
   ]
  },
  {
   "cell_type": "code",
   "execution_count": 37,
   "metadata": {},
   "outputs": [
    {
     "data": {
      "text/plain": [
       "Name of Covered Entity              False\n",
       "State                               False\n",
       "Covered Entity Type                 False\n",
       "Individuals Affected                False\n",
       "Breach Submission Date              False\n",
       "Breach Submission Year              False\n",
       "Breach Submission Month             False\n",
       "Breach Submission Day               False\n",
       "Type of Breach                      False\n",
       "Location of Breached Information    False\n",
       "Business Associate Present          False\n",
       "dtype: bool"
      ]
     },
     "execution_count": 37,
     "metadata": {},
     "output_type": "execute_result"
    }
   ],
   "source": [
    "df.isnull().any()"
   ]
  },
  {
   "cell_type": "code",
   "execution_count": 38,
   "metadata": {},
   "outputs": [
    {
     "data": {
      "text/plain": [
       "(2851, 11)"
      ]
     },
     "execution_count": 38,
     "metadata": {},
     "output_type": "execute_result"
    }
   ],
   "source": [
    "df.shape"
   ]
  },
  {
   "cell_type": "raw",
   "metadata": {},
   "source": [
    "After cleaning the dataset now there are 2851 rows and 9 fields."
   ]
  },
  {
   "cell_type": "code",
   "execution_count": 39,
   "metadata": {},
   "outputs": [
    {
     "data": {
      "text/plain": [
       "Name of Covered Entity                      object\n",
       "State                                     category\n",
       "Covered Entity Type                       category\n",
       "Individuals Affected                         int64\n",
       "Breach Submission Date              datetime64[ns]\n",
       "Breach Submission Year                       int64\n",
       "Breach Submission Month                      int64\n",
       "Breach Submission Day                       UInt32\n",
       "Type of Breach                            category\n",
       "Location of Breached Information          category\n",
       "Business Associate Present                    bool\n",
       "dtype: object"
      ]
     },
     "execution_count": 39,
     "metadata": {},
     "output_type": "execute_result"
    }
   ],
   "source": [
    "df.dtypes"
   ]
  },
  {
   "cell_type": "code",
   "execution_count": 40,
   "metadata": {},
   "outputs": [
    {
     "data": {
      "text/html": [
       "<div>\n",
       "<style scoped>\n",
       "    .dataframe tbody tr th:only-of-type {\n",
       "        vertical-align: middle;\n",
       "    }\n",
       "\n",
       "    .dataframe tbody tr th {\n",
       "        vertical-align: top;\n",
       "    }\n",
       "\n",
       "    .dataframe thead th {\n",
       "        text-align: right;\n",
       "    }\n",
       "</style>\n",
       "<table border=\"1\" class=\"dataframe\">\n",
       "  <thead>\n",
       "    <tr style=\"text-align: right;\">\n",
       "      <th></th>\n",
       "      <th>Name of Covered Entity</th>\n",
       "      <th>State</th>\n",
       "      <th>Covered Entity Type</th>\n",
       "      <th>Individuals Affected</th>\n",
       "      <th>Breach Submission Date</th>\n",
       "      <th>Breach Submission Year</th>\n",
       "      <th>Breach Submission Month</th>\n",
       "      <th>Breach Submission Day</th>\n",
       "      <th>Type of Breach</th>\n",
       "      <th>Location of Breached Information</th>\n",
       "      <th>Business Associate Present</th>\n",
       "    </tr>\n",
       "  </thead>\n",
       "  <tbody>\n",
       "    <tr>\n",
       "      <th>0</th>\n",
       "      <td>Northwestern Memorial Hospital</td>\n",
       "      <td>IL</td>\n",
       "      <td>Healthcare Provider</td>\n",
       "      <td>682</td>\n",
       "      <td>2020-12-30</td>\n",
       "      <td>2020</td>\n",
       "      <td>12</td>\n",
       "      <td>3</td>\n",
       "      <td>Unauthorized Access/Disclosure</td>\n",
       "      <td>Electronic Medical Record</td>\n",
       "      <td>True</td>\n",
       "    </tr>\n",
       "    <tr>\n",
       "      <th>1</th>\n",
       "      <td>Home State Health Plan, Inc.</td>\n",
       "      <td>MO</td>\n",
       "      <td>Health Plan</td>\n",
       "      <td>1020</td>\n",
       "      <td>2020-12-30</td>\n",
       "      <td>2020</td>\n",
       "      <td>12</td>\n",
       "      <td>3</td>\n",
       "      <td>Unauthorized Access/Disclosure</td>\n",
       "      <td>Paper/Films</td>\n",
       "      <td>True</td>\n",
       "    </tr>\n",
       "    <tr>\n",
       "      <th>2</th>\n",
       "      <td>Beebe Medical Foundation</td>\n",
       "      <td>DE</td>\n",
       "      <td>Healthcare Provider</td>\n",
       "      <td>56953</td>\n",
       "      <td>2020-12-28</td>\n",
       "      <td>2020</td>\n",
       "      <td>12</td>\n",
       "      <td>1</td>\n",
       "      <td>Hacking/IT Incident</td>\n",
       "      <td>Network Server</td>\n",
       "      <td>True</td>\n",
       "    </tr>\n",
       "    <tr>\n",
       "      <th>3</th>\n",
       "      <td>Community Health Resources, Inc</td>\n",
       "      <td>CT</td>\n",
       "      <td>Healthcare Provider</td>\n",
       "      <td>1634</td>\n",
       "      <td>2020-12-28</td>\n",
       "      <td>2020</td>\n",
       "      <td>12</td>\n",
       "      <td>1</td>\n",
       "      <td>Unauthorized Access/Disclosure</td>\n",
       "      <td>Email</td>\n",
       "      <td>True</td>\n",
       "    </tr>\n",
       "    <tr>\n",
       "      <th>4</th>\n",
       "      <td>Magnolia Health Plan</td>\n",
       "      <td>MS</td>\n",
       "      <td>Health Plan</td>\n",
       "      <td>759</td>\n",
       "      <td>2020-12-28</td>\n",
       "      <td>2020</td>\n",
       "      <td>12</td>\n",
       "      <td>1</td>\n",
       "      <td>Unauthorized Access/Disclosure</td>\n",
       "      <td>Paper/Films</td>\n",
       "      <td>True</td>\n",
       "    </tr>\n",
       "  </tbody>\n",
       "</table>\n",
       "</div>"
      ],
      "text/plain": [
       "            Name of Covered Entity State  Covered Entity Type  \\\n",
       "0   Northwestern Memorial Hospital    IL  Healthcare Provider   \n",
       "1     Home State Health Plan, Inc.    MO          Health Plan   \n",
       "2         Beebe Medical Foundation    DE  Healthcare Provider   \n",
       "3  Community Health Resources, Inc    CT  Healthcare Provider   \n",
       "4             Magnolia Health Plan    MS          Health Plan   \n",
       "\n",
       "   Individuals Affected Breach Submission Date  Breach Submission Year  \\\n",
       "0                   682             2020-12-30                    2020   \n",
       "1                  1020             2020-12-30                    2020   \n",
       "2                 56953             2020-12-28                    2020   \n",
       "3                  1634             2020-12-28                    2020   \n",
       "4                   759             2020-12-28                    2020   \n",
       "\n",
       "   Breach Submission Month  Breach Submission Day  \\\n",
       "0                       12                      3   \n",
       "1                       12                      3   \n",
       "2                       12                      1   \n",
       "3                       12                      1   \n",
       "4                       12                      1   \n",
       "\n",
       "                   Type of Breach Location of Breached Information  \\\n",
       "0  Unauthorized Access/Disclosure        Electronic Medical Record   \n",
       "1  Unauthorized Access/Disclosure                      Paper/Films   \n",
       "2             Hacking/IT Incident                   Network Server   \n",
       "3  Unauthorized Access/Disclosure                            Email   \n",
       "4  Unauthorized Access/Disclosure                      Paper/Films   \n",
       "\n",
       "   Business Associate Present  \n",
       "0                        True  \n",
       "1                        True  \n",
       "2                        True  \n",
       "3                        True  \n",
       "4                        True  "
      ]
     },
     "execution_count": 40,
     "metadata": {},
     "output_type": "execute_result"
    }
   ],
   "source": [
    "df.head()"
   ]
  },
  {
   "cell_type": "markdown",
   "metadata": {},
   "source": [
    "## Data Exploration, Modelling & Visualisation"
   ]
  },
  {
   "cell_type": "markdown",
   "metadata": {},
   "source": [
    "## 1. When did the data breach occur?"
   ]
  },
  {
   "cell_type": "code",
   "execution_count": 41,
   "metadata": {},
   "outputs": [
    {
     "data": {
      "text/html": [
       "<div>\n",
       "<style scoped>\n",
       "    .dataframe tbody tr th:only-of-type {\n",
       "        vertical-align: middle;\n",
       "    }\n",
       "\n",
       "    .dataframe tbody tr th {\n",
       "        vertical-align: top;\n",
       "    }\n",
       "\n",
       "    .dataframe thead th {\n",
       "        text-align: right;\n",
       "    }\n",
       "</style>\n",
       "<table border=\"1\" class=\"dataframe\">\n",
       "  <thead>\n",
       "    <tr style=\"text-align: right;\">\n",
       "      <th></th>\n",
       "      <th>Breach Submission Year</th>\n",
       "      <th>Individuals Affected</th>\n",
       "    </tr>\n",
       "  </thead>\n",
       "  <tbody>\n",
       "    <tr>\n",
       "      <th>0</th>\n",
       "      <td>2009</td>\n",
       "      <td>15</td>\n",
       "    </tr>\n",
       "    <tr>\n",
       "      <th>1</th>\n",
       "      <td>2010</td>\n",
       "      <td>159</td>\n",
       "    </tr>\n",
       "    <tr>\n",
       "      <th>2</th>\n",
       "      <td>2011</td>\n",
       "      <td>142</td>\n",
       "    </tr>\n",
       "    <tr>\n",
       "      <th>3</th>\n",
       "      <td>2012</td>\n",
       "      <td>181</td>\n",
       "    </tr>\n",
       "    <tr>\n",
       "      <th>4</th>\n",
       "      <td>2013</td>\n",
       "      <td>250</td>\n",
       "    </tr>\n",
       "    <tr>\n",
       "      <th>5</th>\n",
       "      <td>2014</td>\n",
       "      <td>256</td>\n",
       "    </tr>\n",
       "    <tr>\n",
       "      <th>6</th>\n",
       "      <td>2015</td>\n",
       "      <td>235</td>\n",
       "    </tr>\n",
       "    <tr>\n",
       "      <th>7</th>\n",
       "      <td>2016</td>\n",
       "      <td>292</td>\n",
       "    </tr>\n",
       "    <tr>\n",
       "      <th>8</th>\n",
       "      <td>2017</td>\n",
       "      <td>314</td>\n",
       "    </tr>\n",
       "    <tr>\n",
       "      <th>9</th>\n",
       "      <td>2018</td>\n",
       "      <td>330</td>\n",
       "    </tr>\n",
       "    <tr>\n",
       "      <th>10</th>\n",
       "      <td>2019</td>\n",
       "      <td>414</td>\n",
       "    </tr>\n",
       "    <tr>\n",
       "      <th>11</th>\n",
       "      <td>2020</td>\n",
       "      <td>263</td>\n",
       "    </tr>\n",
       "  </tbody>\n",
       "</table>\n",
       "</div>"
      ],
      "text/plain": [
       "    Breach Submission Year  Individuals Affected\n",
       "0                     2009                    15\n",
       "1                     2010                   159\n",
       "2                     2011                   142\n",
       "3                     2012                   181\n",
       "4                     2013                   250\n",
       "5                     2014                   256\n",
       "6                     2015                   235\n",
       "7                     2016                   292\n",
       "8                     2017                   314\n",
       "9                     2018                   330\n",
       "10                    2019                   414\n",
       "11                    2020                   263"
      ]
     },
     "execution_count": 41,
     "metadata": {},
     "output_type": "execute_result"
    }
   ],
   "source": [
    "data_breach_per_year = pd.DataFrame(df.groupby('Breach Submission Year')[['Individuals Affected']].count()).reset_index()\n",
    "data_breach_per_year"
   ]
  },
  {
   "cell_type": "code",
   "execution_count": 42,
   "metadata": {},
   "outputs": [
    {
     "data": {
      "text/plain": [
       "[Text(0, 0.5, 'Number of Incidents')]"
      ]
     },
     "execution_count": 42,
     "metadata": {},
     "output_type": "execute_result"
    },
    {
     "data": {
      "image/png": "[encoded data removed]",
      "text/plain": [
       "<Figure size 1080x576 with 1 Axes>"
      ]
     },
     "metadata": {
      "needs_background": "light"
     },
     "output_type": "display_data"
    }
   ],
   "source": [
    "fig, ax = plt.subplots(figsize=(15, 8))\n",
    "sns.pointplot(x='Breach Submission Year', y='Individuals Affected', ci=None, ax=ax.ticklabel_format(useOffset=False, style='plain'), data=data_breach_per_year).set_title('Data Breach Incidents by Year')\n",
    "ax.set(ylabel='Number of Incidents')"
   ]
  },
  {
   "cell_type": "code",
   "execution_count": 43,
   "metadata": {},
   "outputs": [
    {
     "data": {
      "text/html": [
       "<div>\n",
       "<style scoped>\n",
       "    .dataframe tbody tr th:only-of-type {\n",
       "        vertical-align: middle;\n",
       "    }\n",
       "\n",
       "    .dataframe tbody tr th {\n",
       "        vertical-align: top;\n",
       "    }\n",
       "\n",
       "    .dataframe thead th {\n",
       "        text-align: right;\n",
       "    }\n",
       "</style>\n",
       "<table border=\"1\" class=\"dataframe\">\n",
       "  <thead>\n",
       "    <tr style=\"text-align: right;\">\n",
       "      <th></th>\n",
       "      <th>Breach Submission Month</th>\n",
       "      <th>Individuals Affected</th>\n",
       "    </tr>\n",
       "  </thead>\n",
       "  <tbody>\n",
       "    <tr>\n",
       "      <th>0</th>\n",
       "      <td>1</td>\n",
       "      <td>202</td>\n",
       "    </tr>\n",
       "    <tr>\n",
       "      <th>1</th>\n",
       "      <td>2</td>\n",
       "      <td>213</td>\n",
       "    </tr>\n",
       "    <tr>\n",
       "      <th>2</th>\n",
       "      <td>3</td>\n",
       "      <td>240</td>\n",
       "    </tr>\n",
       "    <tr>\n",
       "      <th>3</th>\n",
       "      <td>4</td>\n",
       "      <td>283</td>\n",
       "    </tr>\n",
       "    <tr>\n",
       "      <th>4</th>\n",
       "      <td>5</td>\n",
       "      <td>219</td>\n",
       "    </tr>\n",
       "    <tr>\n",
       "      <th>5</th>\n",
       "      <td>6</td>\n",
       "      <td>207</td>\n",
       "    </tr>\n",
       "    <tr>\n",
       "      <th>6</th>\n",
       "      <td>7</td>\n",
       "      <td>263</td>\n",
       "    </tr>\n",
       "    <tr>\n",
       "      <th>7</th>\n",
       "      <td>8</td>\n",
       "      <td>224</td>\n",
       "    </tr>\n",
       "    <tr>\n",
       "      <th>8</th>\n",
       "      <td>9</td>\n",
       "      <td>257</td>\n",
       "    </tr>\n",
       "    <tr>\n",
       "      <th>9</th>\n",
       "      <td>10</td>\n",
       "      <td>281</td>\n",
       "    </tr>\n",
       "    <tr>\n",
       "      <th>10</th>\n",
       "      <td>11</td>\n",
       "      <td>235</td>\n",
       "    </tr>\n",
       "    <tr>\n",
       "      <th>11</th>\n",
       "      <td>12</td>\n",
       "      <td>227</td>\n",
       "    </tr>\n",
       "  </tbody>\n",
       "</table>\n",
       "</div>"
      ],
      "text/plain": [
       "    Breach Submission Month  Individuals Affected\n",
       "0                         1                   202\n",
       "1                         2                   213\n",
       "2                         3                   240\n",
       "3                         4                   283\n",
       "4                         5                   219\n",
       "5                         6                   207\n",
       "6                         7                   263\n",
       "7                         8                   224\n",
       "8                         9                   257\n",
       "9                        10                   281\n",
       "10                       11                   235\n",
       "11                       12                   227"
      ]
     },
     "execution_count": 43,
     "metadata": {},
     "output_type": "execute_result"
    }
   ],
   "source": [
    "data_breach_per_month = pd.DataFrame(df.groupby(['Breach Submission Month'])[['Individuals Affected']].count()).reset_index()\n",
    "data_breach_per_month"
   ]
  },
  {
   "cell_type": "code",
   "execution_count": 44,
   "metadata": {},
   "outputs": [
    {
     "data": {
      "text/plain": [
       "[Text(0, 0.5, 'Number of Incidents')]"
      ]
     },
     "execution_count": 44,
     "metadata": {},
     "output_type": "execute_result"
    },
    {
     "data": {
      "image/png": "[encoded data removed]",
      "text/plain": [
       "<Figure size 1080x576 with 1 Axes>"
      ]
     },
     "metadata": {
      "needs_background": "light"
     },
     "output_type": "display_data"
    }
   ],
   "source": [
    "fig, ax = plt.subplots(figsize=(15, 8))\n",
    "sns.pointplot(x='Breach Submission Month', y='Individuals Affected', ci=None, ax=ax.ticklabel_format(useOffset=False, style='plain'), data=data_breach_per_month).set_title('Data Breach Incidents by Month')\n",
    "ax.set(ylabel='Number of Incidents')"
   ]
  },
  {
   "cell_type": "code",
   "execution_count": 45,
   "metadata": {},
   "outputs": [
    {
     "data": {
      "text/html": [
       "<div>\n",
       "<style scoped>\n",
       "    .dataframe tbody tr th:only-of-type {\n",
       "        vertical-align: middle;\n",
       "    }\n",
       "\n",
       "    .dataframe tbody tr th {\n",
       "        vertical-align: top;\n",
       "    }\n",
       "\n",
       "    .dataframe thead th {\n",
       "        text-align: right;\n",
       "    }\n",
       "</style>\n",
       "<table border=\"1\" class=\"dataframe\">\n",
       "  <thead>\n",
       "    <tr style=\"text-align: right;\">\n",
       "      <th></th>\n",
       "      <th>Breach Submission Day</th>\n",
       "      <th>Individuals Affected</th>\n",
       "    </tr>\n",
       "  </thead>\n",
       "  <tbody>\n",
       "    <tr>\n",
       "      <th>0</th>\n",
       "      <td>1</td>\n",
       "      <td>477</td>\n",
       "    </tr>\n",
       "    <tr>\n",
       "      <th>1</th>\n",
       "      <td>2</td>\n",
       "      <td>461</td>\n",
       "    </tr>\n",
       "    <tr>\n",
       "      <th>2</th>\n",
       "      <td>3</td>\n",
       "      <td>406</td>\n",
       "    </tr>\n",
       "    <tr>\n",
       "      <th>3</th>\n",
       "      <td>4</td>\n",
       "      <td>483</td>\n",
       "    </tr>\n",
       "    <tr>\n",
       "      <th>4</th>\n",
       "      <td>5</td>\n",
       "      <td>940</td>\n",
       "    </tr>\n",
       "    <tr>\n",
       "      <th>5</th>\n",
       "      <td>6</td>\n",
       "      <td>49</td>\n",
       "    </tr>\n",
       "    <tr>\n",
       "      <th>6</th>\n",
       "      <td>7</td>\n",
       "      <td>35</td>\n",
       "    </tr>\n",
       "  </tbody>\n",
       "</table>\n",
       "</div>"
      ],
      "text/plain": [
       "   Breach Submission Day  Individuals Affected\n",
       "0                      1                   477\n",
       "1                      2                   461\n",
       "2                      3                   406\n",
       "3                      4                   483\n",
       "4                      5                   940\n",
       "5                      6                    49\n",
       "6                      7                    35"
      ]
     },
     "execution_count": 45,
     "metadata": {},
     "output_type": "execute_result"
    }
   ],
   "source": [
    "data_breach_per_day = pd.DataFrame(df.groupby(['Breach Submission Day'])[['Individuals Affected']].count()).reset_index()\n",
    "data_breach_per_day"
   ]
  },
  {
   "cell_type": "code",
   "execution_count": 46,
   "metadata": {},
   "outputs": [
    {
     "data": {
      "text/plain": [
       "Text(0.5, 1.0, 'Data Breach Incidents by Day')"
      ]
     },
     "execution_count": 46,
     "metadata": {},
     "output_type": "execute_result"
    },
    {
     "data": {
      "image/png": "[encoded data removed]",
      "text/plain": [
       "<Figure size 1080x576 with 1 Axes>"
      ]
     },
     "metadata": {
      "needs_background": "light"
     },
     "output_type": "display_data"
    }
   ],
   "source": [
    "fig, ax = plt.subplots(figsize=(15, 8))\n",
    "sns.pointplot(x='Breach Submission Day', y='Individuals Affected', ci=None, ax=ax.ticklabel_format(useOffset=False, style='plain'), data=data_breach_per_day).set_title('Data Breach Incidents by Day')"
   ]
  },
  {
   "cell_type": "code",
   "execution_count": 47,
   "metadata": {},
   "outputs": [
    {
     "data": {
      "text/html": [
       "<div>\n",
       "<style scoped>\n",
       "    .dataframe tbody tr th:only-of-type {\n",
       "        vertical-align: middle;\n",
       "    }\n",
       "\n",
       "    .dataframe tbody tr th {\n",
       "        vertical-align: top;\n",
       "    }\n",
       "\n",
       "    .dataframe thead th {\n",
       "        text-align: right;\n",
       "    }\n",
       "</style>\n",
       "<table border=\"1\" class=\"dataframe\">\n",
       "  <thead>\n",
       "    <tr style=\"text-align: right;\">\n",
       "      <th></th>\n",
       "      <th>Breach Submission Year</th>\n",
       "      <th>Breach Submission Month</th>\n",
       "      <th>Individuals Affected</th>\n",
       "    </tr>\n",
       "  </thead>\n",
       "  <tbody>\n",
       "    <tr>\n",
       "      <th>0</th>\n",
       "      <td>2009</td>\n",
       "      <td>10</td>\n",
       "      <td>2</td>\n",
       "    </tr>\n",
       "    <tr>\n",
       "      <th>1</th>\n",
       "      <td>2009</td>\n",
       "      <td>11</td>\n",
       "      <td>9</td>\n",
       "    </tr>\n",
       "    <tr>\n",
       "      <th>2</th>\n",
       "      <td>2009</td>\n",
       "      <td>12</td>\n",
       "      <td>4</td>\n",
       "    </tr>\n",
       "    <tr>\n",
       "      <th>3</th>\n",
       "      <td>2010</td>\n",
       "      <td>1</td>\n",
       "      <td>10</td>\n",
       "    </tr>\n",
       "    <tr>\n",
       "      <th>4</th>\n",
       "      <td>2010</td>\n",
       "      <td>2</td>\n",
       "      <td>11</td>\n",
       "    </tr>\n",
       "    <tr>\n",
       "      <th>...</th>\n",
       "      <td>...</td>\n",
       "      <td>...</td>\n",
       "      <td>...</td>\n",
       "    </tr>\n",
       "    <tr>\n",
       "      <th>130</th>\n",
       "      <td>2020</td>\n",
       "      <td>8</td>\n",
       "      <td>14</td>\n",
       "    </tr>\n",
       "    <tr>\n",
       "      <th>131</th>\n",
       "      <td>2020</td>\n",
       "      <td>9</td>\n",
       "      <td>51</td>\n",
       "    </tr>\n",
       "    <tr>\n",
       "      <th>132</th>\n",
       "      <td>2020</td>\n",
       "      <td>10</td>\n",
       "      <td>35</td>\n",
       "    </tr>\n",
       "    <tr>\n",
       "      <th>133</th>\n",
       "      <td>2020</td>\n",
       "      <td>11</td>\n",
       "      <td>16</td>\n",
       "    </tr>\n",
       "    <tr>\n",
       "      <th>134</th>\n",
       "      <td>2020</td>\n",
       "      <td>12</td>\n",
       "      <td>18</td>\n",
       "    </tr>\n",
       "  </tbody>\n",
       "</table>\n",
       "<p>135 rows × 3 columns</p>\n",
       "</div>"
      ],
      "text/plain": [
       "     Breach Submission Year  Breach Submission Month  Individuals Affected\n",
       "0                      2009                       10                     2\n",
       "1                      2009                       11                     9\n",
       "2                      2009                       12                     4\n",
       "3                      2010                        1                    10\n",
       "4                      2010                        2                    11\n",
       "..                      ...                      ...                   ...\n",
       "130                    2020                        8                    14\n",
       "131                    2020                        9                    51\n",
       "132                    2020                       10                    35\n",
       "133                    2020                       11                    16\n",
       "134                    2020                       12                    18\n",
       "\n",
       "[135 rows x 3 columns]"
      ]
     },
     "execution_count": 47,
     "metadata": {},
     "output_type": "execute_result"
    }
   ],
   "source": [
    "breach_by_year_month = pd.DataFrame(df.groupby(['Breach Submission Year', 'Breach Submission Month'])[['Individuals Affected']].count()).reset_index()\n",
    "breach_by_year_month"
   ]
  },
  {
   "cell_type": "code",
   "execution_count": 48,
   "metadata": {},
   "outputs": [
    {
     "data": {
      "text/plain": [
       "[Text(0.5, 51.0, 'Breach Submission Year')]"
      ]
     },
     "execution_count": 48,
     "metadata": {},
     "output_type": "execute_result"
    },
    {
     "data": {
      "image/png": "[encoded data removed]",
      "text/plain": [
       "<Figure size 1080x576 with 2 Axes>"
      ]
     },
     "metadata": {
      "needs_background": "light"
     },
     "output_type": "display_data"
    }
   ],
   "source": [
    "fig, ax = plt.subplots(figsize=(15, 8))\n",
    "data_breach_heatmap = breach_by_year_month.pivot('Breach Submission Month', 'Breach Submission Year', 'Individuals Affected')\n",
    "#data_breach_heatmap['Individuals Affected'] = data_breach_heatmap['Individuals Affected'].fillna(0).astype(np.int64)\n",
    "sns.heatmap(annot=True, cmap=\"YlGnBu\",  cbar_kws={'label': 'Number of Incidents'}, data=data_breach_heatmap).set_title('Data Breach Incidents by Year and Month')\n",
    "plt.setp(ax.xaxis.get_majorticklabels(), ha='right')\n",
    "plt.xticks(rotation=45)\n",
    "ax.set(xlabel='Breach Submission Year')"
   ]
  },
  {
   "cell_type": "code",
   "execution_count": 49,
   "metadata": {},
   "outputs": [
    {
     "data": {
      "text/html": [
       "<div>\n",
       "<style scoped>\n",
       "    .dataframe tbody tr th:only-of-type {\n",
       "        vertical-align: middle;\n",
       "    }\n",
       "\n",
       "    .dataframe tbody tr th {\n",
       "        vertical-align: top;\n",
       "    }\n",
       "\n",
       "    .dataframe thead th {\n",
       "        text-align: right;\n",
       "    }\n",
       "</style>\n",
       "<table border=\"1\" class=\"dataframe\">\n",
       "  <thead>\n",
       "    <tr style=\"text-align: right;\">\n",
       "      <th></th>\n",
       "      <th>Breach Submission Month</th>\n",
       "      <th>Breach Submission Day</th>\n",
       "      <th>Individuals Affected</th>\n",
       "    </tr>\n",
       "  </thead>\n",
       "  <tbody>\n",
       "    <tr>\n",
       "      <th>0</th>\n",
       "      <td>1</td>\n",
       "      <td>1</td>\n",
       "      <td>36</td>\n",
       "    </tr>\n",
       "    <tr>\n",
       "      <th>1</th>\n",
       "      <td>1</td>\n",
       "      <td>2</td>\n",
       "      <td>32</td>\n",
       "    </tr>\n",
       "    <tr>\n",
       "      <th>2</th>\n",
       "      <td>1</td>\n",
       "      <td>3</td>\n",
       "      <td>24</td>\n",
       "    </tr>\n",
       "    <tr>\n",
       "      <th>3</th>\n",
       "      <td>1</td>\n",
       "      <td>4</td>\n",
       "      <td>39</td>\n",
       "    </tr>\n",
       "    <tr>\n",
       "      <th>4</th>\n",
       "      <td>1</td>\n",
       "      <td>5</td>\n",
       "      <td>67</td>\n",
       "    </tr>\n",
       "    <tr>\n",
       "      <th>...</th>\n",
       "      <td>...</td>\n",
       "      <td>...</td>\n",
       "      <td>...</td>\n",
       "    </tr>\n",
       "    <tr>\n",
       "      <th>78</th>\n",
       "      <td>12</td>\n",
       "      <td>3</td>\n",
       "      <td>29</td>\n",
       "    </tr>\n",
       "    <tr>\n",
       "      <th>79</th>\n",
       "      <td>12</td>\n",
       "      <td>4</td>\n",
       "      <td>41</td>\n",
       "    </tr>\n",
       "    <tr>\n",
       "      <th>80</th>\n",
       "      <td>12</td>\n",
       "      <td>5</td>\n",
       "      <td>65</td>\n",
       "    </tr>\n",
       "    <tr>\n",
       "      <th>81</th>\n",
       "      <td>12</td>\n",
       "      <td>6</td>\n",
       "      <td>5</td>\n",
       "    </tr>\n",
       "    <tr>\n",
       "      <th>82</th>\n",
       "      <td>12</td>\n",
       "      <td>7</td>\n",
       "      <td>5</td>\n",
       "    </tr>\n",
       "  </tbody>\n",
       "</table>\n",
       "<p>83 rows × 3 columns</p>\n",
       "</div>"
      ],
      "text/plain": [
       "    Breach Submission Month  Breach Submission Day  Individuals Affected\n",
       "0                         1                      1                    36\n",
       "1                         1                      2                    32\n",
       "2                         1                      3                    24\n",
       "3                         1                      4                    39\n",
       "4                         1                      5                    67\n",
       "..                      ...                    ...                   ...\n",
       "78                       12                      3                    29\n",
       "79                       12                      4                    41\n",
       "80                       12                      5                    65\n",
       "81                       12                      6                     5\n",
       "82                       12                      7                     5\n",
       "\n",
       "[83 rows x 3 columns]"
      ]
     },
     "execution_count": 49,
     "metadata": {},
     "output_type": "execute_result"
    }
   ],
   "source": [
    "breach_by_month_day = pd.DataFrame(df.groupby(['Breach Submission Month', 'Breach Submission Day'])[['Individuals Affected']].count()).reset_index()\n",
    "breach_by_month_day"
   ]
  },
  {
   "cell_type": "code",
   "execution_count": 50,
   "metadata": {},
   "outputs": [
    {
     "data": {
      "text/plain": [
       "(array([ 0.5,  1.5,  2.5,  3.5,  4.5,  5.5,  6.5,  7.5,  8.5,  9.5, 10.5,\n",
       "        11.5]),\n",
       " [Text(0.5, 0, '1'),\n",
       "  Text(1.5, 0, '2'),\n",
       "  Text(2.5, 0, '3'),\n",
       "  Text(3.5, 0, '4'),\n",
       "  Text(4.5, 0, '5'),\n",
       "  Text(5.5, 0, '6'),\n",
       "  Text(6.5, 0, '7'),\n",
       "  Text(7.5, 0, '8'),\n",
       "  Text(8.5, 0, '9'),\n",
       "  Text(9.5, 0, '10'),\n",
       "  Text(10.5, 0, '11'),\n",
       "  Text(11.5, 0, '12')])"
      ]
     },
     "execution_count": 50,
     "metadata": {},
     "output_type": "execute_result"
    },
    {
     "data": {
      "image/png": "[encoded data removed]",
      "text/plain": [
       "<Figure size 1080x576 with 2 Axes>"
      ]
     },
     "metadata": {
      "needs_background": "light"
     },
     "output_type": "display_data"
    }
   ],
   "source": [
    "fig, ax = plt.subplots(figsize=(15, 8))\n",
    "data_breach_heatmap = breach_by_month_day.pivot('Breach Submission Day', 'Breach Submission Month', 'Individuals Affected')\n",
    "sns.heatmap(annot=True, cmap=\"YlGnBu\",  cbar_kws={'label': 'Number of Incidents'}, data=data_breach_heatmap).set_title('Data Breach Incidents by Month and Day')\n",
    "plt.setp(ax.xaxis.get_majorticklabels(), ha='right')\n",
    "plt.xticks(rotation=45)"
   ]
  },
  {
   "cell_type": "markdown",
   "metadata": {},
   "source": [
    "## 2. What are the causes of Data Breach?"
   ]
  },
  {
   "cell_type": "code",
   "execution_count": 51,
   "metadata": {},
   "outputs": [
    {
     "data": {
      "text/html": [
       "<div>\n",
       "<style scoped>\n",
       "    .dataframe tbody tr th:only-of-type {\n",
       "        vertical-align: middle;\n",
       "    }\n",
       "\n",
       "    .dataframe tbody tr th {\n",
       "        vertical-align: top;\n",
       "    }\n",
       "\n",
       "    .dataframe thead th {\n",
       "        text-align: right;\n",
       "    }\n",
       "</style>\n",
       "<table border=\"1\" class=\"dataframe\">\n",
       "  <thead>\n",
       "    <tr style=\"text-align: right;\">\n",
       "      <th></th>\n",
       "      <th>Type of Breach</th>\n",
       "      <th>Individuals Affected</th>\n",
       "    </tr>\n",
       "  </thead>\n",
       "  <tbody>\n",
       "    <tr>\n",
       "      <th>0</th>\n",
       "      <td>Hacking/IT Incident</td>\n",
       "      <td>907</td>\n",
       "    </tr>\n",
       "    <tr>\n",
       "      <th>1</th>\n",
       "      <td>Improper Disposal</td>\n",
       "      <td>86</td>\n",
       "    </tr>\n",
       "    <tr>\n",
       "      <th>2</th>\n",
       "      <td>Loss</td>\n",
       "      <td>163</td>\n",
       "    </tr>\n",
       "    <tr>\n",
       "      <th>3</th>\n",
       "      <td>Other</td>\n",
       "      <td>72</td>\n",
       "    </tr>\n",
       "    <tr>\n",
       "      <th>4</th>\n",
       "      <td>Theft</td>\n",
       "      <td>764</td>\n",
       "    </tr>\n",
       "    <tr>\n",
       "      <th>5</th>\n",
       "      <td>Unauthorized Access/Disclosure</td>\n",
       "      <td>848</td>\n",
       "    </tr>\n",
       "    <tr>\n",
       "      <th>6</th>\n",
       "      <td>Unknown</td>\n",
       "      <td>11</td>\n",
       "    </tr>\n",
       "  </tbody>\n",
       "</table>\n",
       "</div>"
      ],
      "text/plain": [
       "                   Type of Breach  Individuals Affected\n",
       "0             Hacking/IT Incident                   907\n",
       "1               Improper Disposal                    86\n",
       "2                            Loss                   163\n",
       "3                           Other                    72\n",
       "4                           Theft                   764\n",
       "5  Unauthorized Access/Disclosure                   848\n",
       "6                         Unknown                    11"
      ]
     },
     "execution_count": 51,
     "metadata": {},
     "output_type": "execute_result"
    }
   ],
   "source": [
    "cause_of_breach = pd.DataFrame(df.groupby(['Type of Breach'])[['Individuals Affected']].count()).reset_index()\n",
    "cause_of_breach"
   ]
  },
  {
   "cell_type": "code",
   "execution_count": 52,
   "metadata": {},
   "outputs": [
    {
     "data": {
      "text/plain": [
       "[Text(0.5, 0, 'Number of Breaches')]"
      ]
     },
     "execution_count": 52,
     "metadata": {},
     "output_type": "execute_result"
    },
    {
     "data": {
      "image/png": "[encoded data removed]",
      "text/plain": [
       "<Figure size 1080x576 with 1 Axes>"
      ]
     },
     "metadata": {
      "needs_background": "light"
     },
     "output_type": "display_data"
    }
   ],
   "source": [
    "fig, ax = plt.subplots(figsize=(15,8))\n",
    "sns.barplot(y='Type of Breach', x='Individuals Affected', data=cause_of_breach).set_title('Causes of Data Breach')\n",
    "ax.set(xlabel='Number of Breaches')"
   ]
  },
  {
   "cell_type": "code",
   "execution_count": 53,
   "metadata": {},
   "outputs": [
    {
     "data": {
      "text/html": [
       "<div>\n",
       "<style scoped>\n",
       "    .dataframe tbody tr th:only-of-type {\n",
       "        vertical-align: middle;\n",
       "    }\n",
       "\n",
       "    .dataframe tbody tr th {\n",
       "        vertical-align: top;\n",
       "    }\n",
       "\n",
       "    .dataframe thead th {\n",
       "        text-align: right;\n",
       "    }\n",
       "</style>\n",
       "<table border=\"1\" class=\"dataframe\">\n",
       "  <thead>\n",
       "    <tr style=\"text-align: right;\">\n",
       "      <th></th>\n",
       "      <th>Breach Submission Year</th>\n",
       "      <th>Type of Breach</th>\n",
       "      <th>Individuals Affected</th>\n",
       "    </tr>\n",
       "  </thead>\n",
       "  <tbody>\n",
       "    <tr>\n",
       "      <th>0</th>\n",
       "      <td>2009</td>\n",
       "      <td>Hacking/IT Incident</td>\n",
       "      <td>0</td>\n",
       "    </tr>\n",
       "    <tr>\n",
       "      <th>1</th>\n",
       "      <td>2009</td>\n",
       "      <td>Improper Disposal</td>\n",
       "      <td>0</td>\n",
       "    </tr>\n",
       "    <tr>\n",
       "      <th>2</th>\n",
       "      <td>2009</td>\n",
       "      <td>Loss</td>\n",
       "      <td>1</td>\n",
       "    </tr>\n",
       "    <tr>\n",
       "      <th>3</th>\n",
       "      <td>2009</td>\n",
       "      <td>Other</td>\n",
       "      <td>2</td>\n",
       "    </tr>\n",
       "    <tr>\n",
       "      <th>4</th>\n",
       "      <td>2009</td>\n",
       "      <td>Theft</td>\n",
       "      <td>12</td>\n",
       "    </tr>\n",
       "    <tr>\n",
       "      <th>...</th>\n",
       "      <td>...</td>\n",
       "      <td>...</td>\n",
       "      <td>...</td>\n",
       "    </tr>\n",
       "    <tr>\n",
       "      <th>79</th>\n",
       "      <td>2020</td>\n",
       "      <td>Loss</td>\n",
       "      <td>8</td>\n",
       "    </tr>\n",
       "    <tr>\n",
       "      <th>80</th>\n",
       "      <td>2020</td>\n",
       "      <td>Other</td>\n",
       "      <td>0</td>\n",
       "    </tr>\n",
       "    <tr>\n",
       "      <th>81</th>\n",
       "      <td>2020</td>\n",
       "      <td>Theft</td>\n",
       "      <td>20</td>\n",
       "    </tr>\n",
       "    <tr>\n",
       "      <th>82</th>\n",
       "      <td>2020</td>\n",
       "      <td>Unauthorized Access/Disclosure</td>\n",
       "      <td>68</td>\n",
       "    </tr>\n",
       "    <tr>\n",
       "      <th>83</th>\n",
       "      <td>2020</td>\n",
       "      <td>Unknown</td>\n",
       "      <td>0</td>\n",
       "    </tr>\n",
       "  </tbody>\n",
       "</table>\n",
       "<p>84 rows × 3 columns</p>\n",
       "</div>"
      ],
      "text/plain": [
       "    Breach Submission Year                  Type of Breach  \\\n",
       "0                     2009             Hacking/IT Incident   \n",
       "1                     2009               Improper Disposal   \n",
       "2                     2009                            Loss   \n",
       "3                     2009                           Other   \n",
       "4                     2009                           Theft   \n",
       "..                     ...                             ...   \n",
       "79                    2020                            Loss   \n",
       "80                    2020                           Other   \n",
       "81                    2020                           Theft   \n",
       "82                    2020  Unauthorized Access/Disclosure   \n",
       "83                    2020                         Unknown   \n",
       "\n",
       "    Individuals Affected  \n",
       "0                      0  \n",
       "1                      0  \n",
       "2                      1  \n",
       "3                      2  \n",
       "4                     12  \n",
       "..                   ...  \n",
       "79                     8  \n",
       "80                     0  \n",
       "81                    20  \n",
       "82                    68  \n",
       "83                     0  \n",
       "\n",
       "[84 rows x 3 columns]"
      ]
     },
     "execution_count": 53,
     "metadata": {},
     "output_type": "execute_result"
    }
   ],
   "source": [
    "causes_of_breaches_by_year = pd.DataFrame(df.groupby(['Breach Submission Year', 'Type of Breach'])[['Individuals Affected']].count()).reset_index()\n",
    "causes_of_breaches_by_year['Individuals Affected'] = causes_of_breaches_by_year['Individuals Affected'].fillna(0).astype(np.int64)\n",
    "causes_of_breaches_by_year"
   ]
  },
  {
   "cell_type": "code",
   "execution_count": 54,
   "metadata": {},
   "outputs": [
    {
     "data": {
      "text/plain": [
       "[Text(0.5, 51.0, 'Breach Submission Year')]"
      ]
     },
     "execution_count": 54,
     "metadata": {},
     "output_type": "execute_result"
    },
    {
     "data": {
      "image/png": "[encoded data removed]",
      "text/plain": [
       "<Figure size 1080x576 with 2 Axes>"
      ]
     },
     "metadata": {
      "needs_background": "light"
     },
     "output_type": "display_data"
    }
   ],
   "source": [
    "fig, ax = plt.subplots(figsize=(15, 8))\n",
    "data_breaches_per_year_heatmap = causes_of_breaches_by_year.pivot('Type of Breach', 'Breach Submission Year', 'Individuals Affected')\n",
    "sns.heatmap(annot=True, cmap=\"YlGnBu\",  cbar_kws={'label': 'Number of Incidents'}, data=data_breaches_per_year_heatmap).set_title('Causes of Data Breach by Year')\n",
    "plt.setp(ax.xaxis.get_majorticklabels(), ha='right')\n",
    "plt.xticks(rotation=45)\n",
    "ax.set(xlabel='Breach Submission Year')"
   ]
  },
  {
   "cell_type": "markdown",
   "metadata": {},
   "source": [
    "## 3. Where did the Data Breach occur?"
   ]
  },
  {
   "cell_type": "code",
   "execution_count": 55,
   "metadata": {},
   "outputs": [
    {
     "data": {
      "text/html": [
       "<div>\n",
       "<style scoped>\n",
       "    .dataframe tbody tr th:only-of-type {\n",
       "        vertical-align: middle;\n",
       "    }\n",
       "\n",
       "    .dataframe tbody tr th {\n",
       "        vertical-align: top;\n",
       "    }\n",
       "\n",
       "    .dataframe thead th {\n",
       "        text-align: right;\n",
       "    }\n",
       "</style>\n",
       "<table border=\"1\" class=\"dataframe\">\n",
       "  <thead>\n",
       "    <tr style=\"text-align: right;\">\n",
       "      <th></th>\n",
       "      <th>Covered Entity Type</th>\n",
       "      <th>Individuals Affected</th>\n",
       "    </tr>\n",
       "  </thead>\n",
       "  <tbody>\n",
       "    <tr>\n",
       "      <th>0</th>\n",
       "      <td>Business Associate</td>\n",
       "      <td>378</td>\n",
       "    </tr>\n",
       "    <tr>\n",
       "      <th>1</th>\n",
       "      <td>Health Plan</td>\n",
       "      <td>402</td>\n",
       "    </tr>\n",
       "    <tr>\n",
       "      <th>2</th>\n",
       "      <td>Healthcare Clearing House</td>\n",
       "      <td>5</td>\n",
       "    </tr>\n",
       "    <tr>\n",
       "      <th>3</th>\n",
       "      <td>Healthcare Provider</td>\n",
       "      <td>2066</td>\n",
       "    </tr>\n",
       "  </tbody>\n",
       "</table>\n",
       "</div>"
      ],
      "text/plain": [
       "         Covered Entity Type  Individuals Affected\n",
       "0         Business Associate                   378\n",
       "1                Health Plan                   402\n",
       "2  Healthcare Clearing House                     5\n",
       "3        Healthcare Provider                  2066"
      ]
     },
     "execution_count": 55,
     "metadata": {},
     "output_type": "execute_result"
    }
   ],
   "source": [
    "covered_entity_type = pd.DataFrame(df.groupby(['Covered Entity Type'])[['Individuals Affected']].count()).reset_index()\n",
    "covered_entity_type"
   ]
  },
  {
   "cell_type": "code",
   "execution_count": 56,
   "metadata": {},
   "outputs": [
    {
     "data": {
      "application/vnd.plotly.v1+json": {
       "config": {
        "linkText": "Export to plot.ly",
        "plotlyServerURL": "https://plot.ly",
        "showLink": true
       },
       "data": [
        {
         "hole": 0.5,
         "labels": [
          "Business Associate",
          "Health Plan",
          "Healthcare Clearing House",
          "Healthcare Provider"
         ],
         "marker": {
          "colors": [
           "rgba(226, 74, 51, 1.0)",
           "rgba(62, 111, 176, 1.0)",
           "rgba(132, 118, 202, 1.0)",
           "rgba(101, 101, 101, 1.0)"
          ]
         },
         "name": "",
         "type": "pie",
         "values": [
          378,
          402,
          5,
          2066
         ]
        }
       ],
       "layout": {
        "legend": {
         "bgcolor": "#FFFFFF",
         "font": {
          "color": "#666666"
         }
        },
        "paper_bgcolor": "#FFFFFF",
        "plot_bgcolor": "#E5E5E5",
        "title": "Healthcare Organizations affected by Data Breach",
        "titlefont": {
         "color": "#151516"
        }
       }
      },
      "text/html": [
       "<div>                            <div id=\"76f3c147-8522-48d0-925f-302a96a77eea\" class=\"plotly-graph-div\" style=\"height:525px; width:100%;\"></div>            <script type=\"text/javascript\">                require([\"plotly\"], function(Plotly) {                    window.PLOTLYENV=window.PLOTLYENV || {};\n",
       "                    window.PLOTLYENV.BASE_URL='https://plot.ly';                                    if (document.getElementById(\"76f3c147-8522-48d0-925f-302a96a77eea\")) {                    Plotly.newPlot(                        \"76f3c147-8522-48d0-925f-302a96a77eea\",                        [{\"hole\":0.5,\"labels\":[\"Business Associate\",\"Health Plan\",\"Healthcare Clearing House\",\"Healthcare Provider\"],\"marker\":{\"colors\":[\"rgba(226, 74, 51, 1.0)\",\"rgba(62, 111, 176, 1.0)\",\"rgba(132, 118, 202, 1.0)\",\"rgba(101, 101, 101, 1.0)\"]},\"name\":\"\",\"type\":\"pie\",\"values\":[378,402,5,2066]}],                        {\"legend\":{\"bgcolor\":\"#FFFFFF\",\"font\":{\"color\":\"#666666\"}},\"paper_bgcolor\":\"#FFFFFF\",\"plot_bgcolor\":\"#E5E5E5\",\"title\":\"Healthcare Organizations affected by Data Breach\",\"titlefont\":{\"color\":\"#151516\"}},                        {\"showLink\": true, \"linkText\": \"Export to plot.ly\", \"plotlyServerURL\": \"https://plot.ly\", \"responsive\": true}                    ).then(function(){\n",
       "                            \n",
       "var gd = document.getElementById('76f3c147-8522-48d0-925f-302a96a77eea');\n",
       "var x = new MutationObserver(function (mutations, observer) {{\n",
       "        var display = window.getComputedStyle(gd).display;\n",
       "        if (!display || display === 'none') {{\n",
       "            console.log([gd, 'removed!']);\n",
       "            Plotly.purge(gd);\n",
       "            observer.disconnect();\n",
       "        }}\n",
       "}});\n",
       "\n",
       "// Listen for the removal of the full notebook cells\n",
       "var notebookContainer = gd.closest('#notebook-container');\n",
       "if (notebookContainer) {{\n",
       "    x.observe(notebookContainer, {childList: true});\n",
       "}}\n",
       "\n",
       "// Listen for the clearing of the current output cell\n",
       "var outputEl = gd.closest('.output');\n",
       "if (outputEl) {{\n",
       "    x.observe(outputEl, {childList: true});\n",
       "}}\n",
       "\n",
       "                        })                };                });            </script>        </div>"
      ]
     },
     "metadata": {},
     "output_type": "display_data"
    }
   ],
   "source": [
    "covered_entity_type.iplot(labels='Covered Entity Type', values='Individuals Affected',hole=.5, title='Healthcare Organizations affected by Data Breach', kind='pie')"
   ]
  },
  {
   "cell_type": "code",
   "execution_count": 57,
   "metadata": {},
   "outputs": [
    {
     "data": {
      "text/html": [
       "<div>\n",
       "<style scoped>\n",
       "    .dataframe tbody tr th:only-of-type {\n",
       "        vertical-align: middle;\n",
       "    }\n",
       "\n",
       "    .dataframe tbody tr th {\n",
       "        vertical-align: top;\n",
       "    }\n",
       "\n",
       "    .dataframe thead th {\n",
       "        text-align: right;\n",
       "    }\n",
       "</style>\n",
       "<table border=\"1\" class=\"dataframe\">\n",
       "  <thead>\n",
       "    <tr style=\"text-align: right;\">\n",
       "      <th></th>\n",
       "      <th>Covered Entity Type</th>\n",
       "      <th>Breach Submission Year</th>\n",
       "      <th>Individuals Affected</th>\n",
       "    </tr>\n",
       "  </thead>\n",
       "  <tbody>\n",
       "    <tr>\n",
       "      <th>0</th>\n",
       "      <td>Business Associate</td>\n",
       "      <td>2009</td>\n",
       "      <td>2</td>\n",
       "    </tr>\n",
       "    <tr>\n",
       "      <th>1</th>\n",
       "      <td>Business Associate</td>\n",
       "      <td>2010</td>\n",
       "      <td>33</td>\n",
       "    </tr>\n",
       "    <tr>\n",
       "      <th>2</th>\n",
       "      <td>Business Associate</td>\n",
       "      <td>2011</td>\n",
       "      <td>31</td>\n",
       "    </tr>\n",
       "    <tr>\n",
       "      <th>3</th>\n",
       "      <td>Business Associate</td>\n",
       "      <td>2012</td>\n",
       "      <td>32</td>\n",
       "    </tr>\n",
       "    <tr>\n",
       "      <th>4</th>\n",
       "      <td>Business Associate</td>\n",
       "      <td>2013</td>\n",
       "      <td>61</td>\n",
       "    </tr>\n",
       "    <tr>\n",
       "      <th>5</th>\n",
       "      <td>Business Associate</td>\n",
       "      <td>2014</td>\n",
       "      <td>60</td>\n",
       "    </tr>\n",
       "    <tr>\n",
       "      <th>6</th>\n",
       "      <td>Business Associate</td>\n",
       "      <td>2015</td>\n",
       "      <td>12</td>\n",
       "    </tr>\n",
       "    <tr>\n",
       "      <th>7</th>\n",
       "      <td>Business Associate</td>\n",
       "      <td>2016</td>\n",
       "      <td>21</td>\n",
       "    </tr>\n",
       "    <tr>\n",
       "      <th>8</th>\n",
       "      <td>Business Associate</td>\n",
       "      <td>2017</td>\n",
       "      <td>17</td>\n",
       "    </tr>\n",
       "    <tr>\n",
       "      <th>9</th>\n",
       "      <td>Business Associate</td>\n",
       "      <td>2018</td>\n",
       "      <td>39</td>\n",
       "    </tr>\n",
       "    <tr>\n",
       "      <th>10</th>\n",
       "      <td>Business Associate</td>\n",
       "      <td>2019</td>\n",
       "      <td>48</td>\n",
       "    </tr>\n",
       "    <tr>\n",
       "      <th>11</th>\n",
       "      <td>Business Associate</td>\n",
       "      <td>2020</td>\n",
       "      <td>22</td>\n",
       "    </tr>\n",
       "    <tr>\n",
       "      <th>12</th>\n",
       "      <td>Health Plan</td>\n",
       "      <td>2009</td>\n",
       "      <td>1</td>\n",
       "    </tr>\n",
       "    <tr>\n",
       "      <th>13</th>\n",
       "      <td>Health Plan</td>\n",
       "      <td>2010</td>\n",
       "      <td>18</td>\n",
       "    </tr>\n",
       "    <tr>\n",
       "      <th>14</th>\n",
       "      <td>Health Plan</td>\n",
       "      <td>2011</td>\n",
       "      <td>17</td>\n",
       "    </tr>\n",
       "    <tr>\n",
       "      <th>15</th>\n",
       "      <td>Health Plan</td>\n",
       "      <td>2012</td>\n",
       "      <td>22</td>\n",
       "    </tr>\n",
       "    <tr>\n",
       "      <th>16</th>\n",
       "      <td>Health Plan</td>\n",
       "      <td>2013</td>\n",
       "      <td>19</td>\n",
       "    </tr>\n",
       "    <tr>\n",
       "      <th>17</th>\n",
       "      <td>Health Plan</td>\n",
       "      <td>2014</td>\n",
       "      <td>36</td>\n",
       "    </tr>\n",
       "    <tr>\n",
       "      <th>18</th>\n",
       "      <td>Health Plan</td>\n",
       "      <td>2015</td>\n",
       "      <td>56</td>\n",
       "    </tr>\n",
       "    <tr>\n",
       "      <th>19</th>\n",
       "      <td>Health Plan</td>\n",
       "      <td>2016</td>\n",
       "      <td>47</td>\n",
       "    </tr>\n",
       "    <tr>\n",
       "      <th>20</th>\n",
       "      <td>Health Plan</td>\n",
       "      <td>2017</td>\n",
       "      <td>51</td>\n",
       "    </tr>\n",
       "    <tr>\n",
       "      <th>21</th>\n",
       "      <td>Health Plan</td>\n",
       "      <td>2018</td>\n",
       "      <td>49</td>\n",
       "    </tr>\n",
       "    <tr>\n",
       "      <th>22</th>\n",
       "      <td>Health Plan</td>\n",
       "      <td>2019</td>\n",
       "      <td>57</td>\n",
       "    </tr>\n",
       "    <tr>\n",
       "      <th>23</th>\n",
       "      <td>Health Plan</td>\n",
       "      <td>2020</td>\n",
       "      <td>29</td>\n",
       "    </tr>\n",
       "    <tr>\n",
       "      <th>24</th>\n",
       "      <td>Healthcare Clearing House</td>\n",
       "      <td>2009</td>\n",
       "      <td>0</td>\n",
       "    </tr>\n",
       "    <tr>\n",
       "      <th>25</th>\n",
       "      <td>Healthcare Clearing House</td>\n",
       "      <td>2010</td>\n",
       "      <td>0</td>\n",
       "    </tr>\n",
       "    <tr>\n",
       "      <th>26</th>\n",
       "      <td>Healthcare Clearing House</td>\n",
       "      <td>2011</td>\n",
       "      <td>1</td>\n",
       "    </tr>\n",
       "    <tr>\n",
       "      <th>27</th>\n",
       "      <td>Healthcare Clearing House</td>\n",
       "      <td>2012</td>\n",
       "      <td>1</td>\n",
       "    </tr>\n",
       "    <tr>\n",
       "      <th>28</th>\n",
       "      <td>Healthcare Clearing House</td>\n",
       "      <td>2013</td>\n",
       "      <td>2</td>\n",
       "    </tr>\n",
       "    <tr>\n",
       "      <th>29</th>\n",
       "      <td>Healthcare Clearing House</td>\n",
       "      <td>2014</td>\n",
       "      <td>0</td>\n",
       "    </tr>\n",
       "    <tr>\n",
       "      <th>30</th>\n",
       "      <td>Healthcare Clearing House</td>\n",
       "      <td>2015</td>\n",
       "      <td>0</td>\n",
       "    </tr>\n",
       "    <tr>\n",
       "      <th>31</th>\n",
       "      <td>Healthcare Clearing House</td>\n",
       "      <td>2016</td>\n",
       "      <td>0</td>\n",
       "    </tr>\n",
       "    <tr>\n",
       "      <th>32</th>\n",
       "      <td>Healthcare Clearing House</td>\n",
       "      <td>2017</td>\n",
       "      <td>0</td>\n",
       "    </tr>\n",
       "    <tr>\n",
       "      <th>33</th>\n",
       "      <td>Healthcare Clearing House</td>\n",
       "      <td>2018</td>\n",
       "      <td>0</td>\n",
       "    </tr>\n",
       "    <tr>\n",
       "      <th>34</th>\n",
       "      <td>Healthcare Clearing House</td>\n",
       "      <td>2019</td>\n",
       "      <td>0</td>\n",
       "    </tr>\n",
       "    <tr>\n",
       "      <th>35</th>\n",
       "      <td>Healthcare Clearing House</td>\n",
       "      <td>2020</td>\n",
       "      <td>1</td>\n",
       "    </tr>\n",
       "    <tr>\n",
       "      <th>36</th>\n",
       "      <td>Healthcare Provider</td>\n",
       "      <td>2009</td>\n",
       "      <td>12</td>\n",
       "    </tr>\n",
       "    <tr>\n",
       "      <th>37</th>\n",
       "      <td>Healthcare Provider</td>\n",
       "      <td>2010</td>\n",
       "      <td>108</td>\n",
       "    </tr>\n",
       "    <tr>\n",
       "      <th>38</th>\n",
       "      <td>Healthcare Provider</td>\n",
       "      <td>2011</td>\n",
       "      <td>93</td>\n",
       "    </tr>\n",
       "    <tr>\n",
       "      <th>39</th>\n",
       "      <td>Healthcare Provider</td>\n",
       "      <td>2012</td>\n",
       "      <td>126</td>\n",
       "    </tr>\n",
       "    <tr>\n",
       "      <th>40</th>\n",
       "      <td>Healthcare Provider</td>\n",
       "      <td>2013</td>\n",
       "      <td>168</td>\n",
       "    </tr>\n",
       "    <tr>\n",
       "      <th>41</th>\n",
       "      <td>Healthcare Provider</td>\n",
       "      <td>2014</td>\n",
       "      <td>160</td>\n",
       "    </tr>\n",
       "    <tr>\n",
       "      <th>42</th>\n",
       "      <td>Healthcare Provider</td>\n",
       "      <td>2015</td>\n",
       "      <td>167</td>\n",
       "    </tr>\n",
       "    <tr>\n",
       "      <th>43</th>\n",
       "      <td>Healthcare Provider</td>\n",
       "      <td>2016</td>\n",
       "      <td>224</td>\n",
       "    </tr>\n",
       "    <tr>\n",
       "      <th>44</th>\n",
       "      <td>Healthcare Provider</td>\n",
       "      <td>2017</td>\n",
       "      <td>246</td>\n",
       "    </tr>\n",
       "    <tr>\n",
       "      <th>45</th>\n",
       "      <td>Healthcare Provider</td>\n",
       "      <td>2018</td>\n",
       "      <td>242</td>\n",
       "    </tr>\n",
       "    <tr>\n",
       "      <th>46</th>\n",
       "      <td>Healthcare Provider</td>\n",
       "      <td>2019</td>\n",
       "      <td>309</td>\n",
       "    </tr>\n",
       "    <tr>\n",
       "      <th>47</th>\n",
       "      <td>Healthcare Provider</td>\n",
       "      <td>2020</td>\n",
       "      <td>211</td>\n",
       "    </tr>\n",
       "  </tbody>\n",
       "</table>\n",
       "</div>"
      ],
      "text/plain": [
       "          Covered Entity Type  Breach Submission Year  Individuals Affected\n",
       "0          Business Associate                    2009                     2\n",
       "1          Business Associate                    2010                    33\n",
       "2          Business Associate                    2011                    31\n",
       "3          Business Associate                    2012                    32\n",
       "4          Business Associate                    2013                    61\n",
       "5          Business Associate                    2014                    60\n",
       "6          Business Associate                    2015                    12\n",
       "7          Business Associate                    2016                    21\n",
       "8          Business Associate                    2017                    17\n",
       "9          Business Associate                    2018                    39\n",
       "10         Business Associate                    2019                    48\n",
       "11         Business Associate                    2020                    22\n",
       "12                Health Plan                    2009                     1\n",
       "13                Health Plan                    2010                    18\n",
       "14                Health Plan                    2011                    17\n",
       "15                Health Plan                    2012                    22\n",
       "16                Health Plan                    2013                    19\n",
       "17                Health Plan                    2014                    36\n",
       "18                Health Plan                    2015                    56\n",
       "19                Health Plan                    2016                    47\n",
       "20                Health Plan                    2017                    51\n",
       "21                Health Plan                    2018                    49\n",
       "22                Health Plan                    2019                    57\n",
       "23                Health Plan                    2020                    29\n",
       "24  Healthcare Clearing House                    2009                     0\n",
       "25  Healthcare Clearing House                    2010                     0\n",
       "26  Healthcare Clearing House                    2011                     1\n",
       "27  Healthcare Clearing House                    2012                     1\n",
       "28  Healthcare Clearing House                    2013                     2\n",
       "29  Healthcare Clearing House                    2014                     0\n",
       "30  Healthcare Clearing House                    2015                     0\n",
       "31  Healthcare Clearing House                    2016                     0\n",
       "32  Healthcare Clearing House                    2017                     0\n",
       "33  Healthcare Clearing House                    2018                     0\n",
       "34  Healthcare Clearing House                    2019                     0\n",
       "35  Healthcare Clearing House                    2020                     1\n",
       "36        Healthcare Provider                    2009                    12\n",
       "37        Healthcare Provider                    2010                   108\n",
       "38        Healthcare Provider                    2011                    93\n",
       "39        Healthcare Provider                    2012                   126\n",
       "40        Healthcare Provider                    2013                   168\n",
       "41        Healthcare Provider                    2014                   160\n",
       "42        Healthcare Provider                    2015                   167\n",
       "43        Healthcare Provider                    2016                   224\n",
       "44        Healthcare Provider                    2017                   246\n",
       "45        Healthcare Provider                    2018                   242\n",
       "46        Healthcare Provider                    2019                   309\n",
       "47        Healthcare Provider                    2020                   211"
      ]
     },
     "execution_count": 57,
     "metadata": {},
     "output_type": "execute_result"
    }
   ],
   "source": [
    "breaches_per_year = pd.DataFrame(df.groupby(['Covered Entity Type', 'Breach Submission Year'])[['Individuals Affected']].count()).reset_index()\n",
    "breaches_per_year['Individuals Affected'] = breaches_per_year['Individuals Affected'].fillna(0).astype(np.int64)\n",
    "breaches_per_year"
   ]
  },
  {
   "cell_type": "code",
   "execution_count": 58,
   "metadata": {},
   "outputs": [
    {
     "data": {
      "text/plain": [
       "[Text(0, 0.5, 'Number of Incidents')]"
      ]
     },
     "execution_count": 58,
     "metadata": {},
     "output_type": "execute_result"
    },
    {
     "data": {
      "image/png": "[encoded data removed]",
      "text/plain": [
       "<Figure size 1080x576 with 1 Axes>"
      ]
     },
     "metadata": {
      "needs_background": "light"
     },
     "output_type": "display_data"
    }
   ],
   "source": [
    "fig, ax = plt.subplots(figsize=(15,8))\n",
    "sns.pointplot(x='Breach Submission Year', y='Individuals Affected', hue='Covered Entity Type', ci=None, ax=ax.ticklabel_format(useOffset=False, style='plain'), data=breaches_per_year).set_title('Healthcare Organizations Affected by Data Breaches by Year')\n",
    "ax.set(ylabel='Number of Incidents')"
   ]
  },
  {
   "cell_type": "code",
   "execution_count": 59,
   "metadata": {},
   "outputs": [],
   "source": [
    "breaches_by_state = df.groupby('State')[['Individuals Affected']].count().reset_index()"
   ]
  },
  {
   "cell_type": "code",
   "execution_count": 60,
   "metadata": {},
   "outputs": [
    {
     "data": {
      "text/html": [
       "<div>\n",
       "<style scoped>\n",
       "    .dataframe tbody tr th:only-of-type {\n",
       "        vertical-align: middle;\n",
       "    }\n",
       "\n",
       "    .dataframe tbody tr th {\n",
       "        vertical-align: top;\n",
       "    }\n",
       "\n",
       "    .dataframe thead th {\n",
       "        text-align: right;\n",
       "    }\n",
       "</style>\n",
       "<table border=\"1\" class=\"dataframe\">\n",
       "  <thead>\n",
       "    <tr style=\"text-align: right;\">\n",
       "      <th></th>\n",
       "      <th>State</th>\n",
       "      <th>Individuals Affected</th>\n",
       "    </tr>\n",
       "  </thead>\n",
       "  <tbody>\n",
       "    <tr>\n",
       "      <th>0</th>\n",
       "      <td>CA</td>\n",
       "      <td>309</td>\n",
       "    </tr>\n",
       "    <tr>\n",
       "      <th>1</th>\n",
       "      <td>TX</td>\n",
       "      <td>238</td>\n",
       "    </tr>\n",
       "    <tr>\n",
       "      <th>2</th>\n",
       "      <td>FL</td>\n",
       "      <td>183</td>\n",
       "    </tr>\n",
       "    <tr>\n",
       "      <th>3</th>\n",
       "      <td>NY</td>\n",
       "      <td>143</td>\n",
       "    </tr>\n",
       "    <tr>\n",
       "      <th>4</th>\n",
       "      <td>IL</td>\n",
       "      <td>130</td>\n",
       "    </tr>\n",
       "    <tr>\n",
       "      <th>5</th>\n",
       "      <td>PA</td>\n",
       "      <td>106</td>\n",
       "    </tr>\n",
       "    <tr>\n",
       "      <th>6</th>\n",
       "      <td>OH</td>\n",
       "      <td>106</td>\n",
       "    </tr>\n",
       "    <tr>\n",
       "      <th>7</th>\n",
       "      <td>GA</td>\n",
       "      <td>88</td>\n",
       "    </tr>\n",
       "    <tr>\n",
       "      <th>8</th>\n",
       "      <td>IN</td>\n",
       "      <td>83</td>\n",
       "    </tr>\n",
       "    <tr>\n",
       "      <th>9</th>\n",
       "      <td>MN</td>\n",
       "      <td>83</td>\n",
       "    </tr>\n",
       "    <tr>\n",
       "      <th>10</th>\n",
       "      <td>MA</td>\n",
       "      <td>83</td>\n",
       "    </tr>\n",
       "    <tr>\n",
       "      <th>11</th>\n",
       "      <td>MI</td>\n",
       "      <td>76</td>\n",
       "    </tr>\n",
       "    <tr>\n",
       "      <th>12</th>\n",
       "      <td>NC</td>\n",
       "      <td>75</td>\n",
       "    </tr>\n",
       "    <tr>\n",
       "      <th>13</th>\n",
       "      <td>TN</td>\n",
       "      <td>73</td>\n",
       "    </tr>\n",
       "    <tr>\n",
       "      <th>14</th>\n",
       "      <td>MO</td>\n",
       "      <td>72</td>\n",
       "    </tr>\n",
       "    <tr>\n",
       "      <th>15</th>\n",
       "      <td>WA</td>\n",
       "      <td>70</td>\n",
       "    </tr>\n",
       "    <tr>\n",
       "      <th>16</th>\n",
       "      <td>AZ</td>\n",
       "      <td>61</td>\n",
       "    </tr>\n",
       "    <tr>\n",
       "      <th>17</th>\n",
       "      <td>KY</td>\n",
       "      <td>56</td>\n",
       "    </tr>\n",
       "    <tr>\n",
       "      <th>18</th>\n",
       "      <td>CT</td>\n",
       "      <td>54</td>\n",
       "    </tr>\n",
       "    <tr>\n",
       "      <th>19</th>\n",
       "      <td>CO</td>\n",
       "      <td>53</td>\n",
       "    </tr>\n",
       "    <tr>\n",
       "      <th>20</th>\n",
       "      <td>MD</td>\n",
       "      <td>51</td>\n",
       "    </tr>\n",
       "    <tr>\n",
       "      <th>21</th>\n",
       "      <td>OR</td>\n",
       "      <td>49</td>\n",
       "    </tr>\n",
       "    <tr>\n",
       "      <th>22</th>\n",
       "      <td>IA</td>\n",
       "      <td>47</td>\n",
       "    </tr>\n",
       "    <tr>\n",
       "      <th>23</th>\n",
       "      <td>VA</td>\n",
       "      <td>46</td>\n",
       "    </tr>\n",
       "    <tr>\n",
       "      <th>24</th>\n",
       "      <td>WI</td>\n",
       "      <td>42</td>\n",
       "    </tr>\n",
       "    <tr>\n",
       "      <th>25</th>\n",
       "      <td>AL</td>\n",
       "      <td>36</td>\n",
       "    </tr>\n",
       "    <tr>\n",
       "      <th>26</th>\n",
       "      <td>SC</td>\n",
       "      <td>35</td>\n",
       "    </tr>\n",
       "    <tr>\n",
       "      <th>27</th>\n",
       "      <td>NJ</td>\n",
       "      <td>34</td>\n",
       "    </tr>\n",
       "    <tr>\n",
       "      <th>28</th>\n",
       "      <td>AR</td>\n",
       "      <td>34</td>\n",
       "    </tr>\n",
       "    <tr>\n",
       "      <th>29</th>\n",
       "      <td>NM</td>\n",
       "      <td>27</td>\n",
       "    </tr>\n",
       "    <tr>\n",
       "      <th>30</th>\n",
       "      <td>PR</td>\n",
       "      <td>26</td>\n",
       "    </tr>\n",
       "    <tr>\n",
       "      <th>31</th>\n",
       "      <td>NV</td>\n",
       "      <td>23</td>\n",
       "    </tr>\n",
       "    <tr>\n",
       "      <th>32</th>\n",
       "      <td>NE</td>\n",
       "      <td>22</td>\n",
       "    </tr>\n",
       "    <tr>\n",
       "      <th>33</th>\n",
       "      <td>KS</td>\n",
       "      <td>22</td>\n",
       "    </tr>\n",
       "    <tr>\n",
       "      <th>34</th>\n",
       "      <td>LA</td>\n",
       "      <td>21</td>\n",
       "    </tr>\n",
       "    <tr>\n",
       "      <th>35</th>\n",
       "      <td>OK</td>\n",
       "      <td>20</td>\n",
       "    </tr>\n",
       "    <tr>\n",
       "      <th>36</th>\n",
       "      <td>MS</td>\n",
       "      <td>19</td>\n",
       "    </tr>\n",
       "    <tr>\n",
       "      <th>37</th>\n",
       "      <td>UT</td>\n",
       "      <td>19</td>\n",
       "    </tr>\n",
       "    <tr>\n",
       "      <th>38</th>\n",
       "      <td>RI</td>\n",
       "      <td>18</td>\n",
       "    </tr>\n",
       "    <tr>\n",
       "      <th>39</th>\n",
       "      <td>MT</td>\n",
       "      <td>14</td>\n",
       "    </tr>\n",
       "    <tr>\n",
       "      <th>40</th>\n",
       "      <td>WV</td>\n",
       "      <td>13</td>\n",
       "    </tr>\n",
       "    <tr>\n",
       "      <th>41</th>\n",
       "      <td>DC</td>\n",
       "      <td>13</td>\n",
       "    </tr>\n",
       "    <tr>\n",
       "      <th>42</th>\n",
       "      <td>AK</td>\n",
       "      <td>10</td>\n",
       "    </tr>\n",
       "    <tr>\n",
       "      <th>43</th>\n",
       "      <td>ME</td>\n",
       "      <td>10</td>\n",
       "    </tr>\n",
       "    <tr>\n",
       "      <th>44</th>\n",
       "      <td>WY</td>\n",
       "      <td>10</td>\n",
       "    </tr>\n",
       "    <tr>\n",
       "      <th>45</th>\n",
       "      <td>NH</td>\n",
       "      <td>9</td>\n",
       "    </tr>\n",
       "    <tr>\n",
       "      <th>46</th>\n",
       "      <td>SD</td>\n",
       "      <td>8</td>\n",
       "    </tr>\n",
       "    <tr>\n",
       "      <th>47</th>\n",
       "      <td>HI</td>\n",
       "      <td>8</td>\n",
       "    </tr>\n",
       "    <tr>\n",
       "      <th>48</th>\n",
       "      <td>VT</td>\n",
       "      <td>6</td>\n",
       "    </tr>\n",
       "    <tr>\n",
       "      <th>49</th>\n",
       "      <td>ID</td>\n",
       "      <td>6</td>\n",
       "    </tr>\n",
       "    <tr>\n",
       "      <th>50</th>\n",
       "      <td>DE</td>\n",
       "      <td>6</td>\n",
       "    </tr>\n",
       "    <tr>\n",
       "      <th>51</th>\n",
       "      <td>ND</td>\n",
       "      <td>5</td>\n",
       "    </tr>\n",
       "  </tbody>\n",
       "</table>\n",
       "</div>"
      ],
      "text/plain": [
       "   State  Individuals Affected\n",
       "0     CA                   309\n",
       "1     TX                   238\n",
       "2     FL                   183\n",
       "3     NY                   143\n",
       "4     IL                   130\n",
       "5     PA                   106\n",
       "6     OH                   106\n",
       "7     GA                    88\n",
       "8     IN                    83\n",
       "9     MN                    83\n",
       "10    MA                    83\n",
       "11    MI                    76\n",
       "12    NC                    75\n",
       "13    TN                    73\n",
       "14    MO                    72\n",
       "15    WA                    70\n",
       "16    AZ                    61\n",
       "17    KY                    56\n",
       "18    CT                    54\n",
       "19    CO                    53\n",
       "20    MD                    51\n",
       "21    OR                    49\n",
       "22    IA                    47\n",
       "23    VA                    46\n",
       "24    WI                    42\n",
       "25    AL                    36\n",
       "26    SC                    35\n",
       "27    NJ                    34\n",
       "28    AR                    34\n",
       "29    NM                    27\n",
       "30    PR                    26\n",
       "31    NV                    23\n",
       "32    NE                    22\n",
       "33    KS                    22\n",
       "34    LA                    21\n",
       "35    OK                    20\n",
       "36    MS                    19\n",
       "37    UT                    19\n",
       "38    RI                    18\n",
       "39    MT                    14\n",
       "40    WV                    13\n",
       "41    DC                    13\n",
       "42    AK                    10\n",
       "43    ME                    10\n",
       "44    WY                    10\n",
       "45    NH                     9\n",
       "46    SD                     8\n",
       "47    HI                     8\n",
       "48    VT                     6\n",
       "49    ID                     6\n",
       "50    DE                     6\n",
       "51    ND                     5"
      ]
     },
     "execution_count": 60,
     "metadata": {},
     "output_type": "execute_result"
    }
   ],
   "source": [
    "breaches_by_state = breaches_by_state.sort_values(by='Individuals Affected', ascending=False).reset_index(drop=True)\n",
    "breaches_by_state"
   ]
  },
  {
   "cell_type": "code",
   "execution_count": 61,
   "metadata": {},
   "outputs": [
    {
     "data": {
      "application/vnd.plotly.v1+json": {
       "config": {
        "linkText": "Export to plot.ly",
        "plotlyServerURL": "https://plot.ly",
        "showLink": false
       },
       "data": [
        {
         "colorbar": {
          "title": {
           "text": "Number of Incidents"
          }
         },
         "colorscale": [
          [
           0,
           "rgb(12,51,131)"
          ],
          [
           0.25,
           "rgb(10,136,186)"
          ],
          [
           0.5,
           "rgb(242,211,56)"
          ],
          [
           0.75,
           "rgb(242,143,56)"
          ],
          [
           1,
           "rgb(217,30,30)"
          ]
         ],
         "locationmode": "USA-states",
         "locations": [
          "CA",
          "TX",
          "FL",
          "NY",
          "IL",
          "PA",
          "OH",
          "GA",
          "IN",
          "MN",
          "MA",
          "MI",
          "NC",
          "TN",
          "MO",
          "WA",
          "AZ",
          "KY",
          "CT",
          "CO",
          "MD",
          "OR",
          "IA",
          "VA",
          "WI",
          "AL",
          "SC",
          "NJ",
          "AR",
          "NM",
          "PR",
          "NV",
          "NE",
          "KS",
          "LA",
          "OK",
          "MS",
          "UT",
          "RI",
          "MT",
          "WV",
          "DC",
          "AK",
          "ME",
          "WY",
          "NH",
          "SD",
          "HI",
          "VT",
          "ID",
          "DE",
          "ND"
         ],
         "type": "choropleth",
         "z": [
          309,
          238,
          183,
          143,
          130,
          106,
          106,
          88,
          83,
          83,
          83,
          76,
          75,
          73,
          72,
          70,
          61,
          56,
          54,
          53,
          51,
          49,
          47,
          46,
          42,
          36,
          35,
          34,
          34,
          27,
          26,
          23,
          22,
          22,
          21,
          20,
          19,
          19,
          18,
          14,
          13,
          13,
          10,
          10,
          10,
          9,
          8,
          8,
          6,
          6,
          6,
          5
         ]
        }
       ],
       "layout": {
        "geo": {
         "projection": {
          "type": "albers usa"
         },
         "scope": "usa"
        },
        "template": {
         "data": {
          "bar": [
           {
            "error_x": {
             "color": "#2a3f5f"
            },
            "error_y": {
             "color": "#2a3f5f"
            },
            "marker": {
             "line": {
              "color": "#E5ECF6",
              "width": 0.5
             },
             "pattern": {
              "fillmode": "overlay",
              "size": 10,
              "solidity": 0.2
             }
            },
            "type": "bar"
           }
          ],
          "barpolar": [
           {
            "marker": {
             "line": {
              "color": "#E5ECF6",
              "width": 0.5
             },
             "pattern": {
              "fillmode": "overlay",
              "size": 10,
              "solidity": 0.2
             }
            },
            "type": "barpolar"
           }
          ],
          "carpet": [
           {
            "aaxis": {
             "endlinecolor": "#2a3f5f",
             "gridcolor": "white",
             "linecolor": "white",
             "minorgridcolor": "white",
             "startlinecolor": "#2a3f5f"
            },
            "baxis": {
             "endlinecolor": "#2a3f5f",
             "gridcolor": "white",
             "linecolor": "white",
             "minorgridcolor": "white",
             "startlinecolor": "#2a3f5f"
            },
            "type": "carpet"
           }
          ],
          "choropleth": [
           {
            "colorbar": {
             "outlinewidth": 0,
             "ticks": ""
            },
            "type": "choropleth"
           }
          ],
          "contour": [
           {
            "colorbar": {
             "outlinewidth": 0,
             "ticks": ""
            },
            "colorscale": [
             [
              0,
              "#0d0887"
             ],
             [
              0.1111111111111111,
              "#46039f"
             ],
             [
              0.2222222222222222,
              "#7201a8"
             ],
             [
              0.3333333333333333,
              "#9c179e"
             ],
             [
              0.4444444444444444,
              "#bd3786"
             ],
             [
              0.5555555555555556,
              "#d8576b"
             ],
             [
              0.6666666666666666,
              "#ed7953"
             ],
             [
              0.7777777777777778,
              "#fb9f3a"
             ],
             [
              0.8888888888888888,
              "#fdca26"
             ],
             [
              1,
              "#f0f921"
             ]
            ],
            "type": "contour"
           }
          ],
          "contourcarpet": [
           {
            "colorbar": {
             "outlinewidth": 0,
             "ticks": ""
            },
            "type": "contourcarpet"
           }
          ],
          "heatmap": [
           {
            "colorbar": {
             "outlinewidth": 0,
             "ticks": ""
            },
            "colorscale": [
             [
              0,
              "#0d0887"
             ],
             [
              0.1111111111111111,
              "#46039f"
             ],
             [
              0.2222222222222222,
              "#7201a8"
             ],
             [
              0.3333333333333333,
              "#9c179e"
             ],
             [
              0.4444444444444444,
              "#bd3786"
             ],
             [
              0.5555555555555556,
              "#d8576b"
             ],
             [
              0.6666666666666666,
              "#ed7953"
             ],
             [
              0.7777777777777778,
              "#fb9f3a"
             ],
             [
              0.8888888888888888,
              "#fdca26"
             ],
             [
              1,
              "#f0f921"
             ]
            ],
            "type": "heatmap"
           }
          ],
          "heatmapgl": [
           {
            "colorbar": {
             "outlinewidth": 0,
             "ticks": ""
            },
            "colorscale": [
             [
              0,
              "#0d0887"
             ],
             [
              0.1111111111111111,
              "#46039f"
             ],
             [
              0.2222222222222222,
              "#7201a8"
             ],
             [
              0.3333333333333333,
              "#9c179e"
             ],
             [
              0.4444444444444444,
              "#bd3786"
             ],
             [
              0.5555555555555556,
              "#d8576b"
             ],
             [
              0.6666666666666666,
              "#ed7953"
             ],
             [
              0.7777777777777778,
              "#fb9f3a"
             ],
             [
              0.8888888888888888,
              "#fdca26"
             ],
             [
              1,
              "#f0f921"
             ]
            ],
            "type": "heatmapgl"
           }
          ],
          "histogram": [
           {
            "marker": {
             "pattern": {
              "fillmode": "overlay",
              "size": 10,
              "solidity": 0.2
             }
            },
            "type": "histogram"
           }
          ],
          "histogram2d": [
           {
            "colorbar": {
             "outlinewidth": 0,
             "ticks": ""
            },
            "colorscale": [
             [
              0,
              "#0d0887"
             ],
             [
              0.1111111111111111,
              "#46039f"
             ],
             [
              0.2222222222222222,
              "#7201a8"
             ],
             [
              0.3333333333333333,
              "#9c179e"
             ],
             [
              0.4444444444444444,
              "#bd3786"
             ],
             [
              0.5555555555555556,
              "#d8576b"
             ],
             [
              0.6666666666666666,
              "#ed7953"
             ],
             [
              0.7777777777777778,
              "#fb9f3a"
             ],
             [
              0.8888888888888888,
              "#fdca26"
             ],
             [
              1,
              "#f0f921"
             ]
            ],
            "type": "histogram2d"
           }
          ],
          "histogram2dcontour": [
           {
            "colorbar": {
             "outlinewidth": 0,
             "ticks": ""
            },
            "colorscale": [
             [
              0,
              "#0d0887"
             ],
             [
              0.1111111111111111,
              "#46039f"
             ],
             [
              0.2222222222222222,
              "#7201a8"
             ],
             [
              0.3333333333333333,
              "#9c179e"
             ],
             [
              0.4444444444444444,
              "#bd3786"
             ],
             [
              0.5555555555555556,
              "#d8576b"
             ],
             [
              0.6666666666666666,
              "#ed7953"
             ],
             [
              0.7777777777777778,
              "#fb9f3a"
             ],
             [
              0.8888888888888888,
              "#fdca26"
             ],
             [
              1,
              "#f0f921"
             ]
            ],
            "type": "histogram2dcontour"
           }
          ],
          "mesh3d": [
           {
            "colorbar": {
             "outlinewidth": 0,
             "ticks": ""
            },
            "type": "mesh3d"
           }
          ],
          "parcoords": [
           {
            "line": {
             "colorbar": {
              "outlinewidth": 0,
              "ticks": ""
             }
            },
            "type": "parcoords"
           }
          ],
          "pie": [
           {
            "automargin": true,
            "type": "pie"
           }
          ],
          "scatter": [
           {
            "marker": {
             "colorbar": {
              "outlinewidth": 0,
              "ticks": ""
             }
            },
            "type": "scatter"
           }
          ],
          "scatter3d": [
           {
            "line": {
             "colorbar": {
              "outlinewidth": 0,
              "ticks": ""
             }
            },
            "marker": {
             "colorbar": {
              "outlinewidth": 0,
              "ticks": ""
             }
            },
            "type": "scatter3d"
           }
          ],
          "scattercarpet": [
           {
            "marker": {
             "colorbar": {
              "outlinewidth": 0,
              "ticks": ""
             }
            },
            "type": "scattercarpet"
           }
          ],
          "scattergeo": [
           {
            "marker": {
             "colorbar": {
              "outlinewidth": 0,
              "ticks": ""
             }
            },
            "type": "scattergeo"
           }
          ],
          "scattergl": [
           {
            "marker": {
             "colorbar": {
              "outlinewidth": 0,
              "ticks": ""
             }
            },
            "type": "scattergl"
           }
          ],
          "scattermapbox": [
           {
            "marker": {
             "colorbar": {
              "outlinewidth": 0,
              "ticks": ""
             }
            },
            "type": "scattermapbox"
           }
          ],
          "scatterpolar": [
           {
            "marker": {
             "colorbar": {
              "outlinewidth": 0,
              "ticks": ""
             }
            },
            "type": "scatterpolar"
           }
          ],
          "scatterpolargl": [
           {
            "marker": {
             "colorbar": {
              "outlinewidth": 0,
              "ticks": ""
             }
            },
            "type": "scatterpolargl"
           }
          ],
          "scatterternary": [
           {
            "marker": {
             "colorbar": {
              "outlinewidth": 0,
              "ticks": ""
             }
            },
            "type": "scatterternary"
           }
          ],
          "surface": [
           {
            "colorbar": {
             "outlinewidth": 0,
             "ticks": ""
            },
            "colorscale": [
             [
              0,
              "#0d0887"
             ],
             [
              0.1111111111111111,
              "#46039f"
             ],
             [
              0.2222222222222222,
              "#7201a8"
             ],
             [
              0.3333333333333333,
              "#9c179e"
             ],
             [
              0.4444444444444444,
              "#bd3786"
             ],
             [
              0.5555555555555556,
              "#d8576b"
             ],
             [
              0.6666666666666666,
              "#ed7953"
             ],
             [
              0.7777777777777778,
              "#fb9f3a"
             ],
             [
              0.8888888888888888,
              "#fdca26"
             ],
             [
              1,
              "#f0f921"
             ]
            ],
            "type": "surface"
           }
          ],
          "table": [
           {
            "cells": {
             "fill": {
              "color": "#EBF0F8"
             },
             "line": {
              "color": "white"
             }
            },
            "header": {
             "fill": {
              "color": "#C8D4E3"
             },
             "line": {
              "color": "white"
             }
            },
            "type": "table"
           }
          ]
         },
         "layout": {
          "annotationdefaults": {
           "arrowcolor": "#2a3f5f",
           "arrowhead": 0,
           "arrowwidth": 1
          },
          "autotypenumbers": "strict",
          "coloraxis": {
           "colorbar": {
            "outlinewidth": 0,
            "ticks": ""
           }
          },
          "colorscale": {
           "diverging": [
            [
             0,
             "#8e0152"
            ],
            [
             0.1,
             "#c51b7d"
            ],
            [
             0.2,
             "#de77ae"
            ],
            [
             0.3,
             "#f1b6da"
            ],
            [
             0.4,
             "#fde0ef"
            ],
            [
             0.5,
             "#f7f7f7"
            ],
            [
             0.6,
             "#e6f5d0"
            ],
            [
             0.7,
             "#b8e186"
            ],
            [
             0.8,
             "#7fbc41"
            ],
            [
             0.9,
             "#4d9221"
            ],
            [
             1,
             "#276419"
            ]
           ],
           "sequential": [
            [
             0,
             "#0d0887"
            ],
            [
             0.1111111111111111,
             "#46039f"
            ],
            [
             0.2222222222222222,
             "#7201a8"
            ],
            [
             0.3333333333333333,
             "#9c179e"
            ],
            [
             0.4444444444444444,
             "#bd3786"
            ],
            [
             0.5555555555555556,
             "#d8576b"
            ],
            [
             0.6666666666666666,
             "#ed7953"
            ],
            [
             0.7777777777777778,
             "#fb9f3a"
            ],
            [
             0.8888888888888888,
             "#fdca26"
            ],
            [
             1,
             "#f0f921"
            ]
           ],
           "sequentialminus": [
            [
             0,
             "#0d0887"
            ],
            [
             0.1111111111111111,
             "#46039f"
            ],
            [
             0.2222222222222222,
             "#7201a8"
            ],
            [
             0.3333333333333333,
             "#9c179e"
            ],
            [
             0.4444444444444444,
             "#bd3786"
            ],
            [
             0.5555555555555556,
             "#d8576b"
            ],
            [
             0.6666666666666666,
             "#ed7953"
            ],
            [
             0.7777777777777778,
             "#fb9f3a"
            ],
            [
             0.8888888888888888,
             "#fdca26"
            ],
            [
             1,
             "#f0f921"
            ]
           ]
          },
          "colorway": [
           "#636efa",
           "#EF553B",
           "#00cc96",
           "#ab63fa",
           "#FFA15A",
           "#19d3f3",
           "#FF6692",
           "#B6E880",
           "#FF97FF",
           "#FECB52"
          ],
          "font": {
           "color": "#2a3f5f"
          },
          "geo": {
           "bgcolor": "white",
           "lakecolor": "white",
           "landcolor": "#E5ECF6",
           "showlakes": true,
           "showland": true,
           "subunitcolor": "white"
          },
          "hoverlabel": {
           "align": "left"
          },
          "hovermode": "closest",
          "mapbox": {
           "style": "light"
          },
          "paper_bgcolor": "white",
          "plot_bgcolor": "#E5ECF6",
          "polar": {
           "angularaxis": {
            "gridcolor": "white",
            "linecolor": "white",
            "ticks": ""
           },
           "bgcolor": "#E5ECF6",
           "radialaxis": {
            "gridcolor": "white",
            "linecolor": "white",
            "ticks": ""
           }
          },
          "scene": {
           "xaxis": {
            "backgroundcolor": "#E5ECF6",
            "gridcolor": "white",
            "gridwidth": 2,
            "linecolor": "white",
            "showbackground": true,
            "ticks": "",
            "zerolinecolor": "white"
           },
           "yaxis": {
            "backgroundcolor": "#E5ECF6",
            "gridcolor": "white",
            "gridwidth": 2,
            "linecolor": "white",
            "showbackground": true,
            "ticks": "",
            "zerolinecolor": "white"
           },
           "zaxis": {
            "backgroundcolor": "#E5ECF6",
            "gridcolor": "white",
            "gridwidth": 2,
            "linecolor": "white",
            "showbackground": true,
            "ticks": "",
            "zerolinecolor": "white"
           }
          },
          "shapedefaults": {
           "line": {
            "color": "#2a3f5f"
           }
          },
          "ternary": {
           "aaxis": {
            "gridcolor": "white",
            "linecolor": "white",
            "ticks": ""
           },
           "baxis": {
            "gridcolor": "white",
            "linecolor": "white",
            "ticks": ""
           },
           "bgcolor": "#E5ECF6",
           "caxis": {
            "gridcolor": "white",
            "linecolor": "white",
            "ticks": ""
           }
          },
          "title": {
           "x": 0.05
          },
          "xaxis": {
           "automargin": true,
           "gridcolor": "white",
           "linecolor": "white",
           "ticks": "",
           "title": {
            "standoff": 15
           },
           "zerolinecolor": "white",
           "zerolinewidth": 2
          },
          "yaxis": {
           "automargin": true,
           "gridcolor": "white",
           "linecolor": "white",
           "ticks": "",
           "title": {
            "standoff": 15
           },
           "zerolinecolor": "white",
           "zerolinewidth": 2
          }
         }
        },
        "title": {
         "text": "Data Breaches in the USA by State"
        }
       }
      },
      "text/html": [
       "<div>                            <div id=\"27dd2c51-ecd2-4838-9e50-ea1a0e7a200c\" class=\"plotly-graph-div\" style=\"height:525px; width:100%;\"></div>            <script type=\"text/javascript\">                require([\"plotly\"], function(Plotly) {                    window.PLOTLYENV=window.PLOTLYENV || {};                                    if (document.getElementById(\"27dd2c51-ecd2-4838-9e50-ea1a0e7a200c\")) {                    Plotly.newPlot(                        \"27dd2c51-ecd2-4838-9e50-ea1a0e7a200c\",                        [{\"colorbar\":{\"title\":{\"text\":\"Number of Incidents\"}},\"colorscale\":[[0.0,\"rgb(12,51,131)\"],[0.25,\"rgb(10,136,186)\"],[0.5,\"rgb(242,211,56)\"],[0.75,\"rgb(242,143,56)\"],[1.0,\"rgb(217,30,30)\"]],\"locationmode\":\"USA-states\",\"locations\":[\"CA\",\"TX\",\"FL\",\"NY\",\"IL\",\"PA\",\"OH\",\"GA\",\"IN\",\"MN\",\"MA\",\"MI\",\"NC\",\"TN\",\"MO\",\"WA\",\"AZ\",\"KY\",\"CT\",\"CO\",\"MD\",\"OR\",\"IA\",\"VA\",\"WI\",\"AL\",\"SC\",\"NJ\",\"AR\",\"NM\",\"PR\",\"NV\",\"NE\",\"KS\",\"LA\",\"OK\",\"MS\",\"UT\",\"RI\",\"MT\",\"WV\",\"DC\",\"AK\",\"ME\",\"WY\",\"NH\",\"SD\",\"HI\",\"VT\",\"ID\",\"DE\",\"ND\"],\"type\":\"choropleth\",\"z\":[309,238,183,143,130,106,106,88,83,83,83,76,75,73,72,70,61,56,54,53,51,49,47,46,42,36,35,34,34,27,26,23,22,22,21,20,19,19,18,14,13,13,10,10,10,9,8,8,6,6,6,5]}],                        {\"geo\":{\"projection\":{\"type\":\"albers usa\"},\"scope\":\"usa\"},\"template\":{\"data\":{\"bar\":[{\"error_x\":{\"color\":\"#2a3f5f\"},\"error_y\":{\"color\":\"#2a3f5f\"},\"marker\":{\"line\":{\"color\":\"#E5ECF6\",\"width\":0.5},\"pattern\":{\"fillmode\":\"overlay\",\"size\":10,\"solidity\":0.2}},\"type\":\"bar\"}],\"barpolar\":[{\"marker\":{\"line\":{\"color\":\"#E5ECF6\",\"width\":0.5},\"pattern\":{\"fillmode\":\"overlay\",\"size\":10,\"solidity\":0.2}},\"type\":\"barpolar\"}],\"carpet\":[{\"aaxis\":{\"endlinecolor\":\"#2a3f5f\",\"gridcolor\":\"white\",\"linecolor\":\"white\",\"minorgridcolor\":\"white\",\"startlinecolor\":\"#2a3f5f\"},\"baxis\":{\"endlinecolor\":\"#2a3f5f\",\"gridcolor\":\"white\",\"linecolor\":\"white\",\"minorgridcolor\":\"white\",\"startlinecolor\":\"#2a3f5f\"},\"type\":\"carpet\"}],\"choropleth\":[{\"colorbar\":{\"outlinewidth\":0,\"ticks\":\"\"},\"type\":\"choropleth\"}],\"contour\":[{\"colorbar\":{\"outlinewidth\":0,\"ticks\":\"\"},\"colorscale\":[[0.0,\"#0d0887\"],[0.1111111111111111,\"#46039f\"],[0.2222222222222222,\"#7201a8\"],[0.3333333333333333,\"#9c179e\"],[0.4444444444444444,\"#bd3786\"],[0.5555555555555556,\"#d8576b\"],[0.6666666666666666,\"#ed7953\"],[0.7777777777777778,\"#fb9f3a\"],[0.8888888888888888,\"#fdca26\"],[1.0,\"#f0f921\"]],\"type\":\"contour\"}],\"contourcarpet\":[{\"colorbar\":{\"outlinewidth\":0,\"ticks\":\"\"},\"type\":\"contourcarpet\"}],\"heatmap\":[{\"colorbar\":{\"outlinewidth\":0,\"ticks\":\"\"},\"colorscale\":[[0.0,\"#0d0887\"],[0.1111111111111111,\"#46039f\"],[0.2222222222222222,\"#7201a8\"],[0.3333333333333333,\"#9c179e\"],[0.4444444444444444,\"#bd3786\"],[0.5555555555555556,\"#d8576b\"],[0.6666666666666666,\"#ed7953\"],[0.7777777777777778,\"#fb9f3a\"],[0.8888888888888888,\"#fdca26\"],[1.0,\"#f0f921\"]],\"type\":\"heatmap\"}],\"heatmapgl\":[{\"colorbar\":{\"outlinewidth\":0,\"ticks\":\"\"},\"colorscale\":[[0.0,\"#0d0887\"],[0.1111111111111111,\"#46039f\"],[0.2222222222222222,\"#7201a8\"],[0.3333333333333333,\"#9c179e\"],[0.4444444444444444,\"#bd3786\"],[0.5555555555555556,\"#d8576b\"],[0.6666666666666666,\"#ed7953\"],[0.7777777777777778,\"#fb9f3a\"],[0.8888888888888888,\"#fdca26\"],[1.0,\"#f0f921\"]],\"type\":\"heatmapgl\"}],\"histogram\":[{\"marker\":{\"pattern\":{\"fillmode\":\"overlay\",\"size\":10,\"solidity\":0.2}},\"type\":\"histogram\"}],\"histogram2d\":[{\"colorbar\":{\"outlinewidth\":0,\"ticks\":\"\"},\"colorscale\":[[0.0,\"#0d0887\"],[0.1111111111111111,\"#46039f\"],[0.2222222222222222,\"#7201a8\"],[0.3333333333333333,\"#9c179e\"],[0.4444444444444444,\"#bd3786\"],[0.5555555555555556,\"#d8576b\"],[0.6666666666666666,\"#ed7953\"],[0.7777777777777778,\"#fb9f3a\"],[0.8888888888888888,\"#fdca26\"],[1.0,\"#f0f921\"]],\"type\":\"histogram2d\"}],\"histogram2dcontour\":[{\"colorbar\":{\"outlinewidth\":0,\"ticks\":\"\"},\"colorscale\":[[0.0,\"#0d0887\"],[0.1111111111111111,\"#46039f\"],[0.2222222222222222,\"#7201a8\"],[0.3333333333333333,\"#9c179e\"],[0.4444444444444444,\"#bd3786\"],[0.5555555555555556,\"#d8576b\"],[0.6666666666666666,\"#ed7953\"],[0.7777777777777778,\"#fb9f3a\"],[0.8888888888888888,\"#fdca26\"],[1.0,\"#f0f921\"]],\"type\":\"histogram2dcontour\"}],\"mesh3d\":[{\"colorbar\":{\"outlinewidth\":0,\"ticks\":\"\"},\"type\":\"mesh3d\"}],\"parcoords\":[{\"line\":{\"colorbar\":{\"outlinewidth\":0,\"ticks\":\"\"}},\"type\":\"parcoords\"}],\"pie\":[{\"automargin\":true,\"type\":\"pie\"}],\"scatter\":[{\"marker\":{\"colorbar\":{\"outlinewidth\":0,\"ticks\":\"\"}},\"type\":\"scatter\"}],\"scatter3d\":[{\"line\":{\"colorbar\":{\"outlinewidth\":0,\"ticks\":\"\"}},\"marker\":{\"colorbar\":{\"outlinewidth\":0,\"ticks\":\"\"}},\"type\":\"scatter3d\"}],\"scattercarpet\":[{\"marker\":{\"colorbar\":{\"outlinewidth\":0,\"ticks\":\"\"}},\"type\":\"scattercarpet\"}],\"scattergeo\":[{\"marker\":{\"colorbar\":{\"outlinewidth\":0,\"ticks\":\"\"}},\"type\":\"scattergeo\"}],\"scattergl\":[{\"marker\":{\"colorbar\":{\"outlinewidth\":0,\"ticks\":\"\"}},\"type\":\"scattergl\"}],\"scattermapbox\":[{\"marker\":{\"colorbar\":{\"outlinewidth\":0,\"ticks\":\"\"}},\"type\":\"scattermapbox\"}],\"scatterpolar\":[{\"marker\":{\"colorbar\":{\"outlinewidth\":0,\"ticks\":\"\"}},\"type\":\"scatterpolar\"}],\"scatterpolargl\":[{\"marker\":{\"colorbar\":{\"outlinewidth\":0,\"ticks\":\"\"}},\"type\":\"scatterpolargl\"}],\"scatterternary\":[{\"marker\":{\"colorbar\":{\"outlinewidth\":0,\"ticks\":\"\"}},\"type\":\"scatterternary\"}],\"surface\":[{\"colorbar\":{\"outlinewidth\":0,\"ticks\":\"\"},\"colorscale\":[[0.0,\"#0d0887\"],[0.1111111111111111,\"#46039f\"],[0.2222222222222222,\"#7201a8\"],[0.3333333333333333,\"#9c179e\"],[0.4444444444444444,\"#bd3786\"],[0.5555555555555556,\"#d8576b\"],[0.6666666666666666,\"#ed7953\"],[0.7777777777777778,\"#fb9f3a\"],[0.8888888888888888,\"#fdca26\"],[1.0,\"#f0f921\"]],\"type\":\"surface\"}],\"table\":[{\"cells\":{\"fill\":{\"color\":\"#EBF0F8\"},\"line\":{\"color\":\"white\"}},\"header\":{\"fill\":{\"color\":\"#C8D4E3\"},\"line\":{\"color\":\"white\"}},\"type\":\"table\"}]},\"layout\":{\"annotationdefaults\":{\"arrowcolor\":\"#2a3f5f\",\"arrowhead\":0,\"arrowwidth\":1},\"autotypenumbers\":\"strict\",\"coloraxis\":{\"colorbar\":{\"outlinewidth\":0,\"ticks\":\"\"}},\"colorscale\":{\"diverging\":[[0,\"#8e0152\"],[0.1,\"#c51b7d\"],[0.2,\"#de77ae\"],[0.3,\"#f1b6da\"],[0.4,\"#fde0ef\"],[0.5,\"#f7f7f7\"],[0.6,\"#e6f5d0\"],[0.7,\"#b8e186\"],[0.8,\"#7fbc41\"],[0.9,\"#4d9221\"],[1,\"#276419\"]],\"sequential\":[[0.0,\"#0d0887\"],[0.1111111111111111,\"#46039f\"],[0.2222222222222222,\"#7201a8\"],[0.3333333333333333,\"#9c179e\"],[0.4444444444444444,\"#bd3786\"],[0.5555555555555556,\"#d8576b\"],[0.6666666666666666,\"#ed7953\"],[0.7777777777777778,\"#fb9f3a\"],[0.8888888888888888,\"#fdca26\"],[1.0,\"#f0f921\"]],\"sequentialminus\":[[0.0,\"#0d0887\"],[0.1111111111111111,\"#46039f\"],[0.2222222222222222,\"#7201a8\"],[0.3333333333333333,\"#9c179e\"],[0.4444444444444444,\"#bd3786\"],[0.5555555555555556,\"#d8576b\"],[0.6666666666666666,\"#ed7953\"],[0.7777777777777778,\"#fb9f3a\"],[0.8888888888888888,\"#fdca26\"],[1.0,\"#f0f921\"]]},\"colorway\":[\"#636efa\",\"#EF553B\",\"#00cc96\",\"#ab63fa\",\"#FFA15A\",\"#19d3f3\",\"#FF6692\",\"#B6E880\",\"#FF97FF\",\"#FECB52\"],\"font\":{\"color\":\"#2a3f5f\"},\"geo\":{\"bgcolor\":\"white\",\"lakecolor\":\"white\",\"landcolor\":\"#E5ECF6\",\"showlakes\":true,\"showland\":true,\"subunitcolor\":\"white\"},\"hoverlabel\":{\"align\":\"left\"},\"hovermode\":\"closest\",\"mapbox\":{\"style\":\"light\"},\"paper_bgcolor\":\"white\",\"plot_bgcolor\":\"#E5ECF6\",\"polar\":{\"angularaxis\":{\"gridcolor\":\"white\",\"linecolor\":\"white\",\"ticks\":\"\"},\"bgcolor\":\"#E5ECF6\",\"radialaxis\":{\"gridcolor\":\"white\",\"linecolor\":\"white\",\"ticks\":\"\"}},\"scene\":{\"xaxis\":{\"backgroundcolor\":\"#E5ECF6\",\"gridcolor\":\"white\",\"gridwidth\":2,\"linecolor\":\"white\",\"showbackground\":true,\"ticks\":\"\",\"zerolinecolor\":\"white\"},\"yaxis\":{\"backgroundcolor\":\"#E5ECF6\",\"gridcolor\":\"white\",\"gridwidth\":2,\"linecolor\":\"white\",\"showbackground\":true,\"ticks\":\"\",\"zerolinecolor\":\"white\"},\"zaxis\":{\"backgroundcolor\":\"#E5ECF6\",\"gridcolor\":\"white\",\"gridwidth\":2,\"linecolor\":\"white\",\"showbackground\":true,\"ticks\":\"\",\"zerolinecolor\":\"white\"}},\"shapedefaults\":{\"line\":{\"color\":\"#2a3f5f\"}},\"ternary\":{\"aaxis\":{\"gridcolor\":\"white\",\"linecolor\":\"white\",\"ticks\":\"\"},\"baxis\":{\"gridcolor\":\"white\",\"linecolor\":\"white\",\"ticks\":\"\"},\"bgcolor\":\"#E5ECF6\",\"caxis\":{\"gridcolor\":\"white\",\"linecolor\":\"white\",\"ticks\":\"\"}},\"title\":{\"x\":0.05},\"xaxis\":{\"automargin\":true,\"gridcolor\":\"white\",\"linecolor\":\"white\",\"ticks\":\"\",\"title\":{\"standoff\":15},\"zerolinecolor\":\"white\",\"zerolinewidth\":2},\"yaxis\":{\"automargin\":true,\"gridcolor\":\"white\",\"linecolor\":\"white\",\"ticks\":\"\",\"title\":{\"standoff\":15},\"zerolinecolor\":\"white\",\"zerolinewidth\":2}}},\"title\":{\"text\":\"Data Breaches in the USA by State\"}},                        {\"responsive\": true}                    ).then(function(){\n",
       "                            \n",
       "var gd = document.getElementById('27dd2c51-ecd2-4838-9e50-ea1a0e7a200c');\n",
       "var x = new MutationObserver(function (mutations, observer) {{\n",
       "        var display = window.getComputedStyle(gd).display;\n",
       "        if (!display || display === 'none') {{\n",
       "            console.log([gd, 'removed!']);\n",
       "            Plotly.purge(gd);\n",
       "            observer.disconnect();\n",
       "        }}\n",
       "}});\n",
       "\n",
       "// Listen for the removal of the full notebook cells\n",
       "var notebookContainer = gd.closest('#notebook-container');\n",
       "if (notebookContainer) {{\n",
       "    x.observe(notebookContainer, {childList: true});\n",
       "}}\n",
       "\n",
       "// Listen for the clearing of the current output cell\n",
       "var outputEl = gd.closest('.output');\n",
       "if (outputEl) {{\n",
       "    x.observe(outputEl, {childList: true});\n",
       "}}\n",
       "\n",
       "                        })                };                });            </script>        </div>"
      ]
     },
     "metadata": {},
     "output_type": "display_data"
    }
   ],
   "source": [
    "data = dict (\n",
    "    type = 'choropleth',\n",
    "    colorscale = 'Portland',\n",
    "    colorbar = go.choropleth.ColorBar(title = \"Number of Incidents\"),\n",
    "    locations = breaches_by_state['State'],\n",
    "    locationmode='USA-states',\n",
    "    z=breaches_by_state['Individuals Affected'],\n",
    ")\n",
    "\n",
    "layout = dict(title = 'Data Breaches in the USA by State',\n",
    "              geo = dict(scope='usa',\n",
    "                        projection=dict(type ='albers usa'))\n",
    "             )\n",
    "\n",
    "fig = go.Figure(data=[data], layout=layout)\n",
    "py.offline.iplot(fig)"
   ]
  },
  {
   "cell_type": "markdown",
   "metadata": {},
   "source": [
    "## 4. How did the Data Breaches occur?"
   ]
  },
  {
   "cell_type": "code",
   "execution_count": 62,
   "metadata": {},
   "outputs": [
    {
     "data": {
      "text/html": [
       "<div>\n",
       "<style scoped>\n",
       "    .dataframe tbody tr th:only-of-type {\n",
       "        vertical-align: middle;\n",
       "    }\n",
       "\n",
       "    .dataframe tbody tr th {\n",
       "        vertical-align: top;\n",
       "    }\n",
       "\n",
       "    .dataframe thead th {\n",
       "        text-align: right;\n",
       "    }\n",
       "</style>\n",
       "<table border=\"1\" class=\"dataframe\">\n",
       "  <thead>\n",
       "    <tr style=\"text-align: right;\">\n",
       "      <th></th>\n",
       "      <th>Location of Breached Information</th>\n",
       "      <th>Individuals Affected</th>\n",
       "    </tr>\n",
       "  </thead>\n",
       "  <tbody>\n",
       "    <tr>\n",
       "      <th>0</th>\n",
       "      <td>Desktop Computer</td>\n",
       "      <td>179</td>\n",
       "    </tr>\n",
       "    <tr>\n",
       "      <th>1</th>\n",
       "      <td>Electronic Medical Record</td>\n",
       "      <td>122</td>\n",
       "    </tr>\n",
       "    <tr>\n",
       "      <th>2</th>\n",
       "      <td>Email</td>\n",
       "      <td>587</td>\n",
       "    </tr>\n",
       "    <tr>\n",
       "      <th>3</th>\n",
       "      <td>Laptop</td>\n",
       "      <td>334</td>\n",
       "    </tr>\n",
       "    <tr>\n",
       "      <th>4</th>\n",
       "      <td>Network Server</td>\n",
       "      <td>594</td>\n",
       "    </tr>\n",
       "    <tr>\n",
       "      <th>5</th>\n",
       "      <td>Other</td>\n",
       "      <td>257</td>\n",
       "    </tr>\n",
       "    <tr>\n",
       "      <th>6</th>\n",
       "      <td>Other Portable Electronic Device</td>\n",
       "      <td>147</td>\n",
       "    </tr>\n",
       "    <tr>\n",
       "      <th>7</th>\n",
       "      <td>Paper/Films</td>\n",
       "      <td>631</td>\n",
       "    </tr>\n",
       "  </tbody>\n",
       "</table>\n",
       "</div>"
      ],
      "text/plain": [
       "   Location of Breached Information  Individuals Affected\n",
       "0                  Desktop Computer                   179\n",
       "1         Electronic Medical Record                   122\n",
       "2                             Email                   587\n",
       "3                            Laptop                   334\n",
       "4                    Network Server                   594\n",
       "5                             Other                   257\n",
       "6  Other Portable Electronic Device                   147\n",
       "7                       Paper/Films                   631"
      ]
     },
     "execution_count": 62,
     "metadata": {},
     "output_type": "execute_result"
    }
   ],
   "source": [
    "location_of_breached_information = pd.DataFrame(df.groupby(['Location of Breached Information'])[['Individuals Affected']].count()).reset_index()\n",
    "location_of_breached_information"
   ]
  },
  {
   "cell_type": "code",
   "execution_count": 63,
   "metadata": {},
   "outputs": [
    {
     "data": {
      "text/plain": [
       "[Text(0, 0.5, 'Number of Breaches')]"
      ]
     },
     "execution_count": 63,
     "metadata": {},
     "output_type": "execute_result"
    },
    {
     "data": {
      "image/png": "[encoded data removed]",
      "text/plain": [
       "<Figure size 1080x576 with 1 Axes>"
      ]
     },
     "metadata": {
      "needs_background": "light"
     },
     "output_type": "display_data"
    }
   ],
   "source": [
    "fig, ax = plt.subplots(figsize=(15,8))\n",
    "sns.countplot(x='Location of Breached Information', data=df).set_title('Data Breach by Location')\n",
    "plt.setp(ax.xaxis.get_majorticklabels(), ha='right')\n",
    "plt.xticks(rotation=45)\n",
    "ax.set(ylabel='Number of Breaches')"
   ]
  },
  {
   "cell_type": "code",
   "execution_count": 64,
   "metadata": {},
   "outputs": [
    {
     "data": {
      "text/html": [
       "<div>\n",
       "<style scoped>\n",
       "    .dataframe tbody tr th:only-of-type {\n",
       "        vertical-align: middle;\n",
       "    }\n",
       "\n",
       "    .dataframe tbody tr th {\n",
       "        vertical-align: top;\n",
       "    }\n",
       "\n",
       "    .dataframe thead th {\n",
       "        text-align: right;\n",
       "    }\n",
       "</style>\n",
       "<table border=\"1\" class=\"dataframe\">\n",
       "  <thead>\n",
       "    <tr style=\"text-align: right;\">\n",
       "      <th></th>\n",
       "      <th>Location of Breached Information</th>\n",
       "      <th>Breach Submission Year</th>\n",
       "      <th>Individuals Affected</th>\n",
       "    </tr>\n",
       "  </thead>\n",
       "  <tbody>\n",
       "    <tr>\n",
       "      <th>0</th>\n",
       "      <td>Desktop Computer</td>\n",
       "      <td>2009</td>\n",
       "      <td>5</td>\n",
       "    </tr>\n",
       "    <tr>\n",
       "      <th>1</th>\n",
       "      <td>Desktop Computer</td>\n",
       "      <td>2010</td>\n",
       "      <td>21</td>\n",
       "    </tr>\n",
       "    <tr>\n",
       "      <th>2</th>\n",
       "      <td>Desktop Computer</td>\n",
       "      <td>2011</td>\n",
       "      <td>19</td>\n",
       "    </tr>\n",
       "    <tr>\n",
       "      <th>3</th>\n",
       "      <td>Desktop Computer</td>\n",
       "      <td>2012</td>\n",
       "      <td>22</td>\n",
       "    </tr>\n",
       "    <tr>\n",
       "      <th>4</th>\n",
       "      <td>Desktop Computer</td>\n",
       "      <td>2013</td>\n",
       "      <td>32</td>\n",
       "    </tr>\n",
       "    <tr>\n",
       "      <th>...</th>\n",
       "      <td>...</td>\n",
       "      <td>...</td>\n",
       "      <td>...</td>\n",
       "    </tr>\n",
       "    <tr>\n",
       "      <th>91</th>\n",
       "      <td>Paper/Films</td>\n",
       "      <td>2016</td>\n",
       "      <td>74</td>\n",
       "    </tr>\n",
       "    <tr>\n",
       "      <th>92</th>\n",
       "      <td>Paper/Films</td>\n",
       "      <td>2017</td>\n",
       "      <td>60</td>\n",
       "    </tr>\n",
       "    <tr>\n",
       "      <th>93</th>\n",
       "      <td>Paper/Films</td>\n",
       "      <td>2018</td>\n",
       "      <td>76</td>\n",
       "    </tr>\n",
       "    <tr>\n",
       "      <th>94</th>\n",
       "      <td>Paper/Films</td>\n",
       "      <td>2019</td>\n",
       "      <td>51</td>\n",
       "    </tr>\n",
       "    <tr>\n",
       "      <th>95</th>\n",
       "      <td>Paper/Films</td>\n",
       "      <td>2020</td>\n",
       "      <td>56</td>\n",
       "    </tr>\n",
       "  </tbody>\n",
       "</table>\n",
       "<p>96 rows × 3 columns</p>\n",
       "</div>"
      ],
      "text/plain": [
       "   Location of Breached Information  Breach Submission Year  \\\n",
       "0                  Desktop Computer                    2009   \n",
       "1                  Desktop Computer                    2010   \n",
       "2                  Desktop Computer                    2011   \n",
       "3                  Desktop Computer                    2012   \n",
       "4                  Desktop Computer                    2013   \n",
       "..                              ...                     ...   \n",
       "91                      Paper/Films                    2016   \n",
       "92                      Paper/Films                    2017   \n",
       "93                      Paper/Films                    2018   \n",
       "94                      Paper/Films                    2019   \n",
       "95                      Paper/Films                    2020   \n",
       "\n",
       "    Individuals Affected  \n",
       "0                      5  \n",
       "1                     21  \n",
       "2                     19  \n",
       "3                     22  \n",
       "4                     32  \n",
       "..                   ...  \n",
       "91                    74  \n",
       "92                    60  \n",
       "93                    76  \n",
       "94                    51  \n",
       "95                    56  \n",
       "\n",
       "[96 rows x 3 columns]"
      ]
     },
     "execution_count": 64,
     "metadata": {},
     "output_type": "execute_result"
    }
   ],
   "source": [
    "breach_location_by_year = pd.DataFrame(df.groupby(['Location of Breached Information', 'Breach Submission Year'])[['Individuals Affected']].count()).reset_index()\n",
    "breach_location_by_year['Individuals Affected'] = breach_location_by_year['Individuals Affected'].fillna(0).astype(np.int64)\n",
    "breach_location_by_year"
   ]
  },
  {
   "cell_type": "code",
   "execution_count": 65,
   "metadata": {},
   "outputs": [
    {
     "data": {
      "text/plain": [
       "<matplotlib.legend.Legend at 0x2b8c98f26d0>"
      ]
     },
     "execution_count": 65,
     "metadata": {},
     "output_type": "execute_result"
    },
    {
     "data": {
      "image/png": "[encoded data removed]",
      "text/plain": [
       "<Figure size 1080x576 with 1 Axes>"
      ]
     },
     "metadata": {
      "needs_background": "light"
     },
     "output_type": "display_data"
    }
   ],
   "source": [
    "fig, ax = plt.subplots(figsize=(15,8))\n",
    "sns.barplot(x='Breach Submission Year', y='Individuals Affected', hue='Location of Breached Information', data=breach_location_by_year).set_title('Data Breach Locations by Year')\n",
    "ax.set(ylabel='Number of Breaches')\n",
    "plt.legend(loc='upper left')"
   ]
  },
  {
   "cell_type": "markdown",
   "metadata": {},
   "source": [
    "## 5. What is the impact of Data Breach on Indivduals?"
   ]
  },
  {
   "cell_type": "code",
   "execution_count": 66,
   "metadata": {},
   "outputs": [
    {
     "data": {
      "text/plain": [
       "count    2.851000e+03\n",
       "mean     8.056969e+04\n",
       "std      1.549762e+06\n",
       "min      0.000000e+00\n",
       "25%      1.000000e+03\n",
       "50%      2.500000e+03\n",
       "75%      9.307000e+03\n",
       "max      7.880000e+07\n",
       "Name: Individuals Affected, dtype: float64"
      ]
     },
     "execution_count": 66,
     "metadata": {},
     "output_type": "execute_result"
    }
   ],
   "source": [
    "df['Individuals Affected'].describe()"
   ]
  },
  {
   "cell_type": "code",
   "execution_count": 67,
   "metadata": {},
   "outputs": [
    {
     "data": {
      "text/html": [
       "<div>\n",
       "<style scoped>\n",
       "    .dataframe tbody tr th:only-of-type {\n",
       "        vertical-align: middle;\n",
       "    }\n",
       "\n",
       "    .dataframe tbody tr th {\n",
       "        vertical-align: top;\n",
       "    }\n",
       "\n",
       "    .dataframe thead th {\n",
       "        text-align: right;\n",
       "    }\n",
       "</style>\n",
       "<table border=\"1\" class=\"dataframe\">\n",
       "  <thead>\n",
       "    <tr style=\"text-align: right;\">\n",
       "      <th></th>\n",
       "      <th>Breach Submission Year</th>\n",
       "      <th>Individuals Affected</th>\n",
       "    </tr>\n",
       "  </thead>\n",
       "  <tbody>\n",
       "    <tr>\n",
       "      <th>0</th>\n",
       "      <td>2009</td>\n",
       "      <td>131626</td>\n",
       "    </tr>\n",
       "    <tr>\n",
       "      <th>1</th>\n",
       "      <td>2010</td>\n",
       "      <td>4674073</td>\n",
       "    </tr>\n",
       "    <tr>\n",
       "      <th>2</th>\n",
       "      <td>2011</td>\n",
       "      <td>11002459</td>\n",
       "    </tr>\n",
       "    <tr>\n",
       "      <th>3</th>\n",
       "      <td>2012</td>\n",
       "      <td>2219779</td>\n",
       "    </tr>\n",
       "    <tr>\n",
       "      <th>4</th>\n",
       "      <td>2013</td>\n",
       "      <td>6881654</td>\n",
       "    </tr>\n",
       "    <tr>\n",
       "      <th>5</th>\n",
       "      <td>2014</td>\n",
       "      <td>16147684</td>\n",
       "    </tr>\n",
       "    <tr>\n",
       "      <th>6</th>\n",
       "      <td>2015</td>\n",
       "      <td>109134090</td>\n",
       "    </tr>\n",
       "    <tr>\n",
       "      <th>7</th>\n",
       "      <td>2016</td>\n",
       "      <td>12431841</td>\n",
       "    </tr>\n",
       "    <tr>\n",
       "      <th>8</th>\n",
       "      <td>2017</td>\n",
       "      <td>4495757</td>\n",
       "    </tr>\n",
       "    <tr>\n",
       "      <th>9</th>\n",
       "      <td>2018</td>\n",
       "      <td>13129959</td>\n",
       "    </tr>\n",
       "    <tr>\n",
       "      <th>10</th>\n",
       "      <td>2019</td>\n",
       "      <td>36941219</td>\n",
       "    </tr>\n",
       "    <tr>\n",
       "      <th>11</th>\n",
       "      <td>2020</td>\n",
       "      <td>12514043</td>\n",
       "    </tr>\n",
       "  </tbody>\n",
       "</table>\n",
       "</div>"
      ],
      "text/plain": [
       "    Breach Submission Year  Individuals Affected\n",
       "0                     2009                131626\n",
       "1                     2010               4674073\n",
       "2                     2011              11002459\n",
       "3                     2012               2219779\n",
       "4                     2013               6881654\n",
       "5                     2014              16147684\n",
       "6                     2015             109134090\n",
       "7                     2016              12431841\n",
       "8                     2017               4495757\n",
       "9                     2018              13129959\n",
       "10                    2019              36941219\n",
       "11                    2020              12514043"
      ]
     },
     "execution_count": 67,
     "metadata": {},
     "output_type": "execute_result"
    }
   ],
   "source": [
    "individuals_affected_per_year = pd.DataFrame(df.groupby('Breach Submission Year')[['Individuals Affected']].sum()).reset_index()\n",
    "individuals_affected_per_year"
   ]
  },
  {
   "cell_type": "code",
   "execution_count": 68,
   "metadata": {},
   "outputs": [
    {
     "data": {
      "text/plain": [
       "Text(0.5, 1.0, 'Individuals Affected per Year')"
      ]
     },
     "execution_count": 68,
     "metadata": {},
     "output_type": "execute_result"
    },
    {
     "data": {
      "image/png": "[encoded data removed]",
      "text/plain": [
       "<Figure size 1080x576 with 1 Axes>"
      ]
     },
     "metadata": {
      "needs_background": "light"
     },
     "output_type": "display_data"
    }
   ],
   "source": [
    "fig, ax = plt.subplots(figsize=(15, 8))\n",
    "sns.pointplot(x='Breach Submission Year', y='Individuals Affected', ci=None, ax=ax.ticklabel_format(useOffset=False, style='plain'), data=individuals_affected_per_year).set_title('Individuals Affected per Year')"
   ]
  },
  {
   "cell_type": "code",
   "execution_count": 69,
   "metadata": {},
   "outputs": [
    {
     "data": {
      "text/html": [
       "<div>\n",
       "<style scoped>\n",
       "    .dataframe tbody tr th:only-of-type {\n",
       "        vertical-align: middle;\n",
       "    }\n",
       "\n",
       "    .dataframe tbody tr th {\n",
       "        vertical-align: top;\n",
       "    }\n",
       "\n",
       "    .dataframe thead th {\n",
       "        text-align: right;\n",
       "    }\n",
       "</style>\n",
       "<table border=\"1\" class=\"dataframe\">\n",
       "  <thead>\n",
       "    <tr style=\"text-align: right;\">\n",
       "      <th></th>\n",
       "      <th>Type of Breach</th>\n",
       "      <th>Breach Submission Year</th>\n",
       "      <th>Individuals Affected</th>\n",
       "    </tr>\n",
       "  </thead>\n",
       "  <tbody>\n",
       "    <tr>\n",
       "      <th>0</th>\n",
       "      <td>Hacking/IT Incident</td>\n",
       "      <td>2009</td>\n",
       "      <td>0</td>\n",
       "    </tr>\n",
       "    <tr>\n",
       "      <th>1</th>\n",
       "      <td>Hacking/IT Incident</td>\n",
       "      <td>2010</td>\n",
       "      <td>91358</td>\n",
       "    </tr>\n",
       "    <tr>\n",
       "      <th>2</th>\n",
       "      <td>Hacking/IT Incident</td>\n",
       "      <td>2011</td>\n",
       "      <td>270714</td>\n",
       "    </tr>\n",
       "    <tr>\n",
       "      <th>3</th>\n",
       "      <td>Hacking/IT Incident</td>\n",
       "      <td>2012</td>\n",
       "      <td>809597</td>\n",
       "    </tr>\n",
       "    <tr>\n",
       "      <th>4</th>\n",
       "      <td>Hacking/IT Incident</td>\n",
       "      <td>2013</td>\n",
       "      <td>286925</td>\n",
       "    </tr>\n",
       "    <tr>\n",
       "      <th>...</th>\n",
       "      <td>...</td>\n",
       "      <td>...</td>\n",
       "      <td>...</td>\n",
       "    </tr>\n",
       "    <tr>\n",
       "      <th>79</th>\n",
       "      <td>Unknown</td>\n",
       "      <td>2016</td>\n",
       "      <td>0</td>\n",
       "    </tr>\n",
       "    <tr>\n",
       "      <th>80</th>\n",
       "      <td>Unknown</td>\n",
       "      <td>2017</td>\n",
       "      <td>0</td>\n",
       "    </tr>\n",
       "    <tr>\n",
       "      <th>81</th>\n",
       "      <td>Unknown</td>\n",
       "      <td>2018</td>\n",
       "      <td>0</td>\n",
       "    </tr>\n",
       "    <tr>\n",
       "      <th>82</th>\n",
       "      <td>Unknown</td>\n",
       "      <td>2019</td>\n",
       "      <td>0</td>\n",
       "    </tr>\n",
       "    <tr>\n",
       "      <th>83</th>\n",
       "      <td>Unknown</td>\n",
       "      <td>2020</td>\n",
       "      <td>0</td>\n",
       "    </tr>\n",
       "  </tbody>\n",
       "</table>\n",
       "<p>84 rows × 3 columns</p>\n",
       "</div>"
      ],
      "text/plain": [
       "         Type of Breach  Breach Submission Year  Individuals Affected\n",
       "0   Hacking/IT Incident                    2009                     0\n",
       "1   Hacking/IT Incident                    2010                 91358\n",
       "2   Hacking/IT Incident                    2011                270714\n",
       "3   Hacking/IT Incident                    2012                809597\n",
       "4   Hacking/IT Incident                    2013                286925\n",
       "..                  ...                     ...                   ...\n",
       "79              Unknown                    2016                     0\n",
       "80              Unknown                    2017                     0\n",
       "81              Unknown                    2018                     0\n",
       "82              Unknown                    2019                     0\n",
       "83              Unknown                    2020                     0\n",
       "\n",
       "[84 rows x 3 columns]"
      ]
     },
     "execution_count": 69,
     "metadata": {},
     "output_type": "execute_result"
    }
   ],
   "source": [
    "individuals_affected_by_causes_of_breach = pd.DataFrame(df.groupby(['Type of Breach', 'Breach Submission Year'])[['Individuals Affected']].sum()).reset_index()\n",
    "individuals_affected_by_causes_of_breach['Individuals Affected'] = individuals_affected_by_causes_of_breach['Individuals Affected'].fillna(0).astype(np.int64)\n",
    "individuals_affected_by_causes_of_breach"
   ]
  },
  {
   "cell_type": "code",
   "execution_count": 70,
   "metadata": {},
   "outputs": [
    {
     "data": {
      "text/plain": [
       "<matplotlib.legend.Legend at 0x2b8cbcada00>"
      ]
     },
     "execution_count": 70,
     "metadata": {},
     "output_type": "execute_result"
    },
    {
     "data": {
      "image/png": "[encoded data removed]",
      "text/plain": [
       "<Figure size 1080x576 with 1 Axes>"
      ]
     },
     "metadata": {
      "needs_background": "light"
     },
     "output_type": "display_data"
    }
   ],
   "source": [
    "fig, ax = plt.subplots(figsize=(15,8))\n",
    "sns.barplot(x='Breach Submission Year', y='Individuals Affected', dodge=True, hue='Type of Breach', ax=ax.ticklabel_format(useOffset=False, style='plain'), data=individuals_affected_by_causes_of_breach).set_title('Individuals Affected by Different Causes of Data Breach')\n",
    "plt.legend(loc='upper left')"
   ]
  },
  {
   "cell_type": "code",
   "execution_count": 71,
   "metadata": {},
   "outputs": [
    {
     "data": {
      "text/html": [
       "<div>\n",
       "<style scoped>\n",
       "    .dataframe tbody tr th:only-of-type {\n",
       "        vertical-align: middle;\n",
       "    }\n",
       "\n",
       "    .dataframe tbody tr th {\n",
       "        vertical-align: top;\n",
       "    }\n",
       "\n",
       "    .dataframe thead th {\n",
       "        text-align: right;\n",
       "    }\n",
       "</style>\n",
       "<table border=\"1\" class=\"dataframe\">\n",
       "  <thead>\n",
       "    <tr style=\"text-align: right;\">\n",
       "      <th></th>\n",
       "      <th>Covered Entity Type</th>\n",
       "      <th>Breach Submission Year</th>\n",
       "      <th>Individuals Affected</th>\n",
       "    </tr>\n",
       "  </thead>\n",
       "  <tbody>\n",
       "    <tr>\n",
       "      <th>0</th>\n",
       "      <td>Business Associate</td>\n",
       "      <td>2009</td>\n",
       "      <td>89400</td>\n",
       "    </tr>\n",
       "    <tr>\n",
       "      <th>1</th>\n",
       "      <td>Business Associate</td>\n",
       "      <td>2010</td>\n",
       "      <td>385116</td>\n",
       "    </tr>\n",
       "    <tr>\n",
       "      <th>2</th>\n",
       "      <td>Business Associate</td>\n",
       "      <td>2011</td>\n",
       "      <td>7131625</td>\n",
       "    </tr>\n",
       "    <tr>\n",
       "      <th>3</th>\n",
       "      <td>Business Associate</td>\n",
       "      <td>2012</td>\n",
       "      <td>1070827</td>\n",
       "    </tr>\n",
       "    <tr>\n",
       "      <th>4</th>\n",
       "      <td>Business Associate</td>\n",
       "      <td>2013</td>\n",
       "      <td>1054914</td>\n",
       "    </tr>\n",
       "    <tr>\n",
       "      <th>5</th>\n",
       "      <td>Business Associate</td>\n",
       "      <td>2014</td>\n",
       "      <td>5962100</td>\n",
       "    </tr>\n",
       "    <tr>\n",
       "      <th>6</th>\n",
       "      <td>Business Associate</td>\n",
       "      <td>2015</td>\n",
       "      <td>91425</td>\n",
       "    </tr>\n",
       "    <tr>\n",
       "      <th>7</th>\n",
       "      <td>Business Associate</td>\n",
       "      <td>2016</td>\n",
       "      <td>3610504</td>\n",
       "    </tr>\n",
       "    <tr>\n",
       "      <th>8</th>\n",
       "      <td>Business Associate</td>\n",
       "      <td>2017</td>\n",
       "      <td>146894</td>\n",
       "    </tr>\n",
       "    <tr>\n",
       "      <th>9</th>\n",
       "      <td>Business Associate</td>\n",
       "      <td>2018</td>\n",
       "      <td>5492307</td>\n",
       "    </tr>\n",
       "    <tr>\n",
       "      <th>10</th>\n",
       "      <td>Business Associate</td>\n",
       "      <td>2019</td>\n",
       "      <td>13054925</td>\n",
       "    </tr>\n",
       "    <tr>\n",
       "      <th>11</th>\n",
       "      <td>Business Associate</td>\n",
       "      <td>2020</td>\n",
       "      <td>3798777</td>\n",
       "    </tr>\n",
       "    <tr>\n",
       "      <th>12</th>\n",
       "      <td>Health Plan</td>\n",
       "      <td>2009</td>\n",
       "      <td>3800</td>\n",
       "    </tr>\n",
       "    <tr>\n",
       "      <th>13</th>\n",
       "      <td>Health Plan</td>\n",
       "      <td>2010</td>\n",
       "      <td>3561781</td>\n",
       "    </tr>\n",
       "    <tr>\n",
       "      <th>14</th>\n",
       "      <td>Health Plan</td>\n",
       "      <td>2011</td>\n",
       "      <td>78375</td>\n",
       "    </tr>\n",
       "    <tr>\n",
       "      <th>15</th>\n",
       "      <td>Health Plan</td>\n",
       "      <td>2012</td>\n",
       "      <td>335511</td>\n",
       "    </tr>\n",
       "    <tr>\n",
       "      <th>16</th>\n",
       "      <td>Health Plan</td>\n",
       "      <td>2013</td>\n",
       "      <td>90655</td>\n",
       "    </tr>\n",
       "    <tr>\n",
       "      <th>17</th>\n",
       "      <td>Health Plan</td>\n",
       "      <td>2014</td>\n",
       "      <td>2172610</td>\n",
       "    </tr>\n",
       "    <tr>\n",
       "      <th>18</th>\n",
       "      <td>Health Plan</td>\n",
       "      <td>2015</td>\n",
       "      <td>102912145</td>\n",
       "    </tr>\n",
       "    <tr>\n",
       "      <th>19</th>\n",
       "      <td>Health Plan</td>\n",
       "      <td>2016</td>\n",
       "      <td>410779</td>\n",
       "    </tr>\n",
       "    <tr>\n",
       "      <th>20</th>\n",
       "      <td>Health Plan</td>\n",
       "      <td>2017</td>\n",
       "      <td>378729</td>\n",
       "    </tr>\n",
       "    <tr>\n",
       "      <th>21</th>\n",
       "      <td>Health Plan</td>\n",
       "      <td>2018</td>\n",
       "      <td>2793489</td>\n",
       "    </tr>\n",
       "    <tr>\n",
       "      <th>22</th>\n",
       "      <td>Health Plan</td>\n",
       "      <td>2019</td>\n",
       "      <td>3371276</td>\n",
       "    </tr>\n",
       "    <tr>\n",
       "      <th>23</th>\n",
       "      <td>Health Plan</td>\n",
       "      <td>2020</td>\n",
       "      <td>1002360</td>\n",
       "    </tr>\n",
       "    <tr>\n",
       "      <th>24</th>\n",
       "      <td>Healthcare Clearing House</td>\n",
       "      <td>2009</td>\n",
       "      <td>0</td>\n",
       "    </tr>\n",
       "    <tr>\n",
       "      <th>25</th>\n",
       "      <td>Healthcare Clearing House</td>\n",
       "      <td>2010</td>\n",
       "      <td>0</td>\n",
       "    </tr>\n",
       "    <tr>\n",
       "      <th>26</th>\n",
       "      <td>Healthcare Clearing House</td>\n",
       "      <td>2011</td>\n",
       "      <td>1250</td>\n",
       "    </tr>\n",
       "    <tr>\n",
       "      <th>27</th>\n",
       "      <td>Healthcare Clearing House</td>\n",
       "      <td>2012</td>\n",
       "      <td>10000</td>\n",
       "    </tr>\n",
       "    <tr>\n",
       "      <th>28</th>\n",
       "      <td>Healthcare Clearing House</td>\n",
       "      <td>2013</td>\n",
       "      <td>6504</td>\n",
       "    </tr>\n",
       "    <tr>\n",
       "      <th>29</th>\n",
       "      <td>Healthcare Clearing House</td>\n",
       "      <td>2014</td>\n",
       "      <td>0</td>\n",
       "    </tr>\n",
       "    <tr>\n",
       "      <th>30</th>\n",
       "      <td>Healthcare Clearing House</td>\n",
       "      <td>2015</td>\n",
       "      <td>0</td>\n",
       "    </tr>\n",
       "    <tr>\n",
       "      <th>31</th>\n",
       "      <td>Healthcare Clearing House</td>\n",
       "      <td>2016</td>\n",
       "      <td>0</td>\n",
       "    </tr>\n",
       "    <tr>\n",
       "      <th>32</th>\n",
       "      <td>Healthcare Clearing House</td>\n",
       "      <td>2017</td>\n",
       "      <td>0</td>\n",
       "    </tr>\n",
       "    <tr>\n",
       "      <th>33</th>\n",
       "      <td>Healthcare Clearing House</td>\n",
       "      <td>2018</td>\n",
       "      <td>0</td>\n",
       "    </tr>\n",
       "    <tr>\n",
       "      <th>34</th>\n",
       "      <td>Healthcare Clearing House</td>\n",
       "      <td>2019</td>\n",
       "      <td>0</td>\n",
       "    </tr>\n",
       "    <tr>\n",
       "      <th>35</th>\n",
       "      <td>Healthcare Clearing House</td>\n",
       "      <td>2020</td>\n",
       "      <td>500</td>\n",
       "    </tr>\n",
       "    <tr>\n",
       "      <th>36</th>\n",
       "      <td>Healthcare Provider</td>\n",
       "      <td>2009</td>\n",
       "      <td>38426</td>\n",
       "    </tr>\n",
       "    <tr>\n",
       "      <th>37</th>\n",
       "      <td>Healthcare Provider</td>\n",
       "      <td>2010</td>\n",
       "      <td>727176</td>\n",
       "    </tr>\n",
       "    <tr>\n",
       "      <th>38</th>\n",
       "      <td>Healthcare Provider</td>\n",
       "      <td>2011</td>\n",
       "      <td>3791209</td>\n",
       "    </tr>\n",
       "    <tr>\n",
       "      <th>39</th>\n",
       "      <td>Healthcare Provider</td>\n",
       "      <td>2012</td>\n",
       "      <td>803441</td>\n",
       "    </tr>\n",
       "    <tr>\n",
       "      <th>40</th>\n",
       "      <td>Healthcare Provider</td>\n",
       "      <td>2013</td>\n",
       "      <td>5729581</td>\n",
       "    </tr>\n",
       "    <tr>\n",
       "      <th>41</th>\n",
       "      <td>Healthcare Provider</td>\n",
       "      <td>2014</td>\n",
       "      <td>8012974</td>\n",
       "    </tr>\n",
       "    <tr>\n",
       "      <th>42</th>\n",
       "      <td>Healthcare Provider</td>\n",
       "      <td>2015</td>\n",
       "      <td>6130520</td>\n",
       "    </tr>\n",
       "    <tr>\n",
       "      <th>43</th>\n",
       "      <td>Healthcare Provider</td>\n",
       "      <td>2016</td>\n",
       "      <td>8410558</td>\n",
       "    </tr>\n",
       "    <tr>\n",
       "      <th>44</th>\n",
       "      <td>Healthcare Provider</td>\n",
       "      <td>2017</td>\n",
       "      <td>3970134</td>\n",
       "    </tr>\n",
       "    <tr>\n",
       "      <th>45</th>\n",
       "      <td>Healthcare Provider</td>\n",
       "      <td>2018</td>\n",
       "      <td>4844163</td>\n",
       "    </tr>\n",
       "    <tr>\n",
       "      <th>46</th>\n",
       "      <td>Healthcare Provider</td>\n",
       "      <td>2019</td>\n",
       "      <td>20515018</td>\n",
       "    </tr>\n",
       "    <tr>\n",
       "      <th>47</th>\n",
       "      <td>Healthcare Provider</td>\n",
       "      <td>2020</td>\n",
       "      <td>7712406</td>\n",
       "    </tr>\n",
       "  </tbody>\n",
       "</table>\n",
       "</div>"
      ],
      "text/plain": [
       "          Covered Entity Type  Breach Submission Year  Individuals Affected\n",
       "0          Business Associate                    2009                 89400\n",
       "1          Business Associate                    2010                385116\n",
       "2          Business Associate                    2011               7131625\n",
       "3          Business Associate                    2012               1070827\n",
       "4          Business Associate                    2013               1054914\n",
       "5          Business Associate                    2014               5962100\n",
       "6          Business Associate                    2015                 91425\n",
       "7          Business Associate                    2016               3610504\n",
       "8          Business Associate                    2017                146894\n",
       "9          Business Associate                    2018               5492307\n",
       "10         Business Associate                    2019              13054925\n",
       "11         Business Associate                    2020               3798777\n",
       "12                Health Plan                    2009                  3800\n",
       "13                Health Plan                    2010               3561781\n",
       "14                Health Plan                    2011                 78375\n",
       "15                Health Plan                    2012                335511\n",
       "16                Health Plan                    2013                 90655\n",
       "17                Health Plan                    2014               2172610\n",
       "18                Health Plan                    2015             102912145\n",
       "19                Health Plan                    2016                410779\n",
       "20                Health Plan                    2017                378729\n",
       "21                Health Plan                    2018               2793489\n",
       "22                Health Plan                    2019               3371276\n",
       "23                Health Plan                    2020               1002360\n",
       "24  Healthcare Clearing House                    2009                     0\n",
       "25  Healthcare Clearing House                    2010                     0\n",
       "26  Healthcare Clearing House                    2011                  1250\n",
       "27  Healthcare Clearing House                    2012                 10000\n",
       "28  Healthcare Clearing House                    2013                  6504\n",
       "29  Healthcare Clearing House                    2014                     0\n",
       "30  Healthcare Clearing House                    2015                     0\n",
       "31  Healthcare Clearing House                    2016                     0\n",
       "32  Healthcare Clearing House                    2017                     0\n",
       "33  Healthcare Clearing House                    2018                     0\n",
       "34  Healthcare Clearing House                    2019                     0\n",
       "35  Healthcare Clearing House                    2020                   500\n",
       "36        Healthcare Provider                    2009                 38426\n",
       "37        Healthcare Provider                    2010                727176\n",
       "38        Healthcare Provider                    2011               3791209\n",
       "39        Healthcare Provider                    2012                803441\n",
       "40        Healthcare Provider                    2013               5729581\n",
       "41        Healthcare Provider                    2014               8012974\n",
       "42        Healthcare Provider                    2015               6130520\n",
       "43        Healthcare Provider                    2016               8410558\n",
       "44        Healthcare Provider                    2017               3970134\n",
       "45        Healthcare Provider                    2018               4844163\n",
       "46        Healthcare Provider                    2019              20515018\n",
       "47        Healthcare Provider                    2020               7712406"
      ]
     },
     "execution_count": 71,
     "metadata": {},
     "output_type": "execute_result"
    }
   ],
   "source": [
    "individuals_affected_by_organisation = pd.DataFrame(df.groupby(['Covered Entity Type', 'Breach Submission Year'])[['Individuals Affected']].sum()).reset_index()\n",
    "individuals_affected_by_organisation['Individuals Affected'] = individuals_affected_by_organisation['Individuals Affected'].fillna(0).astype(np.int64)\n",
    "individuals_affected_by_organisation"
   ]
  },
  {
   "cell_type": "code",
   "execution_count": 72,
   "metadata": {},
   "outputs": [
    {
     "data": {
      "text/plain": [
       "Text(0.5, 1.0, 'Individuals Affected by Data Breach in Healthcare Organizations')"
      ]
     },
     "execution_count": 72,
     "metadata": {},
     "output_type": "execute_result"
    },
    {
     "data": {
      "image/png": "[encoded data removed]",
      "text/plain": [
       "<Figure size 1080x576 with 1 Axes>"
      ]
     },
     "metadata": {
      "needs_background": "light"
     },
     "output_type": "display_data"
    }
   ],
   "source": [
    "fig, ax = plt.subplots(figsize=(15,8))\n",
    "sns.lineplot(x='Breach Submission Year', y='Individuals Affected', hue='Covered Entity Type', ci=None, ax=ax.ticklabel_format(useOffset=False, style='plain'), data=individuals_affected_by_organisation).set_title('Individuals Affected by Data Breach in Healthcare Organizations')"
   ]
  },
  {
   "cell_type": "code",
   "execution_count": 73,
   "metadata": {},
   "outputs": [
    {
     "data": {
      "text/html": [
       "<div>\n",
       "<style scoped>\n",
       "    .dataframe tbody tr th:only-of-type {\n",
       "        vertical-align: middle;\n",
       "    }\n",
       "\n",
       "    .dataframe tbody tr th {\n",
       "        vertical-align: top;\n",
       "    }\n",
       "\n",
       "    .dataframe thead th {\n",
       "        text-align: right;\n",
       "    }\n",
       "</style>\n",
       "<table border=\"1\" class=\"dataframe\">\n",
       "  <thead>\n",
       "    <tr style=\"text-align: right;\">\n",
       "      <th></th>\n",
       "      <th>Location of Breached Information</th>\n",
       "      <th>Breach Submission Year</th>\n",
       "      <th>Individuals Affected</th>\n",
       "    </tr>\n",
       "  </thead>\n",
       "  <tbody>\n",
       "    <tr>\n",
       "      <th>0</th>\n",
       "      <td>Desktop Computer</td>\n",
       "      <td>2009</td>\n",
       "      <td>18377</td>\n",
       "    </tr>\n",
       "    <tr>\n",
       "      <th>1</th>\n",
       "      <td>Desktop Computer</td>\n",
       "      <td>2010</td>\n",
       "      <td>244060</td>\n",
       "    </tr>\n",
       "    <tr>\n",
       "      <th>2</th>\n",
       "      <td>Desktop Computer</td>\n",
       "      <td>2011</td>\n",
       "      <td>1978309</td>\n",
       "    </tr>\n",
       "    <tr>\n",
       "      <th>3</th>\n",
       "      <td>Desktop Computer</td>\n",
       "      <td>2012</td>\n",
       "      <td>72834</td>\n",
       "    </tr>\n",
       "    <tr>\n",
       "      <th>4</th>\n",
       "      <td>Desktop Computer</td>\n",
       "      <td>2013</td>\n",
       "      <td>4304634</td>\n",
       "    </tr>\n",
       "    <tr>\n",
       "      <th>...</th>\n",
       "      <td>...</td>\n",
       "      <td>...</td>\n",
       "      <td>...</td>\n",
       "    </tr>\n",
       "    <tr>\n",
       "      <th>91</th>\n",
       "      <td>Paper/Films</td>\n",
       "      <td>2016</td>\n",
       "      <td>898003</td>\n",
       "    </tr>\n",
       "    <tr>\n",
       "      <th>92</th>\n",
       "      <td>Paper/Films</td>\n",
       "      <td>2017</td>\n",
       "      <td>135221</td>\n",
       "    </tr>\n",
       "    <tr>\n",
       "      <th>93</th>\n",
       "      <td>Paper/Films</td>\n",
       "      <td>2018</td>\n",
       "      <td>1162335</td>\n",
       "    </tr>\n",
       "    <tr>\n",
       "      <th>94</th>\n",
       "      <td>Paper/Films</td>\n",
       "      <td>2019</td>\n",
       "      <td>163021</td>\n",
       "    </tr>\n",
       "    <tr>\n",
       "      <th>95</th>\n",
       "      <td>Paper/Films</td>\n",
       "      <td>2020</td>\n",
       "      <td>400308</td>\n",
       "    </tr>\n",
       "  </tbody>\n",
       "</table>\n",
       "<p>96 rows × 3 columns</p>\n",
       "</div>"
      ],
      "text/plain": [
       "   Location of Breached Information  Breach Submission Year  \\\n",
       "0                  Desktop Computer                    2009   \n",
       "1                  Desktop Computer                    2010   \n",
       "2                  Desktop Computer                    2011   \n",
       "3                  Desktop Computer                    2012   \n",
       "4                  Desktop Computer                    2013   \n",
       "..                              ...                     ...   \n",
       "91                      Paper/Films                    2016   \n",
       "92                      Paper/Films                    2017   \n",
       "93                      Paper/Films                    2018   \n",
       "94                      Paper/Films                    2019   \n",
       "95                      Paper/Films                    2020   \n",
       "\n",
       "    Individuals Affected  \n",
       "0                  18377  \n",
       "1                 244060  \n",
       "2                1978309  \n",
       "3                  72834  \n",
       "4                4304634  \n",
       "..                   ...  \n",
       "91                898003  \n",
       "92                135221  \n",
       "93               1162335  \n",
       "94                163021  \n",
       "95                400308  \n",
       "\n",
       "[96 rows x 3 columns]"
      ]
     },
     "execution_count": 73,
     "metadata": {},
     "output_type": "execute_result"
    }
   ],
   "source": [
    "individuals_affected_by_breach_location = pd.DataFrame(df.groupby(['Location of Breached Information', 'Breach Submission Year'])[['Individuals Affected']].sum()).reset_index()\n",
    "individuals_affected_by_breach_location['Individuals Affected'] = individuals_affected_by_breach_location['Individuals Affected'].fillna(0).astype(np.int64)\n",
    "individuals_affected_by_breach_location"
   ]
  },
  {
   "cell_type": "code",
   "execution_count": 74,
   "metadata": {},
   "outputs": [
    {
     "data": {
      "text/plain": [
       "Text(0.5, 1.0, 'Individuals Affected by Data Breach Locations')"
      ]
     },
     "execution_count": 74,
     "metadata": {},
     "output_type": "execute_result"
    },
    {
     "data": {
      "image/png": "[encoded data removed]",
      "text/plain": [
       "<Figure size 1080x576 with 1 Axes>"
      ]
     },
     "metadata": {
      "needs_background": "light"
     },
     "output_type": "display_data"
    }
   ],
   "source": [
    "fig, ax = plt.subplots(figsize=(15,8))\n",
    "sns.barplot(x='Breach Submission Year', y='Individuals Affected', hue='Location of Breached Information', ci=None, ax=ax.ticklabel_format(useOffset=False, style='plain'), data=individuals_affected_by_breach_location).set_title('Individuals Affected by Data Breach Locations')"
   ]
  },
  {
   "cell_type": "code",
   "execution_count": 75,
   "metadata": {},
   "outputs": [
    {
     "data": {
      "text/html": [
       "<div>\n",
       "<style scoped>\n",
       "    .dataframe tbody tr th:only-of-type {\n",
       "        vertical-align: middle;\n",
       "    }\n",
       "\n",
       "    .dataframe tbody tr th {\n",
       "        vertical-align: top;\n",
       "    }\n",
       "\n",
       "    .dataframe thead th {\n",
       "        text-align: right;\n",
       "    }\n",
       "</style>\n",
       "<table border=\"1\" class=\"dataframe\">\n",
       "  <thead>\n",
       "    <tr style=\"text-align: right;\">\n",
       "      <th></th>\n",
       "      <th>State</th>\n",
       "      <th>Individuals Affected</th>\n",
       "    </tr>\n",
       "  </thead>\n",
       "  <tbody>\n",
       "    <tr>\n",
       "      <th>0</th>\n",
       "      <td>IN</td>\n",
       "      <td>80975428</td>\n",
       "    </tr>\n",
       "    <tr>\n",
       "      <th>1</th>\n",
       "      <td>NY</td>\n",
       "      <td>18673523</td>\n",
       "    </tr>\n",
       "    <tr>\n",
       "      <th>2</th>\n",
       "      <td>NC</td>\n",
       "      <td>13770712</td>\n",
       "    </tr>\n",
       "    <tr>\n",
       "      <th>3</th>\n",
       "      <td>TN</td>\n",
       "      <td>13744068</td>\n",
       "    </tr>\n",
       "    <tr>\n",
       "      <th>4</th>\n",
       "      <td>WA</td>\n",
       "      <td>13169118</td>\n",
       "    </tr>\n",
       "    <tr>\n",
       "      <th>5</th>\n",
       "      <td>MN</td>\n",
       "      <td>12737323</td>\n",
       "    </tr>\n",
       "    <tr>\n",
       "      <th>6</th>\n",
       "      <td>CA</td>\n",
       "      <td>10769191</td>\n",
       "    </tr>\n",
       "    <tr>\n",
       "      <th>7</th>\n",
       "      <td>VA</td>\n",
       "      <td>9962356</td>\n",
       "    </tr>\n",
       "    <tr>\n",
       "      <th>8</th>\n",
       "      <td>FL</td>\n",
       "      <td>7539098</td>\n",
       "    </tr>\n",
       "    <tr>\n",
       "      <th>9</th>\n",
       "      <td>TX</td>\n",
       "      <td>6260905</td>\n",
       "    </tr>\n",
       "    <tr>\n",
       "      <th>10</th>\n",
       "      <td>IL</td>\n",
       "      <td>5418244</td>\n",
       "    </tr>\n",
       "    <tr>\n",
       "      <th>11</th>\n",
       "      <td>MI</td>\n",
       "      <td>4341028</td>\n",
       "    </tr>\n",
       "    <tr>\n",
       "      <th>12</th>\n",
       "      <td>GA</td>\n",
       "      <td>3318427</td>\n",
       "    </tr>\n",
       "    <tr>\n",
       "      <th>13</th>\n",
       "      <td>MD</td>\n",
       "      <td>2831631</td>\n",
       "    </tr>\n",
       "    <tr>\n",
       "      <th>14</th>\n",
       "      <td>OR</td>\n",
       "      <td>1778824</td>\n",
       "    </tr>\n",
       "    <tr>\n",
       "      <th>15</th>\n",
       "      <td>OH</td>\n",
       "      <td>1756115</td>\n",
       "    </tr>\n",
       "    <tr>\n",
       "      <th>16</th>\n",
       "      <td>IA</td>\n",
       "      <td>1743106</td>\n",
       "    </tr>\n",
       "    <tr>\n",
       "      <th>17</th>\n",
       "      <td>NJ</td>\n",
       "      <td>1665193</td>\n",
       "    </tr>\n",
       "    <tr>\n",
       "      <th>18</th>\n",
       "      <td>PA</td>\n",
       "      <td>1571649</td>\n",
       "    </tr>\n",
       "    <tr>\n",
       "      <th>19</th>\n",
       "      <td>PR</td>\n",
       "      <td>1569012</td>\n",
       "    </tr>\n",
       "    <tr>\n",
       "      <th>20</th>\n",
       "      <td>AL</td>\n",
       "      <td>1546482</td>\n",
       "    </tr>\n",
       "    <tr>\n",
       "      <th>21</th>\n",
       "      <td>MO</td>\n",
       "      <td>1502072</td>\n",
       "    </tr>\n",
       "    <tr>\n",
       "      <th>22</th>\n",
       "      <td>AZ</td>\n",
       "      <td>1425941</td>\n",
       "    </tr>\n",
       "    <tr>\n",
       "      <th>23</th>\n",
       "      <td>CT</td>\n",
       "      <td>1277985</td>\n",
       "    </tr>\n",
       "    <tr>\n",
       "      <th>24</th>\n",
       "      <td>KY</td>\n",
       "      <td>1272382</td>\n",
       "    </tr>\n",
       "    <tr>\n",
       "      <th>25</th>\n",
       "      <td>MT</td>\n",
       "      <td>1192381</td>\n",
       "    </tr>\n",
       "    <tr>\n",
       "      <th>26</th>\n",
       "      <td>SC</td>\n",
       "      <td>1160461</td>\n",
       "    </tr>\n",
       "    <tr>\n",
       "      <th>27</th>\n",
       "      <td>UT</td>\n",
       "      <td>1081886</td>\n",
       "    </tr>\n",
       "    <tr>\n",
       "      <th>28</th>\n",
       "      <td>MA</td>\n",
       "      <td>1078912</td>\n",
       "    </tr>\n",
       "    <tr>\n",
       "      <th>29</th>\n",
       "      <td>AR</td>\n",
       "      <td>595737</td>\n",
       "    </tr>\n",
       "    <tr>\n",
       "      <th>30</th>\n",
       "      <td>OK</td>\n",
       "      <td>480783</td>\n",
       "    </tr>\n",
       "    <tr>\n",
       "      <th>31</th>\n",
       "      <td>NM</td>\n",
       "      <td>469652</td>\n",
       "    </tr>\n",
       "    <tr>\n",
       "      <th>32</th>\n",
       "      <td>WI</td>\n",
       "      <td>404778</td>\n",
       "    </tr>\n",
       "    <tr>\n",
       "      <th>33</th>\n",
       "      <td>CO</td>\n",
       "      <td>348438</td>\n",
       "    </tr>\n",
       "    <tr>\n",
       "      <th>34</th>\n",
       "      <td>NV</td>\n",
       "      <td>289614</td>\n",
       "    </tr>\n",
       "    <tr>\n",
       "      <th>35</th>\n",
       "      <td>NH</td>\n",
       "      <td>284753</td>\n",
       "    </tr>\n",
       "    <tr>\n",
       "      <th>36</th>\n",
       "      <td>NE</td>\n",
       "      <td>278808</td>\n",
       "    </tr>\n",
       "    <tr>\n",
       "      <th>37</th>\n",
       "      <td>KS</td>\n",
       "      <td>243774</td>\n",
       "    </tr>\n",
       "    <tr>\n",
       "      <th>38</th>\n",
       "      <td>MS</td>\n",
       "      <td>198978</td>\n",
       "    </tr>\n",
       "    <tr>\n",
       "      <th>39</th>\n",
       "      <td>LA</td>\n",
       "      <td>173188</td>\n",
       "    </tr>\n",
       "    <tr>\n",
       "      <th>40</th>\n",
       "      <td>RI</td>\n",
       "      <td>123629</td>\n",
       "    </tr>\n",
       "    <tr>\n",
       "      <th>41</th>\n",
       "      <td>DE</td>\n",
       "      <td>98947</td>\n",
       "    </tr>\n",
       "    <tr>\n",
       "      <th>42</th>\n",
       "      <td>ME</td>\n",
       "      <td>83363</td>\n",
       "    </tr>\n",
       "    <tr>\n",
       "      <th>43</th>\n",
       "      <td>VT</td>\n",
       "      <td>77788</td>\n",
       "    </tr>\n",
       "    <tr>\n",
       "      <th>44</th>\n",
       "      <td>WV</td>\n",
       "      <td>77246</td>\n",
       "    </tr>\n",
       "    <tr>\n",
       "      <th>45</th>\n",
       "      <td>AK</td>\n",
       "      <td>73784</td>\n",
       "    </tr>\n",
       "    <tr>\n",
       "      <th>46</th>\n",
       "      <td>DC</td>\n",
       "      <td>68815</td>\n",
       "    </tr>\n",
       "    <tr>\n",
       "      <th>47</th>\n",
       "      <td>WY</td>\n",
       "      <td>62621</td>\n",
       "    </tr>\n",
       "    <tr>\n",
       "      <th>48</th>\n",
       "      <td>HI</td>\n",
       "      <td>62596</td>\n",
       "    </tr>\n",
       "    <tr>\n",
       "      <th>49</th>\n",
       "      <td>SD</td>\n",
       "      <td>36900</td>\n",
       "    </tr>\n",
       "    <tr>\n",
       "      <th>50</th>\n",
       "      <td>ID</td>\n",
       "      <td>29024</td>\n",
       "    </tr>\n",
       "    <tr>\n",
       "      <th>51</th>\n",
       "      <td>ND</td>\n",
       "      <td>7515</td>\n",
       "    </tr>\n",
       "  </tbody>\n",
       "</table>\n",
       "</div>"
      ],
      "text/plain": [
       "   State  Individuals Affected\n",
       "0     IN              80975428\n",
       "1     NY              18673523\n",
       "2     NC              13770712\n",
       "3     TN              13744068\n",
       "4     WA              13169118\n",
       "5     MN              12737323\n",
       "6     CA              10769191\n",
       "7     VA               9962356\n",
       "8     FL               7539098\n",
       "9     TX               6260905\n",
       "10    IL               5418244\n",
       "11    MI               4341028\n",
       "12    GA               3318427\n",
       "13    MD               2831631\n",
       "14    OR               1778824\n",
       "15    OH               1756115\n",
       "16    IA               1743106\n",
       "17    NJ               1665193\n",
       "18    PA               1571649\n",
       "19    PR               1569012\n",
       "20    AL               1546482\n",
       "21    MO               1502072\n",
       "22    AZ               1425941\n",
       "23    CT               1277985\n",
       "24    KY               1272382\n",
       "25    MT               1192381\n",
       "26    SC               1160461\n",
       "27    UT               1081886\n",
       "28    MA               1078912\n",
       "29    AR                595737\n",
       "30    OK                480783\n",
       "31    NM                469652\n",
       "32    WI                404778\n",
       "33    CO                348438\n",
       "34    NV                289614\n",
       "35    NH                284753\n",
       "36    NE                278808\n",
       "37    KS                243774\n",
       "38    MS                198978\n",
       "39    LA                173188\n",
       "40    RI                123629\n",
       "41    DE                 98947\n",
       "42    ME                 83363\n",
       "43    VT                 77788\n",
       "44    WV                 77246\n",
       "45    AK                 73784\n",
       "46    DC                 68815\n",
       "47    WY                 62621\n",
       "48    HI                 62596\n",
       "49    SD                 36900\n",
       "50    ID                 29024\n",
       "51    ND                  7515"
      ]
     },
     "execution_count": 75,
     "metadata": {},
     "output_type": "execute_result"
    }
   ],
   "source": [
    "individuals_affected_by_state = df.groupby('State')[['Individuals Affected']].sum().reset_index()\n",
    "individuals_affected_by_state = individuals_affected_by_state.sort_values(by='Individuals Affected', ascending=False).reset_index(drop=True)\n",
    "individuals_affected_by_state"
   ]
  },
  {
   "cell_type": "code",
   "execution_count": 76,
   "metadata": {},
   "outputs": [
    {
     "data": {
      "text/plain": [
       "[Text(0, 0.5, 'Number of Breaches')]"
      ]
     },
     "execution_count": 76,
     "metadata": {},
     "output_type": "execute_result"
    },
    {
     "data": {
      "image/png": "[encoded data removed]",
      "text/plain": [
       "<Figure size 1080x576 with 1 Axes>"
      ]
     },
     "metadata": {
      "needs_background": "light"
     },
     "output_type": "display_data"
    }
   ],
   "source": [
    "fig, ax = plt.subplots(figsize=(15,8))\n",
    "sns.barplot(x='State', y='Individuals Affected', ci=False, ax=ax.ticklabel_format(useOffset=False, style='plain'), data=individuals_affected_by_state).set_title('Individuals Affected by Data Breach by State')\n",
    "ax.set(ylabel='Number of Breaches')"
   ]
  },
  {
   "cell_type": "code",
   "execution_count": 77,
   "metadata": {},
   "outputs": [
    {
     "data": {
      "application/vnd.plotly.v1+json": {
       "config": {
        "linkText": "Export to plot.ly",
        "plotlyServerURL": "https://plot.ly",
        "showLink": false
       },
       "data": [
        {
         "colorbar": {
          "title": {
           "text": "Individuals Affected"
          }
         },
         "colorscale": [
          [
           0,
           "rgb(12,51,131)"
          ],
          [
           0.25,
           "rgb(10,136,186)"
          ],
          [
           0.5,
           "rgb(242,211,56)"
          ],
          [
           0.75,
           "rgb(242,143,56)"
          ],
          [
           1,
           "rgb(217,30,30)"
          ]
         ],
         "locationmode": "USA-states",
         "locations": [
          "IN",
          "NY",
          "NC",
          "TN",
          "WA",
          "MN",
          "CA",
          "VA",
          "FL",
          "TX",
          "IL",
          "MI",
          "GA",
          "MD",
          "OR",
          "OH",
          "IA",
          "NJ",
          "PA",
          "PR",
          "AL",
          "MO",
          "AZ",
          "CT",
          "KY",
          "MT",
          "SC",
          "UT",
          "MA",
          "AR",
          "OK",
          "NM",
          "WI",
          "CO",
          "NV",
          "NH",
          "NE",
          "KS",
          "MS",
          "LA",
          "RI",
          "DE",
          "ME",
          "VT",
          "WV",
          "AK",
          "DC",
          "WY",
          "HI",
          "SD",
          "ID",
          "ND"
         ],
         "type": "choropleth",
         "z": [
          80975428,
          18673523,
          13770712,
          13744068,
          13169118,
          12737323,
          10769191,
          9962356,
          7539098,
          6260905,
          5418244,
          4341028,
          3318427,
          2831631,
          1778824,
          1756115,
          1743106,
          1665193,
          1571649,
          1569012,
          1546482,
          1502072,
          1425941,
          1277985,
          1272382,
          1192381,
          1160461,
          1081886,
          1078912,
          595737,
          480783,
          469652,
          404778,
          348438,
          289614,
          284753,
          278808,
          243774,
          198978,
          173188,
          123629,
          98947,
          83363,
          77788,
          77246,
          73784,
          68815,
          62621,
          62596,
          36900,
          29024,
          7515
         ]
        }
       ],
       "layout": {
        "geo": {
         "projection": {
          "type": "albers usa"
         },
         "scope": "usa"
        },
        "template": {
         "data": {
          "bar": [
           {
            "error_x": {
             "color": "#2a3f5f"
            },
            "error_y": {
             "color": "#2a3f5f"
            },
            "marker": {
             "line": {
              "color": "#E5ECF6",
              "width": 0.5
             },
             "pattern": {
              "fillmode": "overlay",
              "size": 10,
              "solidity": 0.2
             }
            },
            "type": "bar"
           }
          ],
          "barpolar": [
           {
            "marker": {
             "line": {
              "color": "#E5ECF6",
              "width": 0.5
             },
             "pattern": {
              "fillmode": "overlay",
              "size": 10,
              "solidity": 0.2
             }
            },
            "type": "barpolar"
           }
          ],
          "carpet": [
           {
            "aaxis": {
             "endlinecolor": "#2a3f5f",
             "gridcolor": "white",
             "linecolor": "white",
             "minorgridcolor": "white",
             "startlinecolor": "#2a3f5f"
            },
            "baxis": {
             "endlinecolor": "#2a3f5f",
             "gridcolor": "white",
             "linecolor": "white",
             "minorgridcolor": "white",
             "startlinecolor": "#2a3f5f"
            },
            "type": "carpet"
           }
          ],
          "choropleth": [
           {
            "colorbar": {
             "outlinewidth": 0,
             "ticks": ""
            },
            "type": "choropleth"
           }
          ],
          "contour": [
           {
            "colorbar": {
             "outlinewidth": 0,
             "ticks": ""
            },
            "colorscale": [
             [
              0,
              "#0d0887"
             ],
             [
              0.1111111111111111,
              "#46039f"
             ],
             [
              0.2222222222222222,
              "#7201a8"
             ],
             [
              0.3333333333333333,
              "#9c179e"
             ],
             [
              0.4444444444444444,
              "#bd3786"
             ],
             [
              0.5555555555555556,
              "#d8576b"
             ],
             [
              0.6666666666666666,
              "#ed7953"
             ],
             [
              0.7777777777777778,
              "#fb9f3a"
             ],
             [
              0.8888888888888888,
              "#fdca26"
             ],
             [
              1,
              "#f0f921"
             ]
            ],
            "type": "contour"
           }
          ],
          "contourcarpet": [
           {
            "colorbar": {
             "outlinewidth": 0,
             "ticks": ""
            },
            "type": "contourcarpet"
           }
          ],
          "heatmap": [
           {
            "colorbar": {
             "outlinewidth": 0,
             "ticks": ""
            },
            "colorscale": [
             [
              0,
              "#0d0887"
             ],
             [
              0.1111111111111111,
              "#46039f"
             ],
             [
              0.2222222222222222,
              "#7201a8"
             ],
             [
              0.3333333333333333,
              "#9c179e"
             ],
             [
              0.4444444444444444,
              "#bd3786"
             ],
             [
              0.5555555555555556,
              "#d8576b"
             ],
             [
              0.6666666666666666,
              "#ed7953"
             ],
             [
              0.7777777777777778,
              "#fb9f3a"
             ],
             [
              0.8888888888888888,
              "#fdca26"
             ],
             [
              1,
              "#f0f921"
             ]
            ],
            "type": "heatmap"
           }
          ],
          "heatmapgl": [
           {
            "colorbar": {
             "outlinewidth": 0,
             "ticks": ""
            },
            "colorscale": [
             [
              0,
              "#0d0887"
             ],
             [
              0.1111111111111111,
              "#46039f"
             ],
             [
              0.2222222222222222,
              "#7201a8"
             ],
             [
              0.3333333333333333,
              "#9c179e"
             ],
             [
              0.4444444444444444,
              "#bd3786"
             ],
             [
              0.5555555555555556,
              "#d8576b"
             ],
             [
              0.6666666666666666,
              "#ed7953"
             ],
             [
              0.7777777777777778,
              "#fb9f3a"
             ],
             [
              0.8888888888888888,
              "#fdca26"
             ],
             [
              1,
              "#f0f921"
             ]
            ],
            "type": "heatmapgl"
           }
          ],
          "histogram": [
           {
            "marker": {
             "pattern": {
              "fillmode": "overlay",
              "size": 10,
              "solidity": 0.2
             }
            },
            "type": "histogram"
           }
          ],
          "histogram2d": [
           {
            "colorbar": {
             "outlinewidth": 0,
             "ticks": ""
            },
            "colorscale": [
             [
              0,
              "#0d0887"
             ],
             [
              0.1111111111111111,
              "#46039f"
             ],
             [
              0.2222222222222222,
              "#7201a8"
             ],
             [
              0.3333333333333333,
              "#9c179e"
             ],
             [
              0.4444444444444444,
              "#bd3786"
             ],
             [
              0.5555555555555556,
              "#d8576b"
             ],
             [
              0.6666666666666666,
              "#ed7953"
             ],
             [
              0.7777777777777778,
              "#fb9f3a"
             ],
             [
              0.8888888888888888,
              "#fdca26"
             ],
             [
              1,
              "#f0f921"
             ]
            ],
            "type": "histogram2d"
           }
          ],
          "histogram2dcontour": [
           {
            "colorbar": {
             "outlinewidth": 0,
             "ticks": ""
            },
            "colorscale": [
             [
              0,
              "#0d0887"
             ],
             [
              0.1111111111111111,
              "#46039f"
             ],
             [
              0.2222222222222222,
              "#7201a8"
             ],
             [
              0.3333333333333333,
              "#9c179e"
             ],
             [
              0.4444444444444444,
              "#bd3786"
             ],
             [
              0.5555555555555556,
              "#d8576b"
             ],
             [
              0.6666666666666666,
              "#ed7953"
             ],
             [
              0.7777777777777778,
              "#fb9f3a"
             ],
             [
              0.8888888888888888,
              "#fdca26"
             ],
             [
              1,
              "#f0f921"
             ]
            ],
            "type": "histogram2dcontour"
           }
          ],
          "mesh3d": [
           {
            "colorbar": {
             "outlinewidth": 0,
             "ticks": ""
            },
            "type": "mesh3d"
           }
          ],
          "parcoords": [
           {
            "line": {
             "colorbar": {
              "outlinewidth": 0,
              "ticks": ""
             }
            },
            "type": "parcoords"
           }
          ],
          "pie": [
           {
            "automargin": true,
            "type": "pie"
           }
          ],
          "scatter": [
           {
            "marker": {
             "colorbar": {
              "outlinewidth": 0,
              "ticks": ""
             }
            },
            "type": "scatter"
           }
          ],
          "scatter3d": [
           {
            "line": {
             "colorbar": {
              "outlinewidth": 0,
              "ticks": ""
             }
            },
            "marker": {
             "colorbar": {
              "outlinewidth": 0,
              "ticks": ""
             }
            },
            "type": "scatter3d"
           }
          ],
          "scattercarpet": [
           {
            "marker": {
             "colorbar": {
              "outlinewidth": 0,
              "ticks": ""
             }
            },
            "type": "scattercarpet"
           }
          ],
          "scattergeo": [
           {
            "marker": {
             "colorbar": {
              "outlinewidth": 0,
              "ticks": ""
             }
            },
            "type": "scattergeo"
           }
          ],
          "scattergl": [
           {
            "marker": {
             "colorbar": {
              "outlinewidth": 0,
              "ticks": ""
             }
            },
            "type": "scattergl"
           }
          ],
          "scattermapbox": [
           {
            "marker": {
             "colorbar": {
              "outlinewidth": 0,
              "ticks": ""
             }
            },
            "type": "scattermapbox"
           }
          ],
          "scatterpolar": [
           {
            "marker": {
             "colorbar": {
              "outlinewidth": 0,
              "ticks": ""
             }
            },
            "type": "scatterpolar"
           }
          ],
          "scatterpolargl": [
           {
            "marker": {
             "colorbar": {
              "outlinewidth": 0,
              "ticks": ""
             }
            },
            "type": "scatterpolargl"
           }
          ],
          "scatterternary": [
           {
            "marker": {
             "colorbar": {
              "outlinewidth": 0,
              "ticks": ""
             }
            },
            "type": "scatterternary"
           }
          ],
          "surface": [
           {
            "colorbar": {
             "outlinewidth": 0,
             "ticks": ""
            },
            "colorscale": [
             [
              0,
              "#0d0887"
             ],
             [
              0.1111111111111111,
              "#46039f"
             ],
             [
              0.2222222222222222,
              "#7201a8"
             ],
             [
              0.3333333333333333,
              "#9c179e"
             ],
             [
              0.4444444444444444,
              "#bd3786"
             ],
             [
              0.5555555555555556,
              "#d8576b"
             ],
             [
              0.6666666666666666,
              "#ed7953"
             ],
             [
              0.7777777777777778,
              "#fb9f3a"
             ],
             [
              0.8888888888888888,
              "#fdca26"
             ],
             [
              1,
              "#f0f921"
             ]
            ],
            "type": "surface"
           }
          ],
          "table": [
           {
            "cells": {
             "fill": {
              "color": "#EBF0F8"
             },
             "line": {
              "color": "white"
             }
            },
            "header": {
             "fill": {
              "color": "#C8D4E3"
             },
             "line": {
              "color": "white"
             }
            },
            "type": "table"
           }
          ]
         },
         "layout": {
          "annotationdefaults": {
           "arrowcolor": "#2a3f5f",
           "arrowhead": 0,
           "arrowwidth": 1
          },
          "autotypenumbers": "strict",
          "coloraxis": {
           "colorbar": {
            "outlinewidth": 0,
            "ticks": ""
           }
          },
          "colorscale": {
           "diverging": [
            [
             0,
             "#8e0152"
            ],
            [
             0.1,
             "#c51b7d"
            ],
            [
             0.2,
             "#de77ae"
            ],
            [
             0.3,
             "#f1b6da"
            ],
            [
             0.4,
             "#fde0ef"
            ],
            [
             0.5,
             "#f7f7f7"
            ],
            [
             0.6,
             "#e6f5d0"
            ],
            [
             0.7,
             "#b8e186"
            ],
            [
             0.8,
             "#7fbc41"
            ],
            [
             0.9,
             "#4d9221"
            ],
            [
             1,
             "#276419"
            ]
           ],
           "sequential": [
            [
             0,
             "#0d0887"
            ],
            [
             0.1111111111111111,
             "#46039f"
            ],
            [
             0.2222222222222222,
             "#7201a8"
            ],
            [
             0.3333333333333333,
             "#9c179e"
            ],
            [
             0.4444444444444444,
             "#bd3786"
            ],
            [
             0.5555555555555556,
             "#d8576b"
            ],
            [
             0.6666666666666666,
             "#ed7953"
            ],
            [
             0.7777777777777778,
             "#fb9f3a"
            ],
            [
             0.8888888888888888,
             "#fdca26"
            ],
            [
             1,
             "#f0f921"
            ]
           ],
           "sequentialminus": [
            [
             0,
             "#0d0887"
            ],
            [
             0.1111111111111111,
             "#46039f"
            ],
            [
             0.2222222222222222,
             "#7201a8"
            ],
            [
             0.3333333333333333,
             "#9c179e"
            ],
            [
             0.4444444444444444,
             "#bd3786"
            ],
            [
             0.5555555555555556,
             "#d8576b"
            ],
            [
             0.6666666666666666,
             "#ed7953"
            ],
            [
             0.7777777777777778,
             "#fb9f3a"
            ],
            [
             0.8888888888888888,
             "#fdca26"
            ],
            [
             1,
             "#f0f921"
            ]
           ]
          },
          "colorway": [
           "#636efa",
           "#EF553B",
           "#00cc96",
           "#ab63fa",
           "#FFA15A",
           "#19d3f3",
           "#FF6692",
           "#B6E880",
           "#FF97FF",
           "#FECB52"
          ],
          "font": {
           "color": "#2a3f5f"
          },
          "geo": {
           "bgcolor": "white",
           "lakecolor": "white",
           "landcolor": "#E5ECF6",
           "showlakes": true,
           "showland": true,
           "subunitcolor": "white"
          },
          "hoverlabel": {
           "align": "left"
          },
          "hovermode": "closest",
          "mapbox": {
           "style": "light"
          },
          "paper_bgcolor": "white",
          "plot_bgcolor": "#E5ECF6",
          "polar": {
           "angularaxis": {
            "gridcolor": "white",
            "linecolor": "white",
            "ticks": ""
           },
           "bgcolor": "#E5ECF6",
           "radialaxis": {
            "gridcolor": "white",
            "linecolor": "white",
            "ticks": ""
           }
          },
          "scene": {
           "xaxis": {
            "backgroundcolor": "#E5ECF6",
            "gridcolor": "white",
            "gridwidth": 2,
            "linecolor": "white",
            "showbackground": true,
            "ticks": "",
            "zerolinecolor": "white"
           },
           "yaxis": {
            "backgroundcolor": "#E5ECF6",
            "gridcolor": "white",
            "gridwidth": 2,
            "linecolor": "white",
            "showbackground": true,
            "ticks": "",
            "zerolinecolor": "white"
           },
           "zaxis": {
            "backgroundcolor": "#E5ECF6",
            "gridcolor": "white",
            "gridwidth": 2,
            "linecolor": "white",
            "showbackground": true,
            "ticks": "",
            "zerolinecolor": "white"
           }
          },
          "shapedefaults": {
           "line": {
            "color": "#2a3f5f"
           }
          },
          "ternary": {
           "aaxis": {
            "gridcolor": "white",
            "linecolor": "white",
            "ticks": ""
           },
           "baxis": {
            "gridcolor": "white",
            "linecolor": "white",
            "ticks": ""
           },
           "bgcolor": "#E5ECF6",
           "caxis": {
            "gridcolor": "white",
            "linecolor": "white",
            "ticks": ""
           }
          },
          "title": {
           "x": 0.05
          },
          "xaxis": {
           "automargin": true,
           "gridcolor": "white",
           "linecolor": "white",
           "ticks": "",
           "title": {
            "standoff": 15
           },
           "zerolinecolor": "white",
           "zerolinewidth": 2
          },
          "yaxis": {
           "automargin": true,
           "gridcolor": "white",
           "linecolor": "white",
           "ticks": "",
           "title": {
            "standoff": 15
           },
           "zerolinecolor": "white",
           "zerolinewidth": 2
          }
         }
        },
        "title": {
         "text": "Individuals Affected by Data Breaches in the USA by State"
        }
       }
      },
      "text/html": [
       "<div>                            <div id=\"1b6b5708-4d98-443e-8f55-6dff07b453d2\" class=\"plotly-graph-div\" style=\"height:525px; width:100%;\"></div>            <script type=\"text/javascript\">                require([\"plotly\"], function(Plotly) {                    window.PLOTLYENV=window.PLOTLYENV || {};                                    if (document.getElementById(\"1b6b5708-4d98-443e-8f55-6dff07b453d2\")) {                    Plotly.newPlot(                        \"1b6b5708-4d98-443e-8f55-6dff07b453d2\",                        [{\"colorbar\":{\"title\":{\"text\":\"Individuals Affected\"}},\"colorscale\":[[0.0,\"rgb(12,51,131)\"],[0.25,\"rgb(10,136,186)\"],[0.5,\"rgb(242,211,56)\"],[0.75,\"rgb(242,143,56)\"],[1.0,\"rgb(217,30,30)\"]],\"locationmode\":\"USA-states\",\"locations\":[\"IN\",\"NY\",\"NC\",\"TN\",\"WA\",\"MN\",\"CA\",\"VA\",\"FL\",\"TX\",\"IL\",\"MI\",\"GA\",\"MD\",\"OR\",\"OH\",\"IA\",\"NJ\",\"PA\",\"PR\",\"AL\",\"MO\",\"AZ\",\"CT\",\"KY\",\"MT\",\"SC\",\"UT\",\"MA\",\"AR\",\"OK\",\"NM\",\"WI\",\"CO\",\"NV\",\"NH\",\"NE\",\"KS\",\"MS\",\"LA\",\"RI\",\"DE\",\"ME\",\"VT\",\"WV\",\"AK\",\"DC\",\"WY\",\"HI\",\"SD\",\"ID\",\"ND\"],\"type\":\"choropleth\",\"z\":[80975428,18673523,13770712,13744068,13169118,12737323,10769191,9962356,7539098,6260905,5418244,4341028,3318427,2831631,1778824,1756115,1743106,1665193,1571649,1569012,1546482,1502072,1425941,1277985,1272382,1192381,1160461,1081886,1078912,595737,480783,469652,404778,348438,289614,284753,278808,243774,198978,173188,123629,98947,83363,77788,77246,73784,68815,62621,62596,36900,29024,7515]}],                        {\"geo\":{\"projection\":{\"type\":\"albers usa\"},\"scope\":\"usa\"},\"template\":{\"data\":{\"bar\":[{\"error_x\":{\"color\":\"#2a3f5f\"},\"error_y\":{\"color\":\"#2a3f5f\"},\"marker\":{\"line\":{\"color\":\"#E5ECF6\",\"width\":0.5},\"pattern\":{\"fillmode\":\"overlay\",\"size\":10,\"solidity\":0.2}},\"type\":\"bar\"}],\"barpolar\":[{\"marker\":{\"line\":{\"color\":\"#E5ECF6\",\"width\":0.5},\"pattern\":{\"fillmode\":\"overlay\",\"size\":10,\"solidity\":0.2}},\"type\":\"barpolar\"}],\"carpet\":[{\"aaxis\":{\"endlinecolor\":\"#2a3f5f\",\"gridcolor\":\"white\",\"linecolor\":\"white\",\"minorgridcolor\":\"white\",\"startlinecolor\":\"#2a3f5f\"},\"baxis\":{\"endlinecolor\":\"#2a3f5f\",\"gridcolor\":\"white\",\"linecolor\":\"white\",\"minorgridcolor\":\"white\",\"startlinecolor\":\"#2a3f5f\"},\"type\":\"carpet\"}],\"choropleth\":[{\"colorbar\":{\"outlinewidth\":0,\"ticks\":\"\"},\"type\":\"choropleth\"}],\"contour\":[{\"colorbar\":{\"outlinewidth\":0,\"ticks\":\"\"},\"colorscale\":[[0.0,\"#0d0887\"],[0.1111111111111111,\"#46039f\"],[0.2222222222222222,\"#7201a8\"],[0.3333333333333333,\"#9c179e\"],[0.4444444444444444,\"#bd3786\"],[0.5555555555555556,\"#d8576b\"],[0.6666666666666666,\"#ed7953\"],[0.7777777777777778,\"#fb9f3a\"],[0.8888888888888888,\"#fdca26\"],[1.0,\"#f0f921\"]],\"type\":\"contour\"}],\"contourcarpet\":[{\"colorbar\":{\"outlinewidth\":0,\"ticks\":\"\"},\"type\":\"contourcarpet\"}],\"heatmap\":[{\"colorbar\":{\"outlinewidth\":0,\"ticks\":\"\"},\"colorscale\":[[0.0,\"#0d0887\"],[0.1111111111111111,\"#46039f\"],[0.2222222222222222,\"#7201a8\"],[0.3333333333333333,\"#9c179e\"],[0.4444444444444444,\"#bd3786\"],[0.5555555555555556,\"#d8576b\"],[0.6666666666666666,\"#ed7953\"],[0.7777777777777778,\"#fb9f3a\"],[0.8888888888888888,\"#fdca26\"],[1.0,\"#f0f921\"]],\"type\":\"heatmap\"}],\"heatmapgl\":[{\"colorbar\":{\"outlinewidth\":0,\"ticks\":\"\"},\"colorscale\":[[0.0,\"#0d0887\"],[0.1111111111111111,\"#46039f\"],[0.2222222222222222,\"#7201a8\"],[0.3333333333333333,\"#9c179e\"],[0.4444444444444444,\"#bd3786\"],[0.5555555555555556,\"#d8576b\"],[0.6666666666666666,\"#ed7953\"],[0.7777777777777778,\"#fb9f3a\"],[0.8888888888888888,\"#fdca26\"],[1.0,\"#f0f921\"]],\"type\":\"heatmapgl\"}],\"histogram\":[{\"marker\":{\"pattern\":{\"fillmode\":\"overlay\",\"size\":10,\"solidity\":0.2}},\"type\":\"histogram\"}],\"histogram2d\":[{\"colorbar\":{\"outlinewidth\":0,\"ticks\":\"\"},\"colorscale\":[[0.0,\"#0d0887\"],[0.1111111111111111,\"#46039f\"],[0.2222222222222222,\"#7201a8\"],[0.3333333333333333,\"#9c179e\"],[0.4444444444444444,\"#bd3786\"],[0.5555555555555556,\"#d8576b\"],[0.6666666666666666,\"#ed7953\"],[0.7777777777777778,\"#fb9f3a\"],[0.8888888888888888,\"#fdca26\"],[1.0,\"#f0f921\"]],\"type\":\"histogram2d\"}],\"histogram2dcontour\":[{\"colorbar\":{\"outlinewidth\":0,\"ticks\":\"\"},\"colorscale\":[[0.0,\"#0d0887\"],[0.1111111111111111,\"#46039f\"],[0.2222222222222222,\"#7201a8\"],[0.3333333333333333,\"#9c179e\"],[0.4444444444444444,\"#bd3786\"],[0.5555555555555556,\"#d8576b\"],[0.6666666666666666,\"#ed7953\"],[0.7777777777777778,\"#fb9f3a\"],[0.8888888888888888,\"#fdca26\"],[1.0,\"#f0f921\"]],\"type\":\"histogram2dcontour\"}],\"mesh3d\":[{\"colorbar\":{\"outlinewidth\":0,\"ticks\":\"\"},\"type\":\"mesh3d\"}],\"parcoords\":[{\"line\":{\"colorbar\":{\"outlinewidth\":0,\"ticks\":\"\"}},\"type\":\"parcoords\"}],\"pie\":[{\"automargin\":true,\"type\":\"pie\"}],\"scatter\":[{\"marker\":{\"colorbar\":{\"outlinewidth\":0,\"ticks\":\"\"}},\"type\":\"scatter\"}],\"scatter3d\":[{\"line\":{\"colorbar\":{\"outlinewidth\":0,\"ticks\":\"\"}},\"marker\":{\"colorbar\":{\"outlinewidth\":0,\"ticks\":\"\"}},\"type\":\"scatter3d\"}],\"scattercarpet\":[{\"marker\":{\"colorbar\":{\"outlinewidth\":0,\"ticks\":\"\"}},\"type\":\"scattercarpet\"}],\"scattergeo\":[{\"marker\":{\"colorbar\":{\"outlinewidth\":0,\"ticks\":\"\"}},\"type\":\"scattergeo\"}],\"scattergl\":[{\"marker\":{\"colorbar\":{\"outlinewidth\":0,\"ticks\":\"\"}},\"type\":\"scattergl\"}],\"scattermapbox\":[{\"marker\":{\"colorbar\":{\"outlinewidth\":0,\"ticks\":\"\"}},\"type\":\"scattermapbox\"}],\"scatterpolar\":[{\"marker\":{\"colorbar\":{\"outlinewidth\":0,\"ticks\":\"\"}},\"type\":\"scatterpolar\"}],\"scatterpolargl\":[{\"marker\":{\"colorbar\":{\"outlinewidth\":0,\"ticks\":\"\"}},\"type\":\"scatterpolargl\"}],\"scatterternary\":[{\"marker\":{\"colorbar\":{\"outlinewidth\":0,\"ticks\":\"\"}},\"type\":\"scatterternary\"}],\"surface\":[{\"colorbar\":{\"outlinewidth\":0,\"ticks\":\"\"},\"colorscale\":[[0.0,\"#0d0887\"],[0.1111111111111111,\"#46039f\"],[0.2222222222222222,\"#7201a8\"],[0.3333333333333333,\"#9c179e\"],[0.4444444444444444,\"#bd3786\"],[0.5555555555555556,\"#d8576b\"],[0.6666666666666666,\"#ed7953\"],[0.7777777777777778,\"#fb9f3a\"],[0.8888888888888888,\"#fdca26\"],[1.0,\"#f0f921\"]],\"type\":\"surface\"}],\"table\":[{\"cells\":{\"fill\":{\"color\":\"#EBF0F8\"},\"line\":{\"color\":\"white\"}},\"header\":{\"fill\":{\"color\":\"#C8D4E3\"},\"line\":{\"color\":\"white\"}},\"type\":\"table\"}]},\"layout\":{\"annotationdefaults\":{\"arrowcolor\":\"#2a3f5f\",\"arrowhead\":0,\"arrowwidth\":1},\"autotypenumbers\":\"strict\",\"coloraxis\":{\"colorbar\":{\"outlinewidth\":0,\"ticks\":\"\"}},\"colorscale\":{\"diverging\":[[0,\"#8e0152\"],[0.1,\"#c51b7d\"],[0.2,\"#de77ae\"],[0.3,\"#f1b6da\"],[0.4,\"#fde0ef\"],[0.5,\"#f7f7f7\"],[0.6,\"#e6f5d0\"],[0.7,\"#b8e186\"],[0.8,\"#7fbc41\"],[0.9,\"#4d9221\"],[1,\"#276419\"]],\"sequential\":[[0.0,\"#0d0887\"],[0.1111111111111111,\"#46039f\"],[0.2222222222222222,\"#7201a8\"],[0.3333333333333333,\"#9c179e\"],[0.4444444444444444,\"#bd3786\"],[0.5555555555555556,\"#d8576b\"],[0.6666666666666666,\"#ed7953\"],[0.7777777777777778,\"#fb9f3a\"],[0.8888888888888888,\"#fdca26\"],[1.0,\"#f0f921\"]],\"sequentialminus\":[[0.0,\"#0d0887\"],[0.1111111111111111,\"#46039f\"],[0.2222222222222222,\"#7201a8\"],[0.3333333333333333,\"#9c179e\"],[0.4444444444444444,\"#bd3786\"],[0.5555555555555556,\"#d8576b\"],[0.6666666666666666,\"#ed7953\"],[0.7777777777777778,\"#fb9f3a\"],[0.8888888888888888,\"#fdca26\"],[1.0,\"#f0f921\"]]},\"colorway\":[\"#636efa\",\"#EF553B\",\"#00cc96\",\"#ab63fa\",\"#FFA15A\",\"#19d3f3\",\"#FF6692\",\"#B6E880\",\"#FF97FF\",\"#FECB52\"],\"font\":{\"color\":\"#2a3f5f\"},\"geo\":{\"bgcolor\":\"white\",\"lakecolor\":\"white\",\"landcolor\":\"#E5ECF6\",\"showlakes\":true,\"showland\":true,\"subunitcolor\":\"white\"},\"hoverlabel\":{\"align\":\"left\"},\"hovermode\":\"closest\",\"mapbox\":{\"style\":\"light\"},\"paper_bgcolor\":\"white\",\"plot_bgcolor\":\"#E5ECF6\",\"polar\":{\"angularaxis\":{\"gridcolor\":\"white\",\"linecolor\":\"white\",\"ticks\":\"\"},\"bgcolor\":\"#E5ECF6\",\"radialaxis\":{\"gridcolor\":\"white\",\"linecolor\":\"white\",\"ticks\":\"\"}},\"scene\":{\"xaxis\":{\"backgroundcolor\":\"#E5ECF6\",\"gridcolor\":\"white\",\"gridwidth\":2,\"linecolor\":\"white\",\"showbackground\":true,\"ticks\":\"\",\"zerolinecolor\":\"white\"},\"yaxis\":{\"backgroundcolor\":\"#E5ECF6\",\"gridcolor\":\"white\",\"gridwidth\":2,\"linecolor\":\"white\",\"showbackground\":true,\"ticks\":\"\",\"zerolinecolor\":\"white\"},\"zaxis\":{\"backgroundcolor\":\"#E5ECF6\",\"gridcolor\":\"white\",\"gridwidth\":2,\"linecolor\":\"white\",\"showbackground\":true,\"ticks\":\"\",\"zerolinecolor\":\"white\"}},\"shapedefaults\":{\"line\":{\"color\":\"#2a3f5f\"}},\"ternary\":{\"aaxis\":{\"gridcolor\":\"white\",\"linecolor\":\"white\",\"ticks\":\"\"},\"baxis\":{\"gridcolor\":\"white\",\"linecolor\":\"white\",\"ticks\":\"\"},\"bgcolor\":\"#E5ECF6\",\"caxis\":{\"gridcolor\":\"white\",\"linecolor\":\"white\",\"ticks\":\"\"}},\"title\":{\"x\":0.05},\"xaxis\":{\"automargin\":true,\"gridcolor\":\"white\",\"linecolor\":\"white\",\"ticks\":\"\",\"title\":{\"standoff\":15},\"zerolinecolor\":\"white\",\"zerolinewidth\":2},\"yaxis\":{\"automargin\":true,\"gridcolor\":\"white\",\"linecolor\":\"white\",\"ticks\":\"\",\"title\":{\"standoff\":15},\"zerolinecolor\":\"white\",\"zerolinewidth\":2}}},\"title\":{\"text\":\"Individuals Affected by Data Breaches in the USA by State\"}},                        {\"responsive\": true}                    ).then(function(){\n",
       "                            \n",
       "var gd = document.getElementById('1b6b5708-4d98-443e-8f55-6dff07b453d2');\n",
       "var x = new MutationObserver(function (mutations, observer) {{\n",
       "        var display = window.getComputedStyle(gd).display;\n",
       "        if (!display || display === 'none') {{\n",
       "            console.log([gd, 'removed!']);\n",
       "            Plotly.purge(gd);\n",
       "            observer.disconnect();\n",
       "        }}\n",
       "}});\n",
       "\n",
       "// Listen for the removal of the full notebook cells\n",
       "var notebookContainer = gd.closest('#notebook-container');\n",
       "if (notebookContainer) {{\n",
       "    x.observe(notebookContainer, {childList: true});\n",
       "}}\n",
       "\n",
       "// Listen for the clearing of the current output cell\n",
       "var outputEl = gd.closest('.output');\n",
       "if (outputEl) {{\n",
       "    x.observe(outputEl, {childList: true});\n",
       "}}\n",
       "\n",
       "                        })                };                });            </script>        </div>"
      ]
     },
     "metadata": {},
     "output_type": "display_data"
    }
   ],
   "source": [
    "data = dict (\n",
    "    type = 'choropleth',\n",
    "    colorscale = 'Portland',\n",
    "    colorbar = go.choropleth.ColorBar(title = \"Individuals Affected\"),\n",
    "    locations = individuals_affected_by_state['State'],\n",
    "    locationmode='USA-states',\n",
    "    z=individuals_affected_by_state['Individuals Affected'],\n",
    ")\n",
    "\n",
    "layout = dict(title = 'Individuals Affected by Data Breaches in the USA by State',\n",
    "              geo = dict(scope='usa',\n",
    "                        projection=dict(type ='albers usa'))\n",
    "             )\n",
    "\n",
    "fig = go.Figure(data=[data], layout=layout)\n",
    "py.offline.iplot(fig)"
   ]
  }
 ],
 "metadata": {
  "kernelspec": {
   "display_name": "Python 3 (ipykernel)",
   "language": "python",
   "name": "python3"
  },
  "language_info": {
   "codemirror_mode": {
    "name": "ipython",
    "version": 3
   },
   "file_extension": ".py",
   "mimetype": "text/x-python",
   "name": "python",
   "nbconvert_exporter": "python",
   "pygments_lexer": "ipython3",
   "version": "3.9.6"
  }
 },
 "nbformat": 4,
 "nbformat_minor": 2
}
